{
 "cells": [
  {
   "cell_type": "code",
   "execution_count": null,
   "metadata": {},
   "outputs": [],
   "source": [
    "double x = x + x\n",
    "quadruple x = double (double x)\n",
    "factorial n = product [1..n]\n",
    "average ns = sum ns `div` length ns"
   ]
  },
  {
   "cell_type": "code",
   "execution_count": null,
   "metadata": {},
   "outputs": [],
   "source": [
    "quadruple 10"
   ]
  },
  {
   "cell_type": "code",
   "execution_count": null,
   "metadata": {},
   "outputs": [],
   "source": [
    "take (double 2) [1,2,3,4,5]"
   ]
  },
  {
   "cell_type": "code",
   "execution_count": null,
   "metadata": {},
   "outputs": [],
   "source": [
    "factorial 10"
   ]
  },
  {
   "cell_type": "code",
   "execution_count": null,
   "metadata": {},
   "outputs": [],
   "source": [
    ":type factorial"
   ]
  },
  {
   "cell_type": "code",
   "execution_count": null,
   "metadata": {},
   "outputs": [],
   "source": [
    "average [1..5]"
   ]
  },
  {
   "cell_type": "code",
   "execution_count": null,
   "metadata": {},
   "outputs": [],
   "source": [
    ":type average"
   ]
  },
  {
   "cell_type": "code",
   "execution_count": null,
   "metadata": {},
   "outputs": [],
   "source": [
    "a = b + c\n",
    "  where\n",
    "    b = 1\n",
    "    c = 2\n",
    "d = a * 2"
   ]
  },
  {
   "cell_type": "code",
   "execution_count": null,
   "metadata": {},
   "outputs": [],
   "source": [
    "a = b + c\n",
    "  where\n",
    "   b = 1\n",
    "   c = 2\n",
    "d = a * 2"
   ]
  },
  {
   "cell_type": "code",
   "execution_count": null,
   "metadata": {},
   "outputs": [],
   "source": [
    "a = b + c\n",
    "          where\n",
    "    b = 1\n",
    "    c = 2\n",
    "d = a * 2"
   ]
  },
  {
   "cell_type": "code",
   "execution_count": null,
   "metadata": {},
   "outputs": [],
   "source": [
    "a = b + c\n",
    "  where\n",
    "    {b = 1;\n",
    "     c = 2}\n",
    "d = a * 2"
   ]
  },
  {
   "cell_type": "code",
   "execution_count": null,
   "metadata": {},
   "outputs": [],
   "source": [
    "let a = b + c\n",
    "     where\n",
    "    {b = 1;\n",
    "     c = 2};\n",
    "d = a * 2"
   ]
  },
  {
   "cell_type": "code",
   "execution_count": null,
   "metadata": {},
   "outputs": [],
   "source": [
    "let a = b + c where {b = 1; c = 2}; d = a * 2"
   ]
  },
  {
   "cell_type": "code",
   "execution_count": null,
   "metadata": {},
   "outputs": [],
   "source": [
    "-- a = b + c where {b = 1; c = 2}; d = a * 2 -- not working"
   ]
  },
  {
   "cell_type": "code",
   "execution_count": null,
   "metadata": {},
   "outputs": [],
   "source": [
    "{-\n",
    "multiline commenting\n",
    "-}"
   ]
  },
  {
   "cell_type": "code",
   "execution_count": null,
   "metadata": {},
   "outputs": [],
   "source": [
    "n = a `div` length xs\n",
    "  where\n",
    "    a = 10\n",
    "    xs = [1,2,3,4,5]"
   ]
  },
  {
   "cell_type": "code",
   "execution_count": null,
   "metadata": {},
   "outputs": [],
   "source": [
    "a"
   ]
  },
  {
   "cell_type": "code",
   "execution_count": null,
   "metadata": {},
   "outputs": [],
   "source": [
    "d"
   ]
  },
  {
   "cell_type": "code",
   "execution_count": null,
   "metadata": {},
   "outputs": [],
   "source": [
    ":type not"
   ]
  },
  {
   "cell_type": "code",
   "execution_count": null,
   "metadata": {},
   "outputs": [],
   "source": [
    ":type a"
   ]
  },
  {
   "cell_type": "code",
   "execution_count": null,
   "metadata": {},
   "outputs": [],
   "source": [
    "2^63-1 :: Int"
   ]
  },
  {
   "cell_type": "code",
   "execution_count": null,
   "metadata": {},
   "outputs": [],
   "source": [
    "2^63 :: Int"
   ]
  },
  {
   "cell_type": "code",
   "execution_count": null,
   "metadata": {},
   "outputs": [],
   "source": [
    "2^63 :: Integer"
   ]
  },
  {
   "cell_type": "code",
   "execution_count": null,
   "metadata": {},
   "outputs": [],
   "source": [
    "listtype = [False,True,False]"
   ]
  },
  {
   "cell_type": "code",
   "execution_count": null,
   "metadata": {},
   "outputs": [],
   "source": [
    ":type listtype"
   ]
  },
  {
   "cell_type": "code",
   "execution_count": null,
   "metadata": {},
   "outputs": [],
   "source": [
    "tupletype = ( \"Yes\" ,True,'a')"
   ]
  },
  {
   "cell_type": "code",
   "execution_count": null,
   "metadata": {},
   "outputs": [],
   "source": [
    ":type tupletype"
   ]
  },
  {
   "cell_type": "code",
   "execution_count": null,
   "metadata": {},
   "outputs": [],
   "source": [
    "-- (+) :: Num a => a -> a -> a\n",
    "-- Here,\n",
    "-- Num a\n",
    "-- is a Class Constraint "
   ]
  },
  {
   "cell_type": "code",
   "execution_count": null,
   "metadata": {},
   "outputs": [],
   "source": [
    "-- Numbers themselves are also overloaded. For example, 3 :: Num a => a"
   ]
  },
  {
   "cell_type": "code",
   "execution_count": null,
   "metadata": {},
   "outputs": [],
   "source": [
    "read \"123\" :: Int"
   ]
  },
  {
   "cell_type": "markdown",
   "metadata": {},
   "source": [
    "read \"123\" -- error"
   ]
  },
  {
   "cell_type": "code",
   "execution_count": null,
   "metadata": {},
   "outputs": [],
   "source": [
    "read \"('a',False)\" :: (Char,Bool)"
   ]
  },
  {
   "cell_type": "markdown",
   "metadata": {},
   "source": [
    "read \"('a',False)\" -- error"
   ]
  },
  {
   "cell_type": "code",
   "execution_count": null,
   "metadata": {},
   "outputs": [],
   "source": [
    "not (read \"False\")"
   ]
  },
  {
   "cell_type": "markdown",
   "metadata": {},
   "source": [
    "# Chapter 3 Exercises"
   ]
  },
  {
   "cell_type": "code",
   "execution_count": null,
   "metadata": {},
   "outputs": [],
   "source": [
    "listtype2 = [tail, init, reverse]"
   ]
  },
  {
   "cell_type": "code",
   "execution_count": null,
   "metadata": {},
   "outputs": [],
   "source": [
    ":type listtype2"
   ]
  },
  {
   "cell_type": "code",
   "execution_count": null,
   "metadata": {},
   "outputs": [],
   "source": [
    "second xs = head (tail xs)\n",
    "swap (x,y) = (y,x)\n",
    "pair x y = (x,y)\n",
    "double x = x*2\n",
    "palindrome xs = reverse xs == xs\n",
    "twice f x = f (f x)"
   ]
  },
  {
   "cell_type": "code",
   "execution_count": null,
   "metadata": {},
   "outputs": [],
   "source": [
    ":type second"
   ]
  },
  {
   "cell_type": "code",
   "execution_count": null,
   "metadata": {},
   "outputs": [],
   "source": [
    ":type swap"
   ]
  },
  {
   "cell_type": "code",
   "execution_count": null,
   "metadata": {},
   "outputs": [],
   "source": [
    ":type pair"
   ]
  },
  {
   "cell_type": "code",
   "execution_count": null,
   "metadata": {},
   "outputs": [],
   "source": [
    ":type double"
   ]
  },
  {
   "cell_type": "code",
   "execution_count": null,
   "metadata": {},
   "outputs": [],
   "source": [
    ":type palindrome"
   ]
  },
  {
   "cell_type": "code",
   "execution_count": null,
   "metadata": {},
   "outputs": [],
   "source": [
    ":type twice -- hard!"
   ]
  },
  {
   "cell_type": "code",
   "execution_count": null,
   "metadata": {},
   "outputs": [],
   "source": [
    "-- a -> b -> (a (a b)) wrong!"
   ]
  },
  {
   "cell_type": "markdown",
   "metadata": {},
   "source": [
    "# Chapter 4 Exercises"
   ]
  },
  {
   "cell_type": "code",
   "execution_count": null,
   "metadata": {},
   "outputs": [],
   "source": [
    "halve :: [a] -> ([a],[a])\n",
    "halve xs = (take n xs, drop n xs) where n = length xs `div` 2"
   ]
  },
  {
   "cell_type": "code",
   "execution_count": null,
   "metadata": {},
   "outputs": [],
   "source": [
    "halve [1,2,3,4,5,6,7,8]"
   ]
  },
  {
   "cell_type": "code",
   "execution_count": null,
   "metadata": {},
   "outputs": [],
   "source": [
    "third :: [a] -> a\n",
    "third xs = head(tail(tail xs))"
   ]
  },
  {
   "cell_type": "code",
   "execution_count": null,
   "metadata": {},
   "outputs": [],
   "source": [
    "third :: [a] -> a\n",
    "third xs = xs !! 2"
   ]
  },
  {
   "cell_type": "code",
   "execution_count": null,
   "metadata": {},
   "outputs": [],
   "source": [
    "third :: [a] -> a\n",
    "third (_:_:x:_) = x"
   ]
  },
  {
   "cell_type": "code",
   "execution_count": null,
   "metadata": {},
   "outputs": [],
   "source": [
    "third [2..5]"
   ]
  },
  {
   "cell_type": "code",
   "execution_count": null,
   "metadata": {},
   "outputs": [],
   "source": [
    "safetail :: [a] -> [a]\n",
    "safetail xs = if null xs then [] else tail xs"
   ]
  },
  {
   "cell_type": "code",
   "execution_count": null,
   "metadata": {},
   "outputs": [],
   "source": [
    "safetail :: [a] -> [a]\n",
    "safetail xs | null xs = []\n",
    "            | otherwise = tail xs"
   ]
  },
  {
   "cell_type": "markdown",
   "metadata": {},
   "source": [
    "RETRY : safetail using pattern matching"
   ]
  },
  {
   "cell_type": "code",
   "execution_count": null,
   "metadata": {},
   "outputs": [],
   "source": [
    "safetail :: [a] -> [a]\n",
    "safetail [] = []\n",
    "safetail (_:xs) = xs"
   ]
  },
  {
   "cell_type": "code",
   "execution_count": null,
   "metadata": {},
   "outputs": [],
   "source": [
    "safetail [2..5]"
   ]
  },
  {
   "cell_type": "code",
   "execution_count": null,
   "metadata": {},
   "outputs": [],
   "source": [
    "safetail []"
   ]
  },
  {
   "cell_type": "code",
   "execution_count": null,
   "metadata": {},
   "outputs": [],
   "source": [
    "(||) :: Bool -> Bool -> Bool\n",
    "True || _ = True\n",
    "False || x = x"
   ]
  },
  {
   "cell_type": "code",
   "execution_count": null,
   "metadata": {},
   "outputs": [],
   "source": [
    "True || True"
   ]
  },
  {
   "cell_type": "code",
   "execution_count": null,
   "metadata": {},
   "outputs": [],
   "source": [
    "luhnDouble :: Int -> Int\n",
    "luhnDouble x | 2*x > 9 = 2*x - 9\n",
    "              | otherwise = 2*x"
   ]
  },
  {
   "cell_type": "code",
   "execution_count": null,
   "metadata": {},
   "outputs": [],
   "source": [
    "luhnDouble 6"
   ]
  },
  {
   "cell_type": "code",
   "execution_count": null,
   "metadata": {},
   "outputs": [],
   "source": [
    "luhnDouble 3"
   ]
  },
  {
   "cell_type": "code",
   "execution_count": null,
   "metadata": {},
   "outputs": [],
   "source": [
    "luhn :: Int -> Int -> Int -> Int -> Bool\n",
    "luhn w x y z = (luhnDouble w + x + luhnDouble y + z) `mod` 10 == 0"
   ]
  },
  {
   "cell_type": "code",
   "execution_count": null,
   "metadata": {},
   "outputs": [],
   "source": [
    "luhn 1 7 8 4"
   ]
  },
  {
   "cell_type": "code",
   "execution_count": null,
   "metadata": {},
   "outputs": [],
   "source": [
    "luhn 4 7 8 3"
   ]
  },
  {
   "cell_type": "markdown",
   "metadata": {},
   "source": [
    "# Chapter 5 Exercises"
   ]
  },
  {
   "cell_type": "code",
   "execution_count": null,
   "metadata": {},
   "outputs": [],
   "source": [
    "sum [x^2 | x <- [1..100]]"
   ]
  },
  {
   "cell_type": "code",
   "execution_count": null,
   "metadata": {},
   "outputs": [],
   "source": [
    "grid :: Int -> Int -> [(Int,Int)]\n",
    "grid m n = [(x, y) | x <- [0..m], y <- [0..n]]"
   ]
  },
  {
   "cell_type": "code",
   "execution_count": null,
   "metadata": {},
   "outputs": [],
   "source": [
    "grid 1 2"
   ]
  },
  {
   "cell_type": "markdown",
   "metadata": {},
   "source": [
    "Retry square : don't reinvent the wheel!"
   ]
  },
  {
   "cell_type": "code",
   "execution_count": null,
   "metadata": {},
   "outputs": [],
   "source": [
    "square :: Int -> [(Int,Int)]\n",
    "square n = [(x, y) | x <- [0..n], y <- [0..n], x /= y]"
   ]
  },
  {
   "cell_type": "code",
   "execution_count": null,
   "metadata": {},
   "outputs": [],
   "source": [
    "square n = [(x,y) | (x,y) <- grid n n, x /= y]"
   ]
  },
  {
   "cell_type": "code",
   "execution_count": null,
   "metadata": {},
   "outputs": [],
   "source": [
    "square 2"
   ]
  },
  {
   "cell_type": "code",
   "execution_count": null,
   "metadata": {},
   "outputs": [],
   "source": [
    "replicate :: Int -> a -> [a]\n",
    "replicate n x = [x | _ <- [1..n]]"
   ]
  },
  {
   "cell_type": "code",
   "execution_count": null,
   "metadata": {},
   "outputs": [],
   "source": [
    "replicate 3 True"
   ]
  },
  {
   "cell_type": "code",
   "execution_count": null,
   "metadata": {},
   "outputs": [],
   "source": [
    "pyths :: Int -> [(Int, Int, Int)]\n",
    "pyths n = [(x,y,z) | x <- [1..n], y <- [1..n], z <- [y..n], x^2+y^2==z^2]"
   ]
  },
  {
   "cell_type": "code",
   "execution_count": null,
   "metadata": {},
   "outputs": [],
   "source": [
    "pyths 10"
   ]
  },
  {
   "cell_type": "code",
   "execution_count": null,
   "metadata": {},
   "outputs": [],
   "source": [
    "factors :: Int -> [Int]\n",
    "factors n = [ x | x <- [1..n] , n `mod` x == 0 ]"
   ]
  },
  {
   "cell_type": "code",
   "execution_count": null,
   "metadata": {},
   "outputs": [],
   "source": [
    "factors 15"
   ]
  },
  {
   "cell_type": "code",
   "execution_count": null,
   "metadata": {},
   "outputs": [],
   "source": [
    "perfects :: Int -> [Int]\n",
    "perfects n = [ x | x <- [1..n], sum(factors x) == 2*x ]"
   ]
  },
  {
   "cell_type": "code",
   "execution_count": null,
   "metadata": {},
   "outputs": [],
   "source": [
    "perfects 500"
   ]
  },
  {
   "cell_type": "code",
   "execution_count": null,
   "metadata": {},
   "outputs": [],
   "source": [
    "--7 : 'reexpressed using two comprehensions with single generators' \n",
    "--     means each comprehension can have its own single generator\n",
    "[(x,y) | x <- [1,2], y <- [3,4]]"
   ]
  },
  {
   "cell_type": "code",
   "execution_count": null,
   "metadata": {},
   "outputs": [],
   "source": [
    "-- [(1,3+x)| x <- [0,1]] wrong"
   ]
  },
  {
   "cell_type": "code",
   "execution_count": null,
   "metadata": {},
   "outputs": [],
   "source": [
    "concat [[(x, y) | y <- [3, 4]] | x <- [1, 2]]"
   ]
  },
  {
   "cell_type": "code",
   "execution_count": null,
   "metadata": {},
   "outputs": [],
   "source": [
    "--8\n",
    "find :: Eq a => a -> [(a,b)] -> [b]\n",
    "find k t = [v | (k',v) <- t, k == k']\n",
    "find 'b' [('a',1),('b',2),('c',3),('b',4)]"
   ]
  },
  {
   "cell_type": "code",
   "execution_count": null,
   "metadata": {},
   "outputs": [],
   "source": [
    "positions :: Eq a => a -> [a] -> [Int]\n",
    "positions x xs = [i | (x',i) <- zip xs [0..], x == x']\n",
    "positions False [True, False, True, False]"
   ]
  },
  {
   "cell_type": "code",
   "execution_count": null,
   "metadata": {},
   "outputs": [],
   "source": [
    "positions :: Eq a => a -> [a] -> [Int]\n",
    "positions x xs = find x (zip xs [0..])\n",
    "positions False [True, False, True, False]"
   ]
  },
  {
   "cell_type": "code",
   "execution_count": null,
   "metadata": {},
   "outputs": [],
   "source": [
    "--9\n",
    "scalarproduct :: [Int] -> [Int] -> Int\n",
    "scalarproduct xs ys = sum [ x*y |(x,y) <- zip xs ys ]\n",
    "scalarproduct [1,2,3] [4,5,6]"
   ]
  },
  {
   "cell_type": "code",
   "execution_count": null,
   "metadata": {},
   "outputs": [],
   "source": [
    "--10\n",
    "import Data.Char\n",
    "\n",
    "let2int :: Char -> Int\n",
    "let2int c = ord c - ord 'A'\n",
    "\n",
    "int2let :: Int -> Char\n",
    "int2let n = chr (ord 'A' + n)\n",
    "\n",
    "shift :: Int -> Char -> Char\n",
    "shift n c | isAlpha c = int2let ((let2int c + n) `mod` (ord 'z' - ord 'A'))\n",
    "          | otherwise = c\n",
    "\n",
    "encode :: Int -> String -> String\n",
    "encode n xs = [shift n x | x <- xs]"
   ]
  },
  {
   "cell_type": "code",
   "execution_count": null,
   "metadata": {},
   "outputs": [],
   "source": [
    "encode 1 \"Hello World!\""
   ]
  },
  {
   "cell_type": "markdown",
   "metadata": {},
   "source": [
    "# Chapter 6 Exercises"
   ]
  },
  {
   "cell_type": "code",
   "execution_count": null,
   "metadata": {},
   "outputs": [],
   "source": [
    "-- 1\n",
    "fac :: Int -> Int\n",
    "fac 0 = 1\n",
    "fac n = n * fac (n-1)\n",
    "fac (-1)"
   ]
  },
  {
   "cell_type": "code",
   "execution_count": null,
   "metadata": {},
   "outputs": [],
   "source": [
    "fac :: Int -> Int\n",
    "fac 0 = 1\n",
    "fac n | n >= 0 = n * fac (n-1)\n",
    "--      | otherwise = 0\n",
    "fac (-1)"
   ]
  },
  {
   "cell_type": "code",
   "execution_count": null,
   "metadata": {},
   "outputs": [],
   "source": [
    "-- 2\n",
    "sumdown :: Int -> Int\n",
    "sumdown 0 = 0\n",
    "sumdown n = n + sumdown (n-1)\n",
    "sumdown 3"
   ]
  },
  {
   "cell_type": "code",
   "execution_count": null,
   "metadata": {},
   "outputs": [],
   "source": [
    "-- 3\n",
    "(^) :: Int -> Int -> Int\n",
    "x^0 = x\n",
    "x^n = x * x^(n-1)\n",
    "2^3"
   ]
  },
  {
   "cell_type": "code",
   "execution_count": null,
   "metadata": {},
   "outputs": [],
   "source": [
    "(^) :: Int -> Int -> Int\n",
    "x^0 = 1\n",
    "x^n = x * x^(n-1)\n",
    "2^3"
   ]
  },
  {
   "cell_type": "code",
   "execution_count": null,
   "metadata": {},
   "outputs": [],
   "source": [
    "-- 4\n",
    "euclid :: Int -> Int -> Int\n",
    "euclid x 0 = x\n",
    "euclid 0 x = x\n",
    "euclid x y = euclid (x `mod` y) (y `mod` x)\n",
    "euclid 6 27"
   ]
  },
  {
   "cell_type": "code",
   "execution_count": null,
   "metadata": {},
   "outputs": [],
   "source": [
    "-- 6\n",
    "-- a\n",
    "and :: [Bool] -> Bool\n",
    "and [a] = a\n",
    "and (x:xs) | not x = False\n",
    "           | otherwise = and xs\n",
    "and [True,True]"
   ]
  },
  {
   "cell_type": "code",
   "execution_count": null,
   "metadata": {},
   "outputs": [],
   "source": [
    "-- b\n",
    "concat :: [[a]] -> [a]\n",
    "concat [] = [] -- not concat [[]] = [] !\n",
    "concat (x:xs) = x ++ concat xs\n",
    "concat [[2,3],[3,5,6],[8,7]]"
   ]
  },
  {
   "cell_type": "code",
   "execution_count": null,
   "metadata": {},
   "outputs": [],
   "source": [
    "-- [[8,7]] -> [8,7]:[]"
   ]
  },
  {
   "cell_type": "code",
   "execution_count": null,
   "metadata": {},
   "outputs": [],
   "source": [
    "-- c\n",
    "replicate :: Int -> a -> [a]\n",
    "replicate 1 x = [x]\n",
    "replicate n x = x : replicate (n-1) x\n",
    "replicate 3 'a'"
   ]
  },
  {
   "cell_type": "code",
   "execution_count": null,
   "metadata": {},
   "outputs": [],
   "source": [
    "-- d\n",
    "(!!) :: [a] -> Int -> a\n",
    "(x:xs) !! 0 = x -- (x:xs) !! 1 = x\n",
    "(x:xs) !! n = xs !! (n-1)\n",
    "[[2,3],[3,5,6],[8,7]] !! 2"
   ]
  },
  {
   "cell_type": "code",
   "execution_count": null,
   "metadata": {},
   "outputs": [],
   "source": [
    "-- e\n",
    "elem :: Eq a => a -> [a] -> Bool\n",
    "elem x [] = False\n",
    "elem x (y:ys) | x == y = True\n",
    "              | x /= y = elem x ys\n",
    "elem 'a' \"bcc\""
   ]
  },
  {
   "cell_type": "code",
   "execution_count": null,
   "metadata": {},
   "outputs": [],
   "source": [
    "-- 7\n",
    "merge :: Ord a => [a] -> [a] -> [a]\n",
    "merge [] xs = xs\n",
    "merge xs [] = xs\n",
    "merge (x:xs) (y:ys) | x<y = x : merge xs (y:ys)\n",
    "                    | otherwise = y : merge (x:xs) ys\n",
    "merge [2,5,6] [1,3,4]"
   ]
  },
  {
   "cell_type": "code",
   "execution_count": null,
   "metadata": {},
   "outputs": [],
   "source": [
    "-- 8\n",
    "halve :: [a] -> ([a],[a])\n",
    "halve xs = (take n xs, drop n xs) where n = length xs `div` 2\n",
    "halve [1]\n",
    "halve [1,2]\n",
    "halve [1,2,3]"
   ]
  },
  {
   "cell_type": "code",
   "execution_count": null,
   "metadata": {},
   "outputs": [],
   "source": [
    "msort :: Ord a => [a] -> [a]\n",
    "msort [] = []\n",
    "msort [x] = [x]\n",
    "msort xs = merge (msort x) (msort y) where (x,y) = halve xs\n",
    "msort [3,5,6,2,9,7]"
   ]
  },
  {
   "cell_type": "code",
   "execution_count": null,
   "metadata": {},
   "outputs": [],
   "source": [
    "msort :: Ord a => [a] -> [a]\n",
    "msort [] = []\n",
    "msort [x] = [x]\n",
    "msort xs = merge (msort (fst x)) (msort (snd x)) where x = halve xs\n",
    "msort [3,5,6,2,9,7]"
   ]
  },
  {
   "cell_type": "code",
   "execution_count": null,
   "metadata": {},
   "outputs": [],
   "source": [
    "-- 9\n",
    "-- 1 define type\n",
    "-- 2 set base case, define base case\n",
    "-- 3 set body case\n",
    "-- 4 elaborate body case\n",
    "-- 5 generalize type\n",
    "-- WRONG\n",
    "sum :: Num a => [a] -> a\n",
    "sum [] = 0\n",
    "sum (x:xs) = x + sum xs\n",
    "sum [2,3,4]\n",
    "\n",
    "take :: Integral a => a -> [a] -> [a]\n",
    "take 0 _ = []\n",
    "take _ [] = []\n",
    "take n (x:xs) = x : take (n-1) xs\n",
    "take 7 [1..6]\n",
    "\n",
    "last :: [a] -> a\n",
    "last [x] = x\n",
    "last (x:xs) = last xs\n",
    "last [1..6]"
   ]
  },
  {
   "cell_type": "code",
   "execution_count": null,
   "metadata": {},
   "outputs": [],
   "source": [
    "-- 1 define the type\n",
    "-- 2 enumerate the cases\n",
    "-- 3 define the simple(base) cases\n",
    "-- 4 define the other cases\n",
    "-- 5 generalize and simplify"
   ]
  },
  {
   "cell_type": "markdown",
   "metadata": {},
   "source": [
    "# Chapter 7"
   ]
  },
  {
   "cell_type": "code",
   "execution_count": null,
   "metadata": {},
   "outputs": [],
   "source": [
    "sum :: Num a => [a] -> a\n",
    "sum = foldr (+) 0"
   ]
  },
  {
   "cell_type": "code",
   "execution_count": null,
   "metadata": {},
   "outputs": [],
   "source": [
    "sum :: Num a => [a] -> a\n",
    "sum = foldr (\\x y -> 2*x+y) 0\n",
    "sum [1..4]"
   ]
  },
  {
   "cell_type": "code",
   "execution_count": null,
   "metadata": {},
   "outputs": [],
   "source": [
    "length :: [a] -> Int\n",
    "length = foldr (\\_ n -> 1+n) 0\n",
    "length [1..5]"
   ]
  },
  {
   "cell_type": "code",
   "execution_count": null,
   "metadata": {},
   "outputs": [],
   "source": [
    "reverse :: [a] -> [a]\n",
    "reverse = foldr (\\x y -> y ++ [x]) []\n",
    "reverse [1..5]"
   ]
  },
  {
   "cell_type": "code",
   "execution_count": null,
   "metadata": {},
   "outputs": [],
   "source": [
    "length :: [a] -> Int\n",
    "length = foldl (\\n _ -> n+1) 0"
   ]
  },
  {
   "cell_type": "code",
   "execution_count": null,
   "metadata": {},
   "outputs": [],
   "source": [
    "reverse :: [a] -> [a]\n",
    "reverse = foldl (\\xs x -> x:xs) []"
   ]
  },
  {
   "cell_type": "code",
   "execution_count": null,
   "metadata": {},
   "outputs": [],
   "source": [
    "compose :: [a -> a] -> (a -> a)\n",
    "compose = foldl (\\f g -> g . f) id\n",
    "compose [reverse,reverse] [1..4]\n",
    "compose [(+ 2),(* 3)] 5\n",
    "compose [(2 +),(3 *)] 5"
   ]
  },
  {
   "cell_type": "code",
   "execution_count": null,
   "metadata": {},
   "outputs": [],
   "source": [
    "bit2int = foldl (\\x y -> 2*x+y) 0\n",
    "bit2int [1,0,1,1]"
   ]
  },
  {
   "cell_type": "code",
   "execution_count": null,
   "metadata": {},
   "outputs": [],
   "source": [
    "elim :: Eq a => a -> [[a]] -> [[a]]\n",
    "-- elim x = map . filter (/= x) -- wrong : can't cancel x!\n",
    "-- elim x = map filter (/= x) -- wrong : functions associates to the left resulting in ((map filter) (/= x))\n",
    "elim x = map (filter (/= x))"
   ]
  },
  {
   "cell_type": "code",
   "execution_count": null,
   "metadata": {},
   "outputs": [],
   "source": [
    "-- from Ch 6\n",
    "msort :: Ord a => [a] -> [a]\n",
    "msort [] = []\n",
    "msort [x] = [x]\n",
    "msort xs = case halve xs of (x,y) -> merge (msort x) (msort y)\n",
    "msort [3,5,6,2,9,7]"
   ]
  },
  {
   "cell_type": "markdown",
   "metadata": {},
   "source": [
    "# Chapter 8"
   ]
  },
  {
   "cell_type": "code",
   "execution_count": null,
   "metadata": {},
   "outputs": [],
   "source": [
    "type Pos = (Int,Int)\n",
    "type Trans = Pos -> Pos"
   ]
  },
  {
   "cell_type": "code",
   "execution_count": null,
   "metadata": {},
   "outputs": [],
   "source": [
    "-- type Tree = (Int,[Tree]) -- NOT POSSIBLE : use Data!"
   ]
  },
  {
   "cell_type": "code",
   "execution_count": null,
   "metadata": {},
   "outputs": [],
   "source": [
    "type Pair a = (a,a)"
   ]
  },
  {
   "cell_type": "code",
   "execution_count": null,
   "metadata": {},
   "outputs": [],
   "source": [
    "type Assoc k v = [(k,v)]"
   ]
  },
  {
   "cell_type": "code",
   "execution_count": null,
   "metadata": {},
   "outputs": [],
   "source": [
    "data Move = North | South | East | West\n",
    "\n",
    "move :: Move -> Pos -> Pos\n",
    "move North (x,y) = (x,y+1)\n",
    "move South (x,y) = (x,y-1)\n",
    "move East (x,y) = (x+1,y)\n",
    "move West (x,y) = (x-1,y)\n",
    "\n",
    "moves :: [Move] -> Pos -> Pos\n",
    "moves [] p = p\n",
    "moves (m:ms) p = moves ms (move m p)\n",
    "\n",
    "rev :: Move -> Move\n",
    "rev North = South\n",
    "rev South = North\n",
    "rev East = West\n",
    "rev West = East"
   ]
  },
  {
   "cell_type": "code",
   "execution_count": null,
   "metadata": {},
   "outputs": [],
   "source": [
    "data Shape = Circle Float | Rect Float Float\n",
    "\n",
    "square :: Float -> Shape\n",
    "square n = Rect n n\n",
    "\n",
    "area :: Shape -> Float\n",
    "area (Circle r) = pi * r^2\n",
    "area (Rect x y) = x * y"
   ]
  },
  {
   "cell_type": "code",
   "execution_count": null,
   "metadata": {},
   "outputs": [],
   "source": [
    ":type Circle\n",
    ":type Rect"
   ]
  },
  {
   "cell_type": "code",
   "execution_count": null,
   "metadata": {},
   "outputs": [],
   "source": [
    "safediv :: Int -> Int -> Maybe Int\n",
    "safediv _ 0 = Nothing\n",
    "safediv m n = Just (m `div` n)\n",
    "\n",
    "3 `safediv` 3\n",
    "3 `safediv` 0\n",
    "\n",
    "safehead :: [a] -> Maybe a\n",
    "safehead [] = Nothing\n",
    "safehead xs = Just (head xs)\n",
    "\n",
    "safehead [3..5]\n",
    "safehead []"
   ]
  },
  {
   "cell_type": "code",
   "execution_count": null,
   "metadata": {},
   "outputs": [],
   "source": [
    "newtype Treee = Node [Treee]"
   ]
  },
  {
   "cell_type": "code",
   "execution_count": null,
   "metadata": {},
   "outputs": [],
   "source": []
  },
  {
   "cell_type": "markdown",
   "metadata": {},
   "source": [
    "# Chapter 9"
   ]
  },
  {
   "cell_type": "code",
   "execution_count": 3,
   "metadata": {},
   "outputs": [
    {
     "data": {
      "text/plain": [
       "\"1+(2*3)\""
      ]
     },
     "metadata": {},
     "output_type": "display_data"
    }
   ],
   "source": [
    "data Op = Add | Sub | Mul | Div\n",
    "\n",
    "instance Show Op where\n",
    "  show Add = \"+\"       -- indentation very important\n",
    "  show Sub = \"-\"       -- indentation very important\n",
    "  show Mul = \"*\"       -- indentation very important\n",
    "  show Div = \"/\"       -- indentation very important\n",
    "\n",
    "valid :: Op -> Int -> Int -> Bool\n",
    "valid Add _ _ = True\n",
    "valid Sub x y = x > y\n",
    "valid Mul _ _ = True\n",
    "valid Div x y = x `mod` y == 0\n",
    "\n",
    "apply :: Op -> Int -> Int -> Int\n",
    "apply Add x y = x + y\n",
    "apply Sub x y = x - y\n",
    "apply Mul x y = x * y\n",
    "apply Div x y = x `div` y\n",
    "\n",
    "data Expr = Val Int | App Op Expr Expr\n",
    "\n",
    "instance Show Expr where\n",
    "  show (Val n) = show n\n",
    "  show (App o l r) = brak l ++ show o ++ brak r\n",
    "                     where\n",
    "                       brak (Val n) = show n\n",
    "                       brak e       = \"(\" ++ show e ++ \")\"\n",
    "\n",
    "show (App Add (Val 1) (App Mul (Val 2) (Val 3)))"
   ]
  },
  {
   "cell_type": "code",
   "execution_count": 4,
   "metadata": {},
   "outputs": [
    {
     "data": {
      "text/plain": [
       "[5]"
      ]
     },
     "metadata": {},
     "output_type": "display_data"
    },
    {
     "data": {
      "text/plain": [
       "[]"
      ]
     },
     "metadata": {},
     "output_type": "display_data"
    }
   ],
   "source": [
    "values :: Expr -> [Int]\n",
    "values (Val n) = [n]\n",
    "values (App _ l r) = values l ++ values r\n",
    "\n",
    "eval :: Expr -> [Int]\n",
    "eval (Val n) = [n | n > 0]\n",
    "eval (App o l r) = [apply o x y | x <- eval l, y <- eval r, valid o x y]\n",
    "\n",
    "eval (App Add (Val 2) (Val 3))\n",
    "eval (App Sub (Val 2) (Val 3))"
   ]
  },
  {
   "cell_type": "code",
   "execution_count": 5,
   "metadata": {},
   "outputs": [
    {
     "data": {
      "text/html": [
       "<style>/* Styles used for the Hoogle display in the pager */\n",
       ".hoogle-doc {\n",
       "display: block;\n",
       "padding-bottom: 1.3em;\n",
       "padding-left: 0.4em;\n",
       "}\n",
       ".hoogle-code {\n",
       "display: block;\n",
       "font-family: monospace;\n",
       "white-space: pre;\n",
       "}\n",
       ".hoogle-text {\n",
       "display: block;\n",
       "}\n",
       ".hoogle-name {\n",
       "color: green;\n",
       "font-weight: bold;\n",
       "}\n",
       ".hoogle-head {\n",
       "font-weight: bold;\n",
       "}\n",
       ".hoogle-sub {\n",
       "display: block;\n",
       "margin-left: 0.4em;\n",
       "}\n",
       ".hoogle-package {\n",
       "font-weight: bold;\n",
       "font-style: italic;\n",
       "}\n",
       ".hoogle-module {\n",
       "font-weight: bold;\n",
       "}\n",
       ".hoogle-class {\n",
       "font-weight: bold;\n",
       "}\n",
       ".get-type {\n",
       "color: green;\n",
       "font-weight: bold;\n",
       "font-family: monospace;\n",
       "display: block;\n",
       "white-space: pre-wrap;\n",
       "}\n",
       ".show-type {\n",
       "color: green;\n",
       "font-weight: bold;\n",
       "font-family: monospace;\n",
       "margin-left: 1em;\n",
       "}\n",
       ".mono {\n",
       "font-family: monospace;\n",
       "display: block;\n",
       "}\n",
       ".err-msg {\n",
       "color: red;\n",
       "font-style: italic;\n",
       "font-family: monospace;\n",
       "white-space: pre;\n",
       "display: block;\n",
       "}\n",
       "#unshowable {\n",
       "color: red;\n",
       "font-weight: bold;\n",
       "}\n",
       ".err-msg.in.collapse {\n",
       "padding-top: 0.7em;\n",
       "}\n",
       ".highlight-code {\n",
       "white-space: pre;\n",
       "font-family: monospace;\n",
       "}\n",
       ".suggestion-warning { \n",
       "font-weight: bold;\n",
       "color: rgb(200, 130, 0);\n",
       "}\n",
       ".suggestion-error { \n",
       "font-weight: bold;\n",
       "color: red;\n",
       "}\n",
       ".suggestion-name {\n",
       "font-weight: bold;\n",
       "}\n",
       "</style><div class=\"suggestion-name\" style=\"clear:both;\">Use concatMap</div><div class=\"suggestion-row\" style=\"float: left;\"><div class=\"suggestion-warning\">Found:</div><div class=\"highlight-code\" id=\"haskell\">concat (map (interleave x) (perms xs))</div></div><div class=\"suggestion-row\" style=\"float: left;\"><div class=\"suggestion-warning\">Why Not:</div><div class=\"highlight-code\" id=\"haskell\">concatMap (interleave x) (perms xs)</div></div><div class=\"suggestion-name\" style=\"clear:both;\">Use concatMap</div><div class=\"suggestion-row\" style=\"float: left;\"><div class=\"suggestion-warning\">Found:</div><div class=\"highlight-code\" id=\"haskell\">concat . map perms . subs</div></div><div class=\"suggestion-row\" style=\"float: left;\"><div class=\"suggestion-warning\">Why Not:</div><div class=\"highlight-code\" id=\"haskell\">concatMap perms . subs</div></div>"
      ],
      "text/plain": [
       "Line 12: Use concatMap\n",
       "Found:\n",
       "concat (map (interleave x) (perms xs))\n",
       "Why not:\n",
       "concatMap (interleave x) (perms xs)Line 15: Use concatMap\n",
       "Found:\n",
       "concat . map perms . subs\n",
       "Why not:\n",
       "concatMap perms . subs"
      ]
     },
     "metadata": {},
     "output_type": "display_data"
    },
    {
     "data": {
      "text/plain": [
       "[[],[3],[2],[2,3],[1],[1,3],[1,2],[1,2,3]]"
      ]
     },
     "metadata": {},
     "output_type": "display_data"
    },
    {
     "data": {
      "text/plain": [
       "[[1,2,3,4],[2,1,3,4],[2,3,1,4],[2,3,4,1]]"
      ]
     },
     "metadata": {},
     "output_type": "display_data"
    },
    {
     "data": {
      "text/plain": [
       "[[1,2,3],[2,1,3],[2,3,1],[1,3,2],[3,1,2],[3,2,1]]"
      ]
     },
     "metadata": {},
     "output_type": "display_data"
    },
    {
     "data": {
      "text/plain": [
       "[[],[3],[2],[2,3],[3,2],[1],[1,3],[3,1],[1,2],[2,1],[1,2,3],[2,1,3],[2,3,1],[1,3,2],[3,1,2],[3,2,1]]"
      ]
     },
     "metadata": {},
     "output_type": "display_data"
    }
   ],
   "source": [
    "subs :: [a] -> [[a]]\n",
    "subs [] = [[]]\n",
    "subs (x:xs) = yss ++ map (x:) yss\n",
    "              where yss = subs xs\n",
    "\n",
    "interleave :: a -> [a] -> [[a]]\n",
    "interleave x [] = [[x]]\n",
    "interleave x (y:ys) = (x:y:ys) : map (y:) (interleave x ys)\n",
    "\n",
    "perms :: [a] -> [[a]]\n",
    "perms [] = [[]]\n",
    "perms (x:xs) = concat (map (interleave x) (perms xs))\n",
    "\n",
    "choices :: [a] -> [[a]]\n",
    "choices = concat . map perms . subs\n",
    "\n",
    "subs [1,2,3]\n",
    "interleave 1 [2,3,4]\n",
    "perms [1,2,3]\n",
    "choices [1,2,3]"
   ]
  },
  {
   "cell_type": "code",
   "execution_count": 6,
   "metadata": {},
   "outputs": [
    {
     "data": {
      "text/plain": [
       "[([1],[2,3,4]),([1,2],[3,4]),([1,2,3],[4])]"
      ]
     },
     "metadata": {},
     "output_type": "display_data"
    }
   ],
   "source": [
    "solution :: Expr -> [Int] -> Int -> Bool\n",
    "solution e ns n =\n",
    "  elem (values e) (choices ns) && eval e == [n]\n",
    "--solution e [1,3,7,10,25,50] 765\n",
    "\n",
    "split :: [a] -> [([a],[a])]\n",
    "split [] = []\n",
    "split [_] = []\n",
    "split (x:xs) = ([x],xs) : [(x:ls,rs) | (ls,rs) <- split xs]\n",
    "\n",
    "split [1,2,3,4]"
   ]
  },
  {
   "cell_type": "code",
   "execution_count": 7,
   "metadata": {},
   "outputs": [
    {
     "ename": "",
     "evalue": "",
     "header": "MessageHeader {mhIdentifiers = [\"1a2c03e4-98ac-453d-8240-649a9ebf3e46\"], mhParentHeader = Just (MessageHeader {mhIdentifiers = [\"1a2c03e4-98ac-453d-8240-649a9ebf3e46\"], mhParentHeader = Nothing, mhMetadata = Metadata (fromList [(\"recordTiming\",Bool False),(\"deletedCells\",Array []),(\"cellId\",String \"225de006-3402-4494-a1ca-43f17152633e\")]), mhMessageId = UUID {uuidToString = \"466354b7-2d75-491e-8dfb-f4ef3c488142\"}, mhSessionId = UUID {uuidToString = \"1a2c03e4-98ac-453d-8240-649a9ebf3e46\"}, mhUsername = \"\", mhMsgType = ExecuteRequestMessage, mhBuffers = []}), mhMetadata = Metadata (fromList []), mhMessageId = UUID {uuidToString = \"76253312-bf2f-4aa9-853f-ed925a749cd6\"}, mhSessionId = UUID {uuidToString = \"1a2c03e4-98ac-453d-8240-649a9ebf3e46\"}, mhUsername = \"\", mhMsgType = ExecuteErrorMessage, mhBuffers = []}",
     "output_type": "error",
     "traceback": [
      "<interactive>:7:28: error: Variable not in scope: combine :: Expr -> Expr -> [Expr]"
     ]
    }
   ],
   "source": [
    "exprs :: [Int] -> [Expr]\n",
    "exprs [] = []\n",
    "exprs [n] = [Val n]\n",
    "exprs ns = [e | (ls,rs) <- split ns,\n",
    "                 l      <- exprs ls,\n",
    "                 r      <- exprs rs,\n",
    "                 e      <- combine l r]"
   ]
  },
  {
   "cell_type": "code",
   "execution_count": 8,
   "metadata": {},
   "outputs": [],
   "source": [
    "combine :: Expr -> Expr -> [Expr]\n",
    "combine l r = [App o l r | o <- ops]\n",
    "\n",
    "ops :: [Op]\n",
    "ops = [Add,Sub,Mul,Div]"
   ]
  },
  {
   "cell_type": "code",
   "execution_count": 9,
   "metadata": {},
   "outputs": [],
   "source": [
    "-- or\n",
    "combine :: Expr -> Expr -> [Expr]\n",
    "combine l r = [App o l r | o <- ops] where ops = [Add,Sub,Mul,Div] :: [Op]"
   ]
  },
  {
   "cell_type": "code",
   "execution_count": 10,
   "metadata": {},
   "outputs": [
    {
     "ename": "",
     "evalue": "",
     "header": "MessageHeader {mhIdentifiers = [\"1a2c03e4-98ac-453d-8240-649a9ebf3e46\"], mhParentHeader = Just (MessageHeader {mhIdentifiers = [\"1a2c03e4-98ac-453d-8240-649a9ebf3e46\"], mhParentHeader = Nothing, mhMetadata = Metadata (fromList [(\"recordTiming\",Bool False),(\"deletedCells\",Array []),(\"cellId\",String \"b61cbafd-c2e0-4642-be7f-4c1530c11f71\")]), mhMessageId = UUID {uuidToString = \"30b5b5b4-576c-4947-a137-813273cb368f\"}, mhSessionId = UUID {uuidToString = \"1a2c03e4-98ac-453d-8240-649a9ebf3e46\"}, mhUsername = \"\", mhMsgType = ExecuteRequestMessage, mhBuffers = []}), mhMetadata = Metadata (fromList []), mhMessageId = UUID {uuidToString = \"79f40af9-c9e0-42bb-b168-0596accddf3e\"}, mhSessionId = UUID {uuidToString = \"1a2c03e4-98ac-453d-8240-649a9ebf3e46\"}, mhUsername = \"\", mhMsgType = ExecuteErrorMessage, mhBuffers = []}",
     "output_type": "error",
     "traceback": [
      "<interactive>:2:47: error: Variable not in scope: exprs :: [Int] -> [Expr]"
     ]
    }
   ],
   "source": [
    "solutions :: [Int] -> Int -> [Expr]\n",
    "solutions ns n = [e | ns' <- choices ns, e <- exprs ns', eval e == [n]]\n",
    "-- solutions [1,3,7,10,25,50] 765\n",
    "-- 780 results!"
   ]
  },
  {
   "cell_type": "code",
   "execution_count": 11,
   "metadata": {},
   "outputs": [],
   "source": [
    "type Result = (Expr,Int)\n",
    "\n",
    "results :: [Int] -> [Result]\n",
    "results [] = []\n",
    "results [n] = [(Val n,n) | n > 0]\n",
    "results ns = [res | (ls,rs) <- split ns,\n",
    "                     lx     <- results ls,\n",
    "                     ry     <- results rs,\n",
    "                     res    <- combine' lx ry]\n",
    "combine' :: Result -> Result -> [Result]\n",
    "combine' (l,x) (r,y) =\n",
    "  [(App o l r, apply o x y) | o <- ops, valid o x y]\n",
    "solutions' :: [Int] -> Int -> [Expr]\n",
    "solutions' ns n =\n",
    "  [e | ns' <- choices ns, (e,m) <- results ns', m == n]\n",
    "-- solutions' [1,3,7,10,25,50] 765\n",
    "-- way faster!"
   ]
  },
  {
   "cell_type": "code",
   "execution_count": null,
   "metadata": {},
   "outputs": [],
   "source": [
    "valid Add x y = x <= y\n",
    "valid Sub x y = x > y\n",
    "valid Mul x y = x /= 1 && y /= 1 && x <= y\n",
    "valid Div x y = y /= 1 && x `mod` y == 0\n",
    "\n",
    "solutions'' :: [Int] -> Int -> [Expr]\n",
    "solutions'' ns n =\n",
    "  [e | ns' <- choices ns, (e,m) <- results ns', m == n]\n",
    "  \n",
    "-- solutions'' [1,3,7,10,25,50] 765\n",
    "-- even faster!"
   ]
  },
  {
   "cell_type": "code",
   "execution_count": null,
   "metadata": {},
   "outputs": [],
   "source": []
  },
  {
   "cell_type": "markdown",
   "metadata": {},
   "source": [
    "# Chapter 10"
   ]
  },
  {
   "cell_type": "code",
   "execution_count": null,
   "metadata": {},
   "outputs": [],
   "source": [
    "{-\n",
    "Wrong examples\n",
    "\n",
    "act :: IO (Char,Char)\n",
    "act = do x <- getChar\n",
    "        getChar\n",
    "        y <- getChar\n",
    "        return (x,y)\n",
    "        \n",
    "act :: IO (Char,Char)\n",
    "act = do x <- getChar\n",
    "         getChar\n",
    "        y <- getChar\n",
    "        return (x,y)\n",
    "        \n",
    "act :: IO (Char,Char)\n",
    "act = do x <- getChar\n",
    "         getChar\n",
    "         y <- getChar\n",
    "        return (x,y)\n",
    "        \n",
    "act :: IO (Char,Char)\n",
    "act = do x <- getChar\n",
    "        getChar\n",
    "        y <- getChar\n",
    "        return (x,y)   \n",
    "\n",
    "Possible example\n",
    "\n",
    "act :: IO (Char,Char)\n",
    "act = do \n",
    "  x <- getChar\n",
    "  getChar\n",
    "  y <- getChar\n",
    "  return (x,y)\n",
    "-}"
   ]
  },
  {
   "cell_type": "code",
   "execution_count": 1,
   "metadata": {},
   "outputs": [],
   "source": [
    "act :: IO (Char,Char,Char,Char,Char)\n",
    "act = do a <- getChar\n",
    "         b <- getChar\n",
    "         c <- getChar\n",
    "         d <- getChar\n",
    "         e <- getChar -- enter recognized as a Char\n",
    "         return (a,b,c,d,e)\n",
    "         \n",
    "-- Note that omitting the use of return in this example would give rise to a type error,\n",
    "-- because (x,y) is an expression of type (Char,Char), whereas in the above context we require an action of type IO (Char,Char)."
   ]
  },
  {
   "cell_type": "code",
   "execution_count": 2,
   "metadata": {},
   "outputs": [],
   "source": [
    "getLine :: IO String\n",
    "getLine = do x <- getChar\n",
    "             if x == '.' then\n",
    "                return []\n",
    "             else\n",
    "                do xs <- getLine\n",
    "                   return (x:xs)"
   ]
  },
  {
   "cell_type": "code",
   "execution_count": 5,
   "metadata": {},
   "outputs": [
    {
     "data": {
      "text/plain": [
       "\"\\na\\n\""
      ]
     },
     "metadata": {},
     "output_type": "display_data"
    }
   ],
   "source": [
    "getLine"
   ]
  },
  {
   "cell_type": "code",
   "execution_count": null,
   "metadata": {},
   "outputs": [],
   "source": [
    "-- hangman\n",
    "\n",
    "import System.IO -- for hSetEcho\n"
   ]
  },
  {
   "cell_type": "code",
   "execution_count": 5,
   "metadata": {},
   "outputs": [
    {
     "data": {
      "text/html": [
       "<style>/* Styles used for the Hoogle display in the pager */\n",
       ".hoogle-doc {\n",
       "display: block;\n",
       "padding-bottom: 1.3em;\n",
       "padding-left: 0.4em;\n",
       "}\n",
       ".hoogle-code {\n",
       "display: block;\n",
       "font-family: monospace;\n",
       "white-space: pre;\n",
       "}\n",
       ".hoogle-text {\n",
       "display: block;\n",
       "}\n",
       ".hoogle-name {\n",
       "color: green;\n",
       "font-weight: bold;\n",
       "}\n",
       ".hoogle-head {\n",
       "font-weight: bold;\n",
       "}\n",
       ".hoogle-sub {\n",
       "display: block;\n",
       "margin-left: 0.4em;\n",
       "}\n",
       ".hoogle-package {\n",
       "font-weight: bold;\n",
       "font-style: italic;\n",
       "}\n",
       ".hoogle-module {\n",
       "font-weight: bold;\n",
       "}\n",
       ".hoogle-class {\n",
       "font-weight: bold;\n",
       "}\n",
       ".get-type {\n",
       "color: green;\n",
       "font-weight: bold;\n",
       "font-family: monospace;\n",
       "display: block;\n",
       "white-space: pre-wrap;\n",
       "}\n",
       ".show-type {\n",
       "color: green;\n",
       "font-weight: bold;\n",
       "font-family: monospace;\n",
       "margin-left: 1em;\n",
       "}\n",
       ".mono {\n",
       "font-family: monospace;\n",
       "display: block;\n",
       "}\n",
       ".err-msg {\n",
       "color: red;\n",
       "font-style: italic;\n",
       "font-family: monospace;\n",
       "white-space: pre;\n",
       "display: block;\n",
       "}\n",
       "#unshowable {\n",
       "color: red;\n",
       "font-weight: bold;\n",
       "}\n",
       ".err-msg.in.collapse {\n",
       "padding-top: 0.7em;\n",
       "}\n",
       ".highlight-code {\n",
       "white-space: pre;\n",
       "font-family: monospace;\n",
       "}\n",
       ".suggestion-warning { \n",
       "font-weight: bold;\n",
       "color: rgb(200, 130, 0);\n",
       "}\n",
       ".suggestion-error { \n",
       "font-weight: bold;\n",
       "color: red;\n",
       "}\n",
       ".suggestion-name {\n",
       "font-weight: bold;\n",
       "}\n",
       "</style><div class=\"suggestion-name\" style=\"clear:both;\">Use print</div><div class=\"suggestion-row\" style=\"float: left;\"><div class=\"suggestion-warning\">Found:</div><div class=\"highlight-code\" id=\"haskell\">putStrLn (show player)</div></div><div class=\"suggestion-row\" style=\"float: left;\"><div class=\"suggestion-warning\">Why Not:</div><div class=\"highlight-code\" id=\"haskell\">print player</div></div>"
      ],
      "text/plain": [
       "Line 65: Use print\n",
       "Found:\n",
       "putStrLn (show player)\n",
       "Why not:\n",
       "print player"
      ]
     },
     "metadata": {},
     "output_type": "display_data"
    }
   ],
   "source": [
    "-- Nim\n",
    "\n",
    "import Data.Char -- for digitToInt\n",
    "import Control.Concurrent -- for threadDelay\n",
    "-- import System.IO -- for hFlush\n",
    "\n",
    " \n",
    "next :: Int -> Int\n",
    "next 1 = 2\n",
    "next 2 = 1\n",
    "\n",
    "type Board = [Int]\n",
    "\n",
    "initial :: Board\n",
    "initial = [5,4,3,2,1]\n",
    "\n",
    "finished :: Board -> Bool\n",
    "finished = all (== 0)\n",
    "\n",
    "valid :: Board -> Int -> Int -> Bool\n",
    "valid board row num = board !! (row-1) >= num\n",
    "\n",
    "move :: Board -> Int -> Int -> Board\n",
    "move board row num = [update r n | (r,n) <- zip [1..] board]\n",
    "  where update r n = if r == row then n-num else n\n",
    "  \n",
    "putRow :: Int -> Int -> IO ()\n",
    "putRow row num = do putStr (show row)\n",
    "                    putStr \": \"\n",
    "                    putStrLn (concat (replicate num \"* \"))\n",
    "\n",
    "                    \n",
    "putBoard :: Board -> IO ()\n",
    "putBoard [a,b,c,d,e] = do putRow 1 a\n",
    "                          putRow 2 b\n",
    "                          putRow 3 c\n",
    "                          putRow 4 d\n",
    "                          putRow 5 e\n",
    "                          \n",
    "\n",
    "newline :: IO ()\n",
    "newline = putChar '\\n'\n",
    "\n",
    "getDigit :: String -> IO Int\n",
    "getDigit prompt = do putStrLn prompt\n",
    "                     x:xs <- getLine\n",
    "                     if isDigit x && null xs then\n",
    "                          return (digitToInt x)\n",
    "                     else\n",
    "                       do putStrLn \"ERROR: Invalid digit\"\n",
    "                          getDigit prompt\n",
    "\n",
    "play :: Board -> Int -> IO ()\n",
    "play board player =\n",
    "  do newline\n",
    "     putBoard board\n",
    "     if finished board then\n",
    "       do newline\n",
    "          putStr \"Player \"\n",
    "          putStr (show (next player))\n",
    "          putStrLn \" wins!!\"\n",
    "     else\n",
    "       do newline\n",
    "          putStr \"Player \"\n",
    "          putStrLn (show player)\n",
    "          --threadDelay 1000000 -- 1000000 : one second delay , only needed for jupyter?\n",
    "          row <- getDigit \"Enter a row number : \"\n",
    "          num <- getDigit \"Enter a number of stars to remove in the row: \"\n",
    "          if valid board row num then\n",
    "            play (move board row num) (next player)\n",
    "          else\n",
    "            do newline\n",
    "               putStrLn \"ERROR : Invalid move!!!!!\"\n",
    "               play board player"
   ]
  },
  {
   "cell_type": "code",
   "execution_count": 6,
   "metadata": {},
   "outputs": [],
   "source": [
    "nim :: IO ()\n",
    "nim = play initial 1"
   ]
  },
  {
   "cell_type": "code",
   "execution_count": null,
   "metadata": {},
   "outputs": [],
   "source": [
    "nim"
   ]
  },
  {
   "cell_type": "code",
   "execution_count": 2,
   "metadata": {},
   "outputs": [
    {
     "data": {
      "text/html": [
       "<style>/* Styles used for the Hoogle display in the pager */\n",
       ".hoogle-doc {\n",
       "display: block;\n",
       "padding-bottom: 1.3em;\n",
       "padding-left: 0.4em;\n",
       "}\n",
       ".hoogle-code {\n",
       "display: block;\n",
       "font-family: monospace;\n",
       "white-space: pre;\n",
       "}\n",
       ".hoogle-text {\n",
       "display: block;\n",
       "}\n",
       ".hoogle-name {\n",
       "color: green;\n",
       "font-weight: bold;\n",
       "}\n",
       ".hoogle-head {\n",
       "font-weight: bold;\n",
       "}\n",
       ".hoogle-sub {\n",
       "display: block;\n",
       "margin-left: 0.4em;\n",
       "}\n",
       ".hoogle-package {\n",
       "font-weight: bold;\n",
       "font-style: italic;\n",
       "}\n",
       ".hoogle-module {\n",
       "font-weight: bold;\n",
       "}\n",
       ".hoogle-class {\n",
       "font-weight: bold;\n",
       "}\n",
       ".get-type {\n",
       "color: green;\n",
       "font-weight: bold;\n",
       "font-family: monospace;\n",
       "display: block;\n",
       "white-space: pre-wrap;\n",
       "}\n",
       ".show-type {\n",
       "color: green;\n",
       "font-weight: bold;\n",
       "font-family: monospace;\n",
       "margin-left: 1em;\n",
       "}\n",
       ".mono {\n",
       "font-family: monospace;\n",
       "display: block;\n",
       "}\n",
       ".err-msg {\n",
       "color: red;\n",
       "font-style: italic;\n",
       "font-family: monospace;\n",
       "white-space: pre;\n",
       "display: block;\n",
       "}\n",
       "#unshowable {\n",
       "color: red;\n",
       "font-weight: bold;\n",
       "}\n",
       ".err-msg.in.collapse {\n",
       "padding-top: 0.7em;\n",
       "}\n",
       ".highlight-code {\n",
       "white-space: pre;\n",
       "font-family: monospace;\n",
       "}\n",
       ".suggestion-warning { \n",
       "font-weight: bold;\n",
       "color: rgb(200, 130, 0);\n",
       "}\n",
       ".suggestion-error { \n",
       "font-weight: bold;\n",
       "color: red;\n",
       "}\n",
       ".suggestion-name {\n",
       "font-weight: bold;\n",
       "}\n",
       "</style><div class=\"suggestion-name\" style=\"clear:both;\">Use infix</div><div class=\"suggestion-row\" style=\"float: left;\"><div class=\"suggestion-warning\">Found:</div><div class=\"highlight-code\" id=\"haskell\">elem p b</div></div><div class=\"suggestion-row\" style=\"float: left;\"><div class=\"suggestion-warning\">Why Not:</div><div class=\"highlight-code\" id=\"haskell\">p `elem` b</div></div><div class=\"suggestion-name\" style=\"clear:both;\">Use infix</div><div class=\"suggestion-row\" style=\"float: left;\"><div class=\"suggestion-warning\">Found:</div><div class=\"highlight-code\" id=\"haskell\">elem (liveneighbs b p) [2, 3]</div></div><div class=\"suggestion-row\" style=\"float: left;\"><div class=\"suggestion-warning\">Why Not:</div><div class=\"highlight-code\" id=\"haskell\">liveneighbs b p `elem` [2, 3]</div></div><div class=\"suggestion-name\" style=\"clear:both;\">Use concatMap</div><div class=\"suggestion-row\" style=\"float: left;\"><div class=\"suggestion-warning\">Found:</div><div class=\"highlight-code\" id=\"haskell\">concat (map neighbs b)</div></div><div class=\"suggestion-row\" style=\"float: left;\"><div class=\"suggestion-warning\">Why Not:</div><div class=\"highlight-code\" id=\"haskell\">concatMap neighbs b</div></div>"
      ],
      "text/plain": [
       "Line 29: Use infix\n",
       "Found:\n",
       "elem p b\n",
       "Why not:\n",
       "p `elem` bLine 46: Use infix\n",
       "Found:\n",
       "elem (liveneighbs b p) [2, 3]\n",
       "Why not:\n",
       "liveneighbs b p `elem` [2, 3]Line 49: Use concatMap\n",
       "Found:\n",
       "concat (map neighbs b)\n",
       "Why not:\n",
       "concatMap neighbs b"
      ]
     },
     "metadata": {},
     "output_type": "display_data"
    }
   ],
   "source": [
    "-- Game of Life\n",
    "\n",
    "cls :: IO ()\n",
    "cls = putStr \"\\ESC[2J\"\n",
    "\n",
    "type Pos = (Int,Int)\n",
    "\n",
    "writeat :: Pos -> String -> IO ()\n",
    "writeat p xs = do goto p\n",
    "                  putStr xs\n",
    "\n",
    "goto :: Pos -> IO ()\n",
    "goto (x,y) = putStr (\"\\ESC[\" ++ show y ++ \";\" ++ show x ++ \"H\")\n",
    "\n",
    "width :: Int\n",
    "width = 10\n",
    "\n",
    "height :: Int\n",
    "height = 10\n",
    "\n",
    "type Board = [Pos]\n",
    "\n",
    "glider :: Board\n",
    "glider = [(4,2),(2,3),(4,3),(3,4),(4,4)]\n",
    "\n",
    "showcells :: Board -> IO ()\n",
    "showcells b = sequence_ [writeat p \"O\" | p <- b]\n",
    "isAlive :: Board -> Pos -> Bool\n",
    "isAlive b p = elem p b\n",
    "isEmpty :: Board -> Pos -> Bool\n",
    "isEmpty b p = not (isAlive b p)\n",
    "\n",
    "neighbs :: Pos -> [Pos]\n",
    "neighbs (x,y) = map wrap [(x-1,y-1), (x,y-1),\n",
    "                          (x+1,y-1), (x-1,y),\n",
    "                          (x+1,y), (x-1,y+1),\n",
    "                          (x,y+1), (x+1,y+1)]\n",
    "wrap :: Pos -> Pos\n",
    "wrap (x,y) = (((x-1) `mod` width) + 1,\n",
    "              ((y-1) `mod` height) + 1)\n",
    "              \n",
    "liveneighbs :: Board -> Pos -> Int\n",
    "liveneighbs b = length . filter (isAlive b) . neighbs\n",
    "\n",
    "survivors :: Board -> [Pos]\n",
    "survivors b = [p | p <- b, elem (liveneighbs b p) [2,3]]\n",
    "\n",
    "births :: Board -> [Pos]\n",
    "births b = [p | p <- rmdups (concat (map neighbs b)),\n",
    "                isEmpty b p,\n",
    "                liveneighbs b p == 3]\n",
    "{-\n",
    "easy, inefficient version\n",
    "births b = [(x,y) | x <- [1..width],\n",
    "                    y <- [1..height],\n",
    "                    isEmpty b (x,y),\n",
    "                    liveneighbs b (x,y) == 3]\n",
    "-}\n",
    "\n",
    "rmdups :: Eq a => [a] -> [a]\n",
    "rmdups [] = []\n",
    "rmdups (x:xs) = x : rmdups (filter (/= x) xs)\n",
    "\n",
    "nextgen :: Board -> Board\n",
    "nextgen b = survivors b ++ births b\n",
    "\n",
    "life :: Board -> IO ()\n",
    "life b = do cls\n",
    "            showcells b\n",
    "            wait 500000\n",
    "            life (nextgen b)\n",
    "\n",
    "wait :: Int -> IO ()\n",
    "wait n = sequence_ [return () | _ <- [1..n]]"
   ]
  },
  {
   "cell_type": "code",
   "execution_count": null,
   "metadata": {},
   "outputs": [
    {
     "data": {
      "text/plain": [
       "\u001b[2J\u001b[2;4HO\u001b[3;2HO\u001b[3;4HO\u001b[4;3HO\u001b[4;4HO\u001b[2J\u001b[3;4HO\u001b[4;3HO\u001b[4;4HO\u001b[2;3HO\u001b[3;5HO\u001b[2J\u001b[4;3HO\u001b[4;4HO\u001b[3;5HO\u001b[2;4HO\u001b[4;5HO\u001b[2J\u001b[4;4HO\u001b[3;5HO\u001b[4;5HO\u001b[3;3HO\u001b[5;4HO\u001b[2J\u001b[3;5HO\u001b[4;5HO\u001b[5;4HO\u001b[4;3HO\u001b[5;5HO\u001b[2J\u001b[4;5HO\u001b[5;4HO\u001b[5;5HO\u001b[3;4HO\u001b[4;6HO\u001b[2J\u001b[5;4HO\u001b[5;5HO\u001b[4;6HO\u001b[3;5HO\u001b[5;6HO\u001b[2J\u001b[5;5HO\u001b[4;6HO\u001b[5;6HO\u001b[4;4HO\u001b[6;5HO\u001b[2J\u001b[4;6HO\u001b[5;6HO\u001b[6;5HO\u001b[5;4HO\u001b[6;6HO\u001b[2J\u001b[5;6HO\u001b[6;5HO\u001b[6;6HO\u001b[4;5HO\u001b[5;7HO\u001b[2J\u001b[6;5HO\u001b[6;6HO\u001b[5;7HO\u001b[4;6HO\u001b[6;7HO\u001b[2J\u001b[6;6HO\u001b[5;7HO\u001b[6;7HO\u001b[5;5HO\u001b[7;6HO\u001b[2J\u001b[5;7HO\u001b[6;7HO\u001b[7;6HO\u001b[6;5HO\u001b[7;7HO\u001b[2J\u001b[6;7HO\u001b[7;6HO\u001b[7;7HO\u001b[5;6HO\u001b[6;8HO\u001b[2J\u001b[7;6HO\u001b[7;7HO\u001b[6;8HO\u001b[5;7HO\u001b[7;8HO\u001b[2J\u001b[7;7HO\u001b[6;8HO\u001b[7;8HO\u001b[6;6HO\u001b[8;7HO\u001b[2J\u001b[6;8HO\u001b[7;8HO\u001b[8;7HO\u001b[7;6HO\u001b[8;8HO\u001b[2J\u001b[7;8HO\u001b[8;7HO\u001b[8;8HO\u001b[6;7HO\u001b[7;9HO\u001b[2J\u001b[8;7HO\u001b[8;8HO\u001b[7;9HO\u001b[6;8HO\u001b[8;9HO\u001b[2J\u001b[8;8HO\u001b[7;9HO\u001b[8;9HO\u001b[7;7HO\u001b[9;8HO\u001b[2J\u001b[7;9HO\u001b[8;9HO\u001b[9;8HO\u001b[8;7HO\u001b[9;9HO\u001b[2J\u001b[8;9HO\u001b[9;8HO\u001b[9;9HO\u001b[7;8HO\u001b[8;10HO\u001b[2J\u001b[9;8HO\u001b[9;9HO\u001b[8;10HO\u001b[7;9HO\u001b[9;10HO\u001b[2J\u001b[9;9HO\u001b[8;10HO\u001b[9;10HO\u001b[8;8HO\u001b[10;9HO\u001b[2J\u001b[8;10HO\u001b[9;10HO\u001b[10;9HO\u001b[9;8HO\u001b[10;10HO\u001b[2J\u001b[9;10HO\u001b[10;9HO\u001b[10;10HO\u001b[8;9HO\u001b[9;1HO\u001b[2J\u001b[10;9HO\u001b[10;10HO\u001b[9;1HO\u001b[8;10HO\u001b[10;1HO\u001b[2J\u001b[10;10HO\u001b[9;1HO\u001b[10;1HO\u001b[9;9HO\u001b[1;10HO\u001b[2J\u001b[9;1HO\u001b[10;1HO\u001b[1;10HO\u001b[10;9HO\u001b[1;1HO\u001b[2J\u001b[10;1HO\u001b[1;10HO\u001b[1;1HO\u001b[9;10HO\u001b[10;2HO\u001b[2J\u001b[1;10HO\u001b[1;1HO\u001b[10;2HO\u001b[9;1HO\u001b[1;2HO\u001b[2J\u001b[1;1HO\u001b[10;2HO\u001b[1;2HO\u001b[10;10HO\u001b[2;1HO\u001b[2J\u001b[10;2HO\u001b[1;2HO\u001b[2;1HO\u001b[1;10HO\u001b[2;2HO\u001b[2J\u001b[1;2HO\u001b[2;1HO\u001b[2;2HO\u001b[10;1HO\u001b[1;3HO\u001b[2J\u001b[2;1HO\u001b[2;2HO\u001b[1;3HO\u001b[10;2HO\u001b[2;3HO\u001b[2J\u001b[2;2HO\u001b[1;3HO\u001b[2;3HO\u001b[1;1HO\u001b[3;2HO\u001b[2J\u001b[1;3HO\u001b[2;3HO\u001b[3;2HO\u001b[2;1HO\u001b[3;3HO\u001b[2J\u001b[2;3HO\u001b[3;2HO\u001b[3;3HO\u001b[1;2HO\u001b[2;4HO\u001b[2J\u001b[3;2HO\u001b[3;3HO\u001b[2;4HO\u001b[1;3HO\u001b[3;4HO\u001b[2J\u001b[3;3HO\u001b[2;4HO\u001b[3;4HO\u001b[2;2HO\u001b[4;3HO\u001b[2J\u001b[2;4HO\u001b[3;4HO\u001b[4;3HO\u001b[3;2HO\u001b[4;4HO\u001b[2J\u001b[3;4HO\u001b[4;3HO\u001b[4;4HO\u001b[2;3HO\u001b[3;5HO\u001b[2J\u001b[4;3HO\u001b[4;4HO\u001b[3;5HO\u001b[2;4HO\u001b[4;5HO\u001b[2J\u001b[4;4HO\u001b[3;5HO\u001b[4;5HO\u001b[3;3HO\u001b[5;4HO\u001b[2J\u001b[3;5HO\u001b[4;5HO\u001b[5;4HO\u001b[4;3HO\u001b[5;5HO\u001b[2J\u001b[4;5HO\u001b[5;4HO\u001b[5;5HO\u001b[3;4HO\u001b[4;6HO\u001b[2J\u001b[5;4HO\u001b[5;5HO\u001b[4;6HO\u001b[3;5HO\u001b[5;6HO\u001b[2J\u001b[5;5HO\u001b[4;6HO\u001b[5;6HO\u001b[4;4HO\u001b[6;5HO\u001b[2J\u001b[4;6HO\u001b[5;6HO\u001b[6;5HO\u001b[5;4HO\u001b[6;6HO\u001b[2J\u001b[5;6HO\u001b[6;5HO\u001b[6;6HO\u001b[4;5HO\u001b[5;7HO\u001b[2J\u001b[6;5HO\u001b[6;6HO\u001b[5;7HO\u001b[4;6HO\u001b[6;7HO\u001b[2J\u001b[6;6HO\u001b[5;7HO\u001b[6;7HO\u001b[5;5HO\u001b[7;6HO\u001b[2J\u001b[5;7HO\u001b[6;7HO\u001b[7;6HO\u001b[6;5HO\u001b[7;7HO\u001b[2J\u001b[6;7HO\u001b[7;6HO\u001b[7;7HO\u001b[5;6HO\u001b[6;8HO\u001b[2J\u001b[7;6HO\u001b[7;7HO\u001b[6;8HO\u001b[5;7HO\u001b[7;8HO\u001b[2J\u001b[7;7HO\u001b[6;8HO\u001b[7;8HO\u001b[6;6HO\u001b[8;7HO\u001b[2J\u001b[6;8HO\u001b[7;8HO\u001b[8;7HO\u001b[7;6HO\u001b[8;8HO\u001b[2J\u001b[7;8HO\u001b[8;7HO\u001b[8;8HO\u001b[6;7HO\u001b[7;9HO\u001b[2J\u001b[8;7HO\u001b[8;8HO\u001b[7;9HO\u001b[6;8HO\u001b[8;9HO\u001b[2J\u001b[8;8HO\u001b[7;9HO\u001b[8;9HO\u001b[7;7HO\u001b[9;8HO\u001b[2J\u001b[7;9HO\u001b[8;9HO\u001b[9;8HO\u001b[8;7HO\u001b[9;9HO\u001b[2J\u001b[8;9HO\u001b[9;8HO\u001b[9;9HO\u001b[7;8HO\u001b[8;10HO\u001b[2J\u001b[9;8HO\u001b[9;9HO\u001b[8;10HO\u001b[7;9HO\u001b[9;10HO\u001b[2J\u001b[9;9HO\u001b[8;10HO\u001b[9;10HO\u001b[8;8HO\u001b[10;9HO\u001b[2J\u001b[8;10HO\u001b[9;10HO\u001b[10;9HO\u001b[9;8HO\u001b[10;10HO\u001b[2J\u001b[9;10HO\u001b[10;9HO\u001b[10;10HO\u001b[8;9HO\u001b[9;1HO\u001b[2J\u001b[10;9HO\u001b[10;10HO\u001b[9;1HO\u001b[8;10HO\u001b[10;1HO\u001b[2J\u001b[10;10HO\u001b[9;1HO\u001b[10;1HO\u001b[9;9HO\u001b[1;10HO\u001b[2J\u001b[9;1HO\u001b[10;1HO\u001b[1;10HO\u001b[10;9HO\u001b[1;1HO\u001b[2J\u001b[10;1HO\u001b[1;10HO\u001b[1;1HO\u001b[9;10HO\u001b[10;2HO\u001b[2J\u001b[1;10HO\u001b[1;1HO\u001b[10;2HO\u001b[9;1HO\u001b[1;2HO\u001b[2J\u001b[1;1HO\u001b[10;2HO\u001b[1;2HO\u001b[10;10HO\u001b[2;1HO\u001b[2J\u001b[10;2HO\u001b[1;2HO\u001b[2;1HO\u001b[1;10HO\u001b[2;2HO\u001b[2J\u001b[1;2HO\u001b[2;1HO\u001b[2;2HO\u001b[10;1HO\u001b[1;3HO\u001b[2J\u001b[2;1HO\u001b[2;2HO\u001b[1;3HO\u001b[10;2HO\u001b[2;3HO\u001b[2J\u001b[2;2HO\u001b[1;3HO\u001b[2;3HO\u001b[1;1HO\u001b[3;2HO\u001b[2J\u001b[1;3HO\u001b[2;3HO\u001b[3;2HO\u001b[2;1HO\u001b[3;3HO\u001b[2J\u001b[2;3HO\u001b[3;2HO\u001b[3;3HO\u001b[1;2HO\u001b[2;4HO\u001b[2J\u001b[3;2HO\u001b[3;3HO\u001b[2;4HO\u001b[1;3HO\u001b[3;4HO\u001b[2J\u001b[3;3HO\u001b[2;4HO\u001b[3;4HO\u001b[2;2HO\u001b[4;3HO\u001b[2J\u001b[2;4HO\u001b[3;4HO\u001b[4;3HO\u001b[3;2HO\u001b[4;4HO\u001b[2J\u001b[3;4HO\u001b[4;3HO\u001b[4;4HO\u001b[2;3HO\u001b[3;5HO\u001b[2J\u001b[4;3HO\u001b[4;4HO\u001b[3;"
      ]
     },
     "metadata": {},
     "output_type": "display_data"
    }
   ],
   "source": [
    "-- life glider\n",
    "-- Not available in jupyter-lab"
   ]
  },
  {
   "cell_type": "markdown",
   "metadata": {},
   "source": [
    "# Chapter 11"
   ]
  },
  {
   "cell_type": "code",
   "execution_count": 3,
   "metadata": {},
   "outputs": [
    {
     "data": {
      "text/html": [
       "<style>/* Styles used for the Hoogle display in the pager */\n",
       ".hoogle-doc {\n",
       "display: block;\n",
       "padding-bottom: 1.3em;\n",
       "padding-left: 0.4em;\n",
       "}\n",
       ".hoogle-code {\n",
       "display: block;\n",
       "font-family: monospace;\n",
       "white-space: pre;\n",
       "}\n",
       ".hoogle-text {\n",
       "display: block;\n",
       "}\n",
       ".hoogle-name {\n",
       "color: green;\n",
       "font-weight: bold;\n",
       "}\n",
       ".hoogle-head {\n",
       "font-weight: bold;\n",
       "}\n",
       ".hoogle-sub {\n",
       "display: block;\n",
       "margin-left: 0.4em;\n",
       "}\n",
       ".hoogle-package {\n",
       "font-weight: bold;\n",
       "font-style: italic;\n",
       "}\n",
       ".hoogle-module {\n",
       "font-weight: bold;\n",
       "}\n",
       ".hoogle-class {\n",
       "font-weight: bold;\n",
       "}\n",
       ".get-type {\n",
       "color: green;\n",
       "font-weight: bold;\n",
       "font-family: monospace;\n",
       "display: block;\n",
       "white-space: pre-wrap;\n",
       "}\n",
       ".show-type {\n",
       "color: green;\n",
       "font-weight: bold;\n",
       "font-family: monospace;\n",
       "margin-left: 1em;\n",
       "}\n",
       ".mono {\n",
       "font-family: monospace;\n",
       "display: block;\n",
       "}\n",
       ".err-msg {\n",
       "color: red;\n",
       "font-style: italic;\n",
       "font-family: monospace;\n",
       "white-space: pre;\n",
       "display: block;\n",
       "}\n",
       "#unshowable {\n",
       "color: red;\n",
       "font-weight: bold;\n",
       "}\n",
       ".err-msg.in.collapse {\n",
       "padding-top: 0.7em;\n",
       "}\n",
       ".highlight-code {\n",
       "white-space: pre;\n",
       "font-family: monospace;\n",
       "}\n",
       ".suggestion-warning { \n",
       "font-weight: bold;\n",
       "color: rgb(200, 130, 0);\n",
       "}\n",
       ".suggestion-error { \n",
       "font-weight: bold;\n",
       "color: red;\n",
       "}\n",
       ".suggestion-name {\n",
       "font-weight: bold;\n",
       "}\n",
       "</style><div class=\"suggestion-name\" style=\"clear:both;\">Use notElem</div><div class=\"suggestion-row\" style=\"float: left;\"><div class=\"suggestion-warning\">Found:</div><div class=\"highlight-code\" id=\"haskell\">all (/= B)</div></div><div class=\"suggestion-row\" style=\"float: left;\"><div class=\"suggestion-warning\">Why Not:</div><div class=\"highlight-code\" id=\"haskell\">notElem B</div></div>"
      ],
      "text/plain": [
       "Line 23: Use notElem\n",
       "Found:\n",
       "all (/= B)\n",
       "Why not:\n",
       "notElem B"
      ]
     },
     "metadata": {},
     "output_type": "display_data"
    }
   ],
   "source": [
    "-- tic-tac-toe\n",
    "import Data.Char\n",
    "import Data.List\n",
    "import System.IO\n",
    "\n",
    "size :: Int\n",
    "size = 3\n",
    "\n",
    "type Grid = [[Player]]\n",
    "\n",
    "data Player = O | B | X\n",
    "              deriving (Eq, Ord, Show)\n",
    "\n",
    "next :: Player -> Player\n",
    "next O = X\n",
    "next B = B\n",
    "next X = O\n",
    "\n",
    "empty :: Grid\n",
    "empty = replicate size (replicate size B)\n",
    "\n",
    "full :: Grid -> Bool\n",
    "full = all (/= B) . concat \n",
    "\n",
    "turn :: Grid -> Player\n",
    "turn g = if os <= xs then O else X\n",
    "           where\n",
    "             os = length (filter (== O) ps)\n",
    "             xs = length (filter (== X) ps)\n",
    "             ps = concat g\n",
    "\n",
    "wins :: Player -> Grid -> Bool\n",
    "wins p g = any line (rows ++ cols ++ dias)\n",
    "             where\n",
    "               line = all (== p)\n",
    "               rows = g\n",
    "               cols = transpose g\n",
    "               dias = [diag g, diag (map reverse g)]\n",
    "               \n",
    "diag :: Grid -> [Player]\n",
    "diag g = [g !! n !! n | n <- [0..size-1]]\n",
    "\n",
    "won :: Grid -> Bool\n",
    "won g = wins O g || wins X g\n",
    "\n",
    "putGrid :: Grid -> IO ()\n",
    "putGrid =\n",
    "  putStrLn . unlines . concat . interleave bar . map showRow\n",
    "  where bar = [replicate ((size*4)-1) '-']\n",
    "  \n",
    "interleave :: a -> [a] -> [a]\n",
    "interleave x [] = []\n",
    "interleave x [y] = [y]\n",
    "interleave x (y:ys) = y : x : interleave x ys\n",
    "\n",
    "{-\n",
    "interleave :: a -> [a] -> [[a]]\n",
    "interleave x [] = [[x]]\n",
    "interleave x (y:ys) = (x:y:ys) : map (y:) (interleave x ys)\n",
    "-}\n",
    "showRow :: [Player] -> [String]\n",
    "showRow = beside . interleave bar . map showPlayer\n",
    "            where\n",
    "              beside = foldr1 (zipWith (++))\n",
    "              bar    = replicate 3 \"|\"\n",
    "              \n",
    "showPlayer :: Player -> [String]\n",
    "showPlayer O = [\"   \", \" O \", \"   \"]\n",
    "showPlayer B = [\"   \", \"   \", \"   \"]\n",
    "showPlayer X = [\"   \", \" X \", \"   \"]"
   ]
  },
  {
   "cell_type": "code",
   "execution_count": 4,
   "metadata": {},
   "outputs": [
    {
     "data": {
      "text/plain": [
       "   |   |   \n",
       "   | O | O \n",
       "   |   |   \n",
       "-----------\n",
       "   |   |   \n",
       " O | X | O \n",
       "   |   |   \n",
       "-----------\n",
       "   |   |   \n",
       " X | X | X \n",
       "   |   |"
      ]
     },
     "metadata": {},
     "output_type": "display_data"
    }
   ],
   "source": [
    "putGrid [[B,O,O],[O,X,O],[X,X,X]]"
   ]
  },
  {
   "cell_type": "markdown",
   "metadata": {},
   "source": [
    "# Chapter 12"
   ]
  },
  {
   "cell_type": "code",
   "execution_count": 1,
   "metadata": {},
   "outputs": [
    {
     "ename": "",
     "evalue": "",
     "header": "MessageHeader {mhIdentifiers = [\"670f568c-a139-462e-b9ca-0b509b400ba9\"], mhParentHeader = Just (MessageHeader {mhIdentifiers = [\"670f568c-a139-462e-b9ca-0b509b400ba9\"], mhParentHeader = Nothing, mhMetadata = Metadata (fromList [(\"recordTiming\",Bool False),(\"deletedCells\",Array []),(\"cellId\",String \"df9c204c-3a8e-4bfb-b462-260180b9cbc3\")]), mhMessageId = UUID {uuidToString = \"19ef6630-4971-4ccc-a821-5889324e5973\"}, mhSessionId = UUID {uuidToString = \"670f568c-a139-462e-b9ca-0b509b400ba9\"}, mhUsername = \"\", mhMsgType = ExecuteRequestMessage, mhBuffers = []}), mhMetadata = Metadata (fromList []), mhMessageId = UUID {uuidToString = \"402b279e-57eb-4429-80e4-e17c794ffa30\"}, mhSessionId = UUID {uuidToString = \"670f568c-a139-462e-b9ca-0b509b400ba9\"}, mhUsername = \"\", mhMsgType = ExecuteErrorMessage, mhBuffers = []}",
     "output_type": "error",
     "traceback": [
      "<interactive>:1:10: error:\n    Duplicate instance declarations:\n      instance Applicative Maybe -- Defined at <interactive>:1:10\n      instance Applicative Maybe -- Defined in ‘GHC.Base’"
     ]
    }
   ],
   "source": [
    "-- (a -> b) -> f a -> f b\n",
    "-- Here, functor f which has data structure as \"f a\" is sometimes called container type\n",
    "\n",
    "-- pure g <*> x1 <*> x2 <*> ... <*>\n",
    "-- applicative style\n",
    "\n",
    "--class Functor f => Applicative f where\n",
    "--  pure :: a -> f a\n",
    "--  (<*>) :: f (a -> b) -> f a -> f b\n",
    "\n",
    "--instance Applicative Maybe where\n",
    "--  --pure :: a -> Maybe a\n",
    "--    pure = Just\n",
    "--  --(<*>) :: Maybe (a -> b) -> Maybe a -> Maybe b\n",
    "--    Nothing <*> _ = Nothing\n",
    "--    (Just g) <*> mx = fmap g mx\n",
    "\n",
    "--instance Functor Maybe where\n",
    "--  --fmap :: (a -> b) -> Maybe a -> Maybe b\n",
    "--    fmap _ Nothing = Nothing\n",
    "--    fmap g (Just x) = Just (g x)"
   ]
  },
  {
   "cell_type": "code",
   "execution_count": null,
   "metadata": {},
   "outputs": [],
   "source": [
    "---- ex\n",
    "--pure (+) <*> Just 1 <*> Just 2\n",
    "--Just (+) <*> Just 1 <*> Just 2\n",
    "--(fmap (+) (Just 1)) <*> Just 2\n",
    "--(Just ((+) 1)) <*> Just 2\n",
    "--fmap ((+) 1) (Just 2)\n",
    "--Just (((+) 1) 2)\n",
    "--Just 3"
   ]
  },
  {
   "cell_type": "code",
   "execution_count": null,
   "metadata": {},
   "outputs": [],
   "source": [
    "--fmap :: (a -> b) -> [a] -> [b]\n",
    "--fmap f [] = []\n",
    "--fmap f (x:xs) = f x : map f xs\n",
    "--\n",
    "--instance Applicative [] where\n",
    "--   -- pure :: a -> [a]\n",
    "--   pure x = [x]\n",
    "--   -- (<*>) :: [a -> b] -> [a] -> [b]\n",
    "--   gs <*> xs = [g x | g <- gs, x <- xs]"
   ]
  },
  {
   "cell_type": "code",
   "execution_count": null,
   "metadata": {},
   "outputs": [],
   "source": [
    "---- ex\n",
    "--pure (+1) <*> [1,2,3]\n",
    "--[(+1)] <*> [1,2,3]\n",
    "--[((+1) 1),((+1) 2),((+1) 3)]"
   ]
  },
  {
   "cell_type": "code",
   "execution_count": null,
   "metadata": {},
   "outputs": [],
   "source": [
    "---- ex\n",
    "--pure (*) <*> [1,2] <*> [3,4]\n",
    "--[(*)] <*> [1,2] <*> [3,4]\n",
    "--[((*) 1),((*) 2)] <*> [3,4]\n",
    "--[(((*) 1) 3),(((*) 1) 4),(((*) 2) 3),(((*) 2) 4)]\n",
    "--[3, 4, 6, 8]"
   ]
  },
  {
   "cell_type": "code",
   "execution_count": 2,
   "metadata": {},
   "outputs": [
    {
     "data": {
      "text/html": [
       "<style>/* Styles used for the Hoogle display in the pager */\n",
       ".hoogle-doc {\n",
       "display: block;\n",
       "padding-bottom: 1.3em;\n",
       "padding-left: 0.4em;\n",
       "}\n",
       ".hoogle-code {\n",
       "display: block;\n",
       "font-family: monospace;\n",
       "white-space: pre;\n",
       "}\n",
       ".hoogle-text {\n",
       "display: block;\n",
       "}\n",
       ".hoogle-name {\n",
       "color: green;\n",
       "font-weight: bold;\n",
       "}\n",
       ".hoogle-head {\n",
       "font-weight: bold;\n",
       "}\n",
       ".hoogle-sub {\n",
       "display: block;\n",
       "margin-left: 0.4em;\n",
       "}\n",
       ".hoogle-package {\n",
       "font-weight: bold;\n",
       "font-style: italic;\n",
       "}\n",
       ".hoogle-module {\n",
       "font-weight: bold;\n",
       "}\n",
       ".hoogle-class {\n",
       "font-weight: bold;\n",
       "}\n",
       ".get-type {\n",
       "color: green;\n",
       "font-weight: bold;\n",
       "font-family: monospace;\n",
       "display: block;\n",
       "white-space: pre-wrap;\n",
       "}\n",
       ".show-type {\n",
       "color: green;\n",
       "font-weight: bold;\n",
       "font-family: monospace;\n",
       "margin-left: 1em;\n",
       "}\n",
       ".mono {\n",
       "font-family: monospace;\n",
       "display: block;\n",
       "}\n",
       ".err-msg {\n",
       "color: red;\n",
       "font-style: italic;\n",
       "font-family: monospace;\n",
       "white-space: pre;\n",
       "display: block;\n",
       "}\n",
       "#unshowable {\n",
       "color: red;\n",
       "font-weight: bold;\n",
       "}\n",
       ".err-msg.in.collapse {\n",
       "padding-top: 0.7em;\n",
       "}\n",
       ".highlight-code {\n",
       "white-space: pre;\n",
       "font-family: monospace;\n",
       "}\n",
       ".suggestion-warning { \n",
       "font-weight: bold;\n",
       "color: rgb(200, 130, 0);\n",
       "}\n",
       ".suggestion-error { \n",
       "font-weight: bold;\n",
       "color: red;\n",
       "}\n",
       ".suggestion-name {\n",
       "font-weight: bold;\n",
       "}\n",
       "</style><div class=\"suggestion-name\" style=\"clear:both;\">Use <$></div><div class=\"suggestion-row\" style=\"float: left;\"><div class=\"suggestion-warning\">Found:</div><div class=\"highlight-code\" id=\"haskell\">pure (*) <*> xs</div></div><div class=\"suggestion-row\" style=\"float: left;\"><div class=\"suggestion-warning\">Why Not:</div><div class=\"highlight-code\" id=\"haskell\">((*) <$> xs)</div></div>"
      ],
      "text/plain": [
       "Line 5: Use <$>\n",
       "Found:\n",
       "pure (*) <*> xs\n",
       "Why not:\n",
       "((*) <$> xs)"
      ]
     },
     "metadata": {},
     "output_type": "display_data"
    }
   ],
   "source": [
    "--prods :: [Int] -> [Int] -> [Int]\n",
    "--prods xs ys = [x*y | x <- xs, y <- ys]\n",
    "\n",
    "prods :: [Int] -> [Int] -> [Int]\n",
    "prods xs ys = pure (*) <*> xs <*> ys"
   ]
  },
  {
   "cell_type": "code",
   "execution_count": 3,
   "metadata": {},
   "outputs": [
    {
     "data": {
      "text/plain": [
       "[3,4,6,8]"
      ]
     },
     "metadata": {},
     "output_type": "display_data"
    }
   ],
   "source": [
    "prods [1,2] [3,4]"
   ]
  },
  {
   "cell_type": "code",
   "execution_count": 4,
   "metadata": {},
   "outputs": [
    {
     "data": {
      "text/html": [
       "<style>/* Styles used for the Hoogle display in the pager */\n",
       ".hoogle-doc {\n",
       "display: block;\n",
       "padding-bottom: 1.3em;\n",
       "padding-left: 0.4em;\n",
       "}\n",
       ".hoogle-code {\n",
       "display: block;\n",
       "font-family: monospace;\n",
       "white-space: pre;\n",
       "}\n",
       ".hoogle-text {\n",
       "display: block;\n",
       "}\n",
       ".hoogle-name {\n",
       "color: green;\n",
       "font-weight: bold;\n",
       "}\n",
       ".hoogle-head {\n",
       "font-weight: bold;\n",
       "}\n",
       ".hoogle-sub {\n",
       "display: block;\n",
       "margin-left: 0.4em;\n",
       "}\n",
       ".hoogle-package {\n",
       "font-weight: bold;\n",
       "font-style: italic;\n",
       "}\n",
       ".hoogle-module {\n",
       "font-weight: bold;\n",
       "}\n",
       ".hoogle-class {\n",
       "font-weight: bold;\n",
       "}\n",
       ".get-type {\n",
       "color: green;\n",
       "font-weight: bold;\n",
       "font-family: monospace;\n",
       "display: block;\n",
       "white-space: pre-wrap;\n",
       "}\n",
       ".show-type {\n",
       "color: green;\n",
       "font-weight: bold;\n",
       "font-family: monospace;\n",
       "margin-left: 1em;\n",
       "}\n",
       ".mono {\n",
       "font-family: monospace;\n",
       "display: block;\n",
       "}\n",
       ".err-msg {\n",
       "color: red;\n",
       "font-style: italic;\n",
       "font-family: monospace;\n",
       "white-space: pre;\n",
       "display: block;\n",
       "}\n",
       "#unshowable {\n",
       "color: red;\n",
       "font-weight: bold;\n",
       "}\n",
       ".err-msg.in.collapse {\n",
       "padding-top: 0.7em;\n",
       "}\n",
       ".highlight-code {\n",
       "white-space: pre;\n",
       "font-family: monospace;\n",
       "}\n",
       ".suggestion-warning { \n",
       "font-weight: bold;\n",
       "color: rgb(200, 130, 0);\n",
       "}\n",
       ".suggestion-error { \n",
       "font-weight: bold;\n",
       "color: red;\n",
       "}\n",
       ".suggestion-name {\n",
       "font-weight: bold;\n",
       "}\n",
       "</style><div class=\"suggestion-name\" style=\"clear:both;\">Use <$></div><div class=\"suggestion-row\" style=\"float: left;\"><div class=\"suggestion-warning\">Found:</div><div class=\"highlight-code\" id=\"haskell\">pure (:) <*> getChar</div></div><div class=\"suggestion-row\" style=\"float: left;\"><div class=\"suggestion-warning\">Why Not:</div><div class=\"highlight-code\" id=\"haskell\">((:) <$> getChar)</div></div>"
      ],
      "text/plain": [
       "Line 9: Use <$>\n",
       "Found:\n",
       "pure (:) <*> getChar\n",
       "Why not:\n",
       "((:) <$> getChar)"
      ]
     },
     "metadata": {},
     "output_type": "display_data"
    }
   ],
   "source": [
    "--instance Applicative IO where\n",
    "--  -- pure :: a -> IO a\n",
    "--  pure = return\n",
    "--  -- (<*>) :: IO (a -> b) -> IO a -> IO b\n",
    "--  mg <*> mx = do {g <- mg; x <- mx; return (g x)}\n",
    "\n",
    "getChars :: Int -> IO String\n",
    "getChars 0 = return []\n",
    "getChars n = pure (:) <*> getChar <*> getChars (n-1)"
   ]
  },
  {
   "cell_type": "code",
   "execution_count": 5,
   "metadata": {},
   "outputs": [
    {
     "data": {
      "text/plain": [
       "\"b\\nd\\n\""
      ]
     },
     "metadata": {},
     "output_type": "display_data"
    }
   ],
   "source": [
    "getChars 4"
   ]
  },
  {
   "cell_type": "code",
   "execution_count": null,
   "metadata": {},
   "outputs": [],
   "source": [
    "--ex\n",
    "getChars 1\n",
    "pure (:) <*> getChar <*> getChars 0\n",
    "pure (:) <*> getChar <*> return []\n",
    "(return (:)) <*> getChar <*> return []\n",
    "(do {g <- return (:); x <- getChar; return (g x)}) <*> return []\n",
    "(do {x <- getChar; return ((:) x)}) <*> return []\n",
    "\n",
    "do {g <- (do {x <- getChar; return ((:) x)});\n",
    "    y <- return [];\n",
    "    return (g y)}\n",
    "do {g <- (do {x <- getChar; return ((:) x)}); \n",
    "    return (g [])}\n",
    "do {x <- getChar; \n",
    "    return (((:) x) [])}\n",
    "do {x <- getChar; \n",
    "    return (x:[])}\n",
    "do {x <- getChar; return [x]}"
   ]
  },
  {
   "cell_type": "code",
   "execution_count": null,
   "metadata": {},
   "outputs": [],
   "source": [
    "--ex\n",
    "getChars 2\n",
    "(do {x <- getChar; return ((:) x)}) <*> getChar 1\n",
    "do {g <- (do {x <- getChar; return ((:) x)}); \n",
    "    z <- getChar 1;\n",
    "    return (g z)}\n",
    "do {g <- (do {x <- getChar; return ((:) x)});\n",
    "    z <- do {y <- getChar; return [y]};\n",
    "    return (g z)}\n",
    "do {g <- (do {x <- getChar; return ((:) x)});\n",
    "    y <- getChar;\n",
    "    return (g [y])}\n",
    "do {x <- getChar;\n",
    "    y <- getChar;\n",
    "    return (((:) x) [y])}\n",
    "do {x <- getChar;\n",
    "    y <- getChar;\n",
    "    return (x:[y])}\n",
    "do {x <- getChar;\n",
    "    y <- getChar;\n",
    "    return [x,y]}   "
   ]
  },
  {
   "cell_type": "code",
   "execution_count": null,
   "metadata": {},
   "outputs": [],
   "source": [
    "sequenceA :: Applicative f => [f a] -> f [a]\n",
    "sequenceA [] = pure []\n",
    "sequenceA (x:xs) = pure (:) <*> x <*> sequenceA xs"
   ]
  },
  {
   "cell_type": "code",
   "execution_count": null,
   "metadata": {},
   "outputs": [],
   "source": [
    "getChars :: Int -> IO String\n",
    "getChars n = sequenceA (replicate n getChar)"
   ]
  },
  {
   "cell_type": "code",
   "execution_count": null,
   "metadata": {},
   "outputs": [],
   "source": [
    "-- Applicative laws\n",
    "-- 1.pure id <*> x = x\n",
    "-- 2.pure (g x) = pure g <*> pure x\n",
    "-- 3.x <*> pure y = pure (\\g -> g y) <*> x\n",
    "-- 4.x <*> (y <*> z) = (pure (.) <*> x <*> y) <*> z"
   ]
  },
  {
   "cell_type": "code",
   "execution_count": null,
   "metadata": {},
   "outputs": [],
   "source": [
    "---- ex for 3\n",
    "--pure (+) <*> pure 1\n",
    "--Just (+) <*> Just 1\n",
    "--fmap (+) (Just 1)\n",
    "--Just ((+) 1)\n",
    "\n",
    "--Just (+) <*> pure 1\n",
    "--Just (\\g -> g 1) <*> Just (+)\n",
    "--fmap (\\g -> g 1) (Just (+))\n",
    "--Just ((\\g -> g 1) (+))\n",
    "--Just ((+) 1)\n",
    "--pure (+) <*> pure 1 : by above"
   ]
  },
  {
   "cell_type": "code",
   "execution_count": null,
   "metadata": {},
   "outputs": [],
   "source": [
    "---- ex\n",
    "--pure (+1) <*> pure 1\n",
    "--[(+1)] <*> [1]\n",
    "--[((+1) 1)]\n",
    "\n",
    "--pure (\\g -> g 1) <*> pure (+1)\n",
    "--[(\\g -> g 1)] <*> [(+1)]\n",
    "--[((\\g -> g 1) (+1))]\n",
    "--[((+1) 1)]\n",
    "--pure (+1) <*> pure 1 : by above"
   ]
  },
  {
   "cell_type": "code",
   "execution_count": 6,
   "metadata": {},
   "outputs": [],
   "source": [
    "-- Finally, Monads\n",
    "data Expr = Val Int | Div Expr Expr\n",
    "\n",
    "safediv :: Int -> Int -> Maybe Int\n",
    "safediv _ 0 = Nothing\n",
    "safediv n m = Just (n `div` m)\n",
    "\n",
    "eval :: Expr -> Maybe Int\n",
    "eval (Val n) = Just n\n",
    "eval (Div x y) = case eval x of\n",
    "  Nothing -> Nothing\n",
    "  Just n -> case eval y of\n",
    "    Nothing -> Nothing\n",
    "    Just m -> safediv n m"
   ]
  },
  {
   "cell_type": "code",
   "execution_count": 7,
   "metadata": {},
   "outputs": [
    {
     "data": {
      "text/plain": [
       "Nothing"
      ]
     },
     "metadata": {},
     "output_type": "display_data"
    },
    {
     "data": {
      "text/plain": [
       "Just 2"
      ]
     },
     "metadata": {},
     "output_type": "display_data"
    }
   ],
   "source": [
    "eval (Div (Val 1) (Val 0))\n",
    "eval (Div (Val 6) (Val 3))"
   ]
  },
  {
   "cell_type": "code",
   "execution_count": null,
   "metadata": {},
   "outputs": [],
   "source": [
    "(>>=) :: Maybe a -> (a -> Maybe b) -> Maybe b\n",
    "mx >>= f = case mx of\n",
    "  Nothing -> Nothing\n",
    "  Just x -> f x\n",
    "-- >>= is called bind"
   ]
  },
  {
   "cell_type": "code",
   "execution_count": null,
   "metadata": {},
   "outputs": [],
   "source": [
    "eval :: Expr -> Maybe Int\n",
    "eval (Val n) = Just n\n",
    "eval (Div x y) = eval x >>= \\n ->\n",
    "                 eval y >>= \\m ->\n",
    "                 safediv n m\n",
    "                 \n",
    "--eval (Div x y) = eval x >>= [\\n ->\n",
    "--                 eval y >>= {\\m ->\n",
    "--                 safediv n m}]\n",
    "--ex) \\n = 8\n",
    "--eval (Div x y) = eval y >>= {\\m ->\n",
    "--                 safediv 5 m}\n",
    "--\n",
    "--m1 >>= \\x1 ->\n",
    "--m2 >>= \\x2 ->\n",
    "--  .\n",
    "--  .\n",
    "--  .\n",
    "--mn >>= \\xn ->\n",
    "--f x1 x2 ... xn\n",
    "--\n",
    "-- equals\n",
    "--\n",
    "--do x1 <- m1\n",
    "--  x2 <- m2\n",
    "--  .\n",
    "--  .\n",
    "--  .\n",
    "--  xn <- mn\n",
    "--  f x1 x2 ... xn\n",
    "\n",
    "eval :: Expr -> Maybe Int\n",
    "eval (Val n) = Just n\n",
    "eval (Div x y) = do n <- eval x\n",
    "                    m <- eval y\n",
    "                    safediv n m"
   ]
  },
  {
   "cell_type": "code",
   "execution_count": null,
   "metadata": {},
   "outputs": [],
   "source": [
    "--class Applicative m => Monad m where\n",
    "--  return :: a -> m a\n",
    "--  (>>=) :: m a -> (a -> m b) -> m b\n",
    "--  \n",
    "--  return = pure"
   ]
  },
  {
   "cell_type": "code",
   "execution_count": 10,
   "metadata": {},
   "outputs": [
    {
     "data": {
      "text/html": [
       "<style>/* Styles used for the Hoogle display in the pager */\n",
       ".hoogle-doc {\n",
       "display: block;\n",
       "padding-bottom: 1.3em;\n",
       "padding-left: 0.4em;\n",
       "}\n",
       ".hoogle-code {\n",
       "display: block;\n",
       "font-family: monospace;\n",
       "white-space: pre;\n",
       "}\n",
       ".hoogle-text {\n",
       "display: block;\n",
       "}\n",
       ".hoogle-name {\n",
       "color: green;\n",
       "font-weight: bold;\n",
       "}\n",
       ".hoogle-head {\n",
       "font-weight: bold;\n",
       "}\n",
       ".hoogle-sub {\n",
       "display: block;\n",
       "margin-left: 0.4em;\n",
       "}\n",
       ".hoogle-package {\n",
       "font-weight: bold;\n",
       "font-style: italic;\n",
       "}\n",
       ".hoogle-module {\n",
       "font-weight: bold;\n",
       "}\n",
       ".hoogle-class {\n",
       "font-weight: bold;\n",
       "}\n",
       ".get-type {\n",
       "color: green;\n",
       "font-weight: bold;\n",
       "font-family: monospace;\n",
       "display: block;\n",
       "white-space: pre-wrap;\n",
       "}\n",
       ".show-type {\n",
       "color: green;\n",
       "font-weight: bold;\n",
       "font-family: monospace;\n",
       "margin-left: 1em;\n",
       "}\n",
       ".mono {\n",
       "font-family: monospace;\n",
       "display: block;\n",
       "}\n",
       ".err-msg {\n",
       "color: red;\n",
       "font-style: italic;\n",
       "font-family: monospace;\n",
       "white-space: pre;\n",
       "display: block;\n",
       "}\n",
       "#unshowable {\n",
       "color: red;\n",
       "font-weight: bold;\n",
       "}\n",
       ".err-msg.in.collapse {\n",
       "padding-top: 0.7em;\n",
       "}\n",
       ".highlight-code {\n",
       "white-space: pre;\n",
       "font-family: monospace;\n",
       "}\n",
       ".suggestion-warning { \n",
       "font-weight: bold;\n",
       "color: rgb(200, 130, 0);\n",
       "}\n",
       ".suggestion-error { \n",
       "font-weight: bold;\n",
       "color: red;\n",
       "}\n",
       ".suggestion-name {\n",
       "font-weight: bold;\n",
       "}\n",
       "</style><div class=\"suggestion-name\" style=\"clear:both;\">Redundant bracket</div><div class=\"suggestion-row\" style=\"float: left;\"><div class=\"suggestion-warning\">Found:</div><div class=\"highlight-code\" id=\"haskell\">(f x) : xs</div></div><div class=\"suggestion-row\" style=\"float: left;\"><div class=\"suggestion-warning\">Why Not:</div><div class=\"highlight-code\" id=\"haskell\">f x : xs</div></div>"
      ],
      "text/plain": [
       "Line 11: Redundant bracket\n",
       "Found:\n",
       "(f x) : xs\n",
       "Why not:\n",
       "f x : xs"
      ]
     },
     "metadata": {},
     "output_type": "display_data"
    },
    {
     "ename": "",
     "evalue": "",
     "header": "MessageHeader {mhIdentifiers = [\"670f568c-a139-462e-b9ca-0b509b400ba9\"], mhParentHeader = Just (MessageHeader {mhIdentifiers = [\"670f568c-a139-462e-b9ca-0b509b400ba9\"], mhParentHeader = Nothing, mhMetadata = Metadata (fromList [(\"recordTiming\",Bool False),(\"deletedCells\",Array []),(\"cellId\",String \"f159c87f-b0cd-417b-9b64-783444916d56\")]), mhMessageId = UUID {uuidToString = \"92b91fc7-f247-4a77-a802-437633a05c01\"}, mhSessionId = UUID {uuidToString = \"670f568c-a139-462e-b9ca-0b509b400ba9\"}, mhUsername = \"\", mhMsgType = ExecuteRequestMessage, mhBuffers = []}), mhMetadata = Metadata (fromList []), mhMessageId = UUID {uuidToString = \"b57abc91-0f9d-4f06-9eda-b6169dd4ca36\"}, mhSessionId = UUID {uuidToString = \"670f568c-a139-462e-b9ca-0b509b400ba9\"}, mhUsername = \"\", mhMsgType = ExecuteErrorMessage, mhBuffers = []}",
     "output_type": "error",
     "traceback": [
      "<interactive>:4:10: error:\n    Duplicate instance declarations:\n      instance Monad [] -- Defined at <interactive>:4:10\n      instance Monad [] -- Defined in ‘GHC.Base’\n<interactive>:1:10: error:\n    Duplicate instance declarations:\n      instance Monad Maybe -- Defined at <interactive>:1:10\n      instance Monad Maybe -- Defined in ‘GHC.Base’"
     ]
    }
   ],
   "source": [
    "instance Monad Maybe where\n",
    "-- (>>=) :: Maybe a -> (a -> Maybe b) -> Maybe b\n",
    "Nothing >>= _ = Nothing\n",
    "(Just x) >>= f = f x\n",
    "\n",
    "instance Monad [] where\n",
    "-- (>>=) :: [a] -> (a -> [b]) -> [b]\n",
    "--not wrong : xs >>= f = [y | x <- xs, y <- f x]\n",
    "--wrong : xs >>= f = concat [y | x <- xs, y <- f x]\n",
    "--or\n",
    "--xs >>= f = concat (fmap f xs)\n",
    "--or\n",
    "--[] >>= _ = []\n",
    "--x:xs >>= f = (f x) ++ (xs >>= f)"
   ]
  },
  {
   "cell_type": "code",
   "execution_count": 17,
   "metadata": {},
   "outputs": [],
   "source": [
    "-- Since\n",
    "--pure x = [x]\n",
    "--return = pure\n",
    "--pairs xs = xs >>= (\\z -> [(5,z)])\n",
    "--\n",
    "-- is equal to\n",
    "--\n",
    "--pairs xs = xs >>= (\\z -> return (5,z))\n",
    "pairs :: [a] -> [b] -> [(a,b)]\n",
    "pairs xs ys = do x <- xs\n",
    "                 y <- ys\n",
    "                 return (x,y)\n",
    "-- similar!               \n",
    "--pairs :: [a] -> [b] -> [(a,b)]\n",
    "--pairs xs ys = [(x,y) | x <- xs, y <- ys]\n",
    "-- but only applicable to lists"
   ]
  },
  {
   "cell_type": "code",
   "execution_count": 19,
   "metadata": {},
   "outputs": [
    {
     "data": {
      "text/plain": [
       "[(1,4),(1,5),(2,4),(2,5),(3,4),(3,5)]"
      ]
     },
     "metadata": {},
     "output_type": "display_data"
    }
   ],
   "source": [
    "pairs [1,2,3] [4,5]"
   ]
  },
  {
   "cell_type": "code",
   "execution_count": null,
   "metadata": {},
   "outputs": [],
   "source": [
    "-- built-in to the language!\n",
    "--instance Monad IO where\n",
    "--  -- return :: a -> IO a\n",
    "--  return x = ...\n",
    "--  -- (>>=) :: IO a -> (a -> IO b) -> IO b\n",
    "--  mx >>= f = ..."
   ]
  },
  {
   "cell_type": "code",
   "execution_count": 23,
   "metadata": {},
   "outputs": [
    {
     "data": {
      "text/html": [
       "<style>/* Styles used for the Hoogle display in the pager */\n",
       ".hoogle-doc {\n",
       "display: block;\n",
       "padding-bottom: 1.3em;\n",
       "padding-left: 0.4em;\n",
       "}\n",
       ".hoogle-code {\n",
       "display: block;\n",
       "font-family: monospace;\n",
       "white-space: pre;\n",
       "}\n",
       ".hoogle-text {\n",
       "display: block;\n",
       "}\n",
       ".hoogle-name {\n",
       "color: green;\n",
       "font-weight: bold;\n",
       "}\n",
       ".hoogle-head {\n",
       "font-weight: bold;\n",
       "}\n",
       ".hoogle-sub {\n",
       "display: block;\n",
       "margin-left: 0.4em;\n",
       "}\n",
       ".hoogle-package {\n",
       "font-weight: bold;\n",
       "font-style: italic;\n",
       "}\n",
       ".hoogle-module {\n",
       "font-weight: bold;\n",
       "}\n",
       ".hoogle-class {\n",
       "font-weight: bold;\n",
       "}\n",
       ".get-type {\n",
       "color: green;\n",
       "font-weight: bold;\n",
       "font-family: monospace;\n",
       "display: block;\n",
       "white-space: pre-wrap;\n",
       "}\n",
       ".show-type {\n",
       "color: green;\n",
       "font-weight: bold;\n",
       "font-family: monospace;\n",
       "margin-left: 1em;\n",
       "}\n",
       ".mono {\n",
       "font-family: monospace;\n",
       "display: block;\n",
       "}\n",
       ".err-msg {\n",
       "color: red;\n",
       "font-style: italic;\n",
       "font-family: monospace;\n",
       "white-space: pre;\n",
       "display: block;\n",
       "}\n",
       "#unshowable {\n",
       "color: red;\n",
       "font-weight: bold;\n",
       "}\n",
       ".err-msg.in.collapse {\n",
       "padding-top: 0.7em;\n",
       "}\n",
       ".highlight-code {\n",
       "white-space: pre;\n",
       "font-family: monospace;\n",
       "}\n",
       ".suggestion-warning { \n",
       "font-weight: bold;\n",
       "color: rgb(200, 130, 0);\n",
       "}\n",
       ".suggestion-error { \n",
       "font-weight: bold;\n",
       "color: red;\n",
       "}\n",
       ".suggestion-name {\n",
       "font-weight: bold;\n",
       "}\n",
       "</style><div class=\"suggestion-name\" style=\"clear:both;\">Eta reduce</div><div class=\"suggestion-row\" style=\"float: left;\"><div class=\"suggestion-warning\">Found:</div><div class=\"highlight-code\" id=\"haskell\">app (S st) x = st x</div></div><div class=\"suggestion-row\" style=\"float: left;\"><div class=\"suggestion-warning\">Why Not:</div><div class=\"highlight-code\" id=\"haskell\">app (S st) = st</div></div><div class=\"suggestion-name\" style=\"clear:both;\">Use tuple-section</div><div class=\"suggestion-row\" style=\"float: left;\"><div class=\"suggestion-warning\">Found:</div><div class=\"highlight-code\" id=\"haskell\">\\ s -> (x, s)</div></div><div class=\"suggestion-row\" style=\"float: left;\"><div class=\"suggestion-warning\">Why Not:</div><div class=\"highlight-code\" id=\"haskell\">(x,)</div></div><div class=\"suggestion-name\" style=\"clear:both;\">Use tuple-section</div><div class=\"suggestion-row\" style=\"float: left;\"><div class=\"suggestion-warning\">Found:</div><div class=\"highlight-code\" id=\"haskell\">\\ s -> (x, s)</div></div><div class=\"suggestion-row\" style=\"float: left;\"><div class=\"suggestion-warning\">Why Not:</div><div class=\"highlight-code\" id=\"haskell\">(x,)</div></div>"
      ],
      "text/plain": [
       "Line 7: Eta reduce\n",
       "Found:\n",
       "app (S st) x = st x\n",
       "Why not:\n",
       "app (S st) = stLine 15: Use tuple-section\n",
       "Found:\n",
       "\\ s -> (x, s)\n",
       "Why not:\n",
       "(x,)Line 15: Use tuple-section\n",
       "Found:\n",
       "\\ s -> (x, s)\n",
       "Why not:\n",
       "(x,)"
      ]
     },
     "metadata": {},
     "output_type": "display_data"
    }
   ],
   "source": [
    "type State = Int\n",
    "\n",
    "--type ST a = State -> (a,State)\n",
    "newtype ST a = S (State -> (a,State))\n",
    "\n",
    "app :: ST a -> State -> (a,State)\n",
    "app (S st) x = st x\n",
    "\n",
    "instance Functor ST where\n",
    "  -- fmap :: (a -> b) -> ST a -> ST b\n",
    "  fmap g st = S (\\s -> let (x,s') = app st s in (g x, s'))\n",
    "\n",
    "instance Applicative ST where\n",
    "  -- pure :: a -> ST a\n",
    "  pure x = S (\\s -> (x,s))\n",
    "  \n",
    "  -- (<*>) :: ST (a -> b)          -> ST a -> ST b\n",
    "  -- S (State1 -> ((a->b),State1)) -> S (State2 -> (a,State2)) -> ST b\n",
    "  stf <*> stx = S (\\s ->\n",
    "    let (f,s') = app stf s\n",
    "        (x,s'') = app stx s' in (f x, s''))\n",
    "\n",
    "instance Monad ST where\n",
    "  -- (>>=) :: ST a -> (a -> ST b) -> ST b\n",
    "  st >>= f = S (\\s -> let (x,s') = app st s in app (f x) s')"
   ]
  },
  {
   "cell_type": "code",
   "execution_count": 24,
   "metadata": {},
   "outputs": [
    {
     "data": {
      "text/plain": [
       "Node (Node (Leaf 0) (Leaf 1)) (Leaf 2)"
      ]
     },
     "metadata": {},
     "output_type": "display_data"
    }
   ],
   "source": [
    "data Tree a = Leaf a | Node (Tree a) (Tree a)\n",
    "           deriving Show\n",
    "tree :: Tree Char\n",
    "tree = Node (Node (Leaf 'a') (Leaf 'b')) (Leaf 'c')\n",
    "\n",
    "rlabel :: Tree a -> Int -> (Tree Int, Int)\n",
    "rlabel (Leaf _) n = (Leaf n, n+1)\n",
    "rlabel (Node l r) n = (Node l' r', n'')\n",
    "  where\n",
    "    (l',n') = rlabel l n\n",
    "    (r',n'') = rlabel r n'\n",
    "    \n",
    "fst (rlabel tree 0)"
   ]
  },
  {
   "cell_type": "code",
   "execution_count": 26,
   "metadata": {},
   "outputs": [
    {
     "data": {
      "text/plain": [
       "(Node (Node (Leaf 0) (Leaf 1)) (Leaf 2),3)"
      ]
     },
     "metadata": {},
     "output_type": "display_data"
    },
    {
     "data": {
      "text/plain": [
       "Node (Node (Leaf 0) (Leaf 1)) (Leaf 2)"
      ]
     },
     "metadata": {},
     "output_type": "display_data"
    }
   ],
   "source": [
    "fresh :: ST Int\n",
    "fresh = S (\\n -> (n, n+1))\n",
    "\n",
    "alabel :: Tree a -> ST (Tree Int) -- S (State -> (Tree Int,State))\n",
    "alabel (Leaf _) = Leaf <$> fresh\n",
    "alabel (Node l r) = Node <$> alabel l <*> alabel r\n",
    "\n",
    "app (alabel tree) 0\n",
    "fst (app (alabel tree) 0)"
   ]
  },
  {
   "cell_type": "code",
   "execution_count": null,
   "metadata": {},
   "outputs": [],
   "source": [
    "Leaf <$> fresh == fmap Leaf fresh\n",
    "pure Leaf <*> fresh\n",
    "S (\\s -> (Leaf,s)) <*> fresh\n",
    "S (\\s -> \n",
    "  let (f,s') = app (S (\\s -> (Leaf,s))) s\n",
    "      (x,s'') = app fresh s' in (f x, s''))\n",
    "S (\\s -> \n",
    "  let (f,s') = (\\s -> (Leaf,s)) s\n",
    "      (x,s'') = app fresh s' in (f x, s''))\n",
    "S (\\s -> \n",
    "  let (f,s') = (Leaf,s)\n",
    "      (x,s'') = app fresh s' in (f x, s''))\n",
    "--------- (a)\n",
    "S (\\s -> \n",
    "  let (x,s'') = app fresh s in (Leaf x, s''))\n",
    "--------- (b)\n",
    "S (\\s -> \n",
    "  let (x,s'') = app (S (\\n -> (n, n+1))) s in (Leaf x, s''))\n",
    "S (\\s -> \n",
    "  let (x,s'') = (\\n -> (n, n+1)) s in (Leaf x, s''))\n",
    "S (\\s -> \n",
    "  let (x,s'') = (s, s+1) in (Leaf x, s''))\n",
    "S (\\s -> (Leaf s, s+1))\n",
    "\n",
    "fmap g x == pure g <*> x == g <$> x"
   ]
  },
  {
   "cell_type": "code",
   "execution_count": null,
   "metadata": {},
   "outputs": [],
   "source": [
    "alabel (Leaf 0) == S (\\s -> (Leaf s,s+1))\n",
    "alabel (Leaf 1) == S (\\s -> (Leaf s,s+1))\n",
    "alabel (Leaf 2) == S (\\s -> (Leaf s,s+1))\n",
    "\n",
    "Node <$> alabel l \n",
    "pure Node <*> (alabel l) == fmap Node (alabel l)\n",
    "-- from (b) with Leaf, fresh replaced with Node, (alabel l)\n",
    "S (\\s -> \n",
    "  let (x,s'') = app (alabel l) s in (Node x, s''))\n",
    "  \n",
    "S (\\s -> \n",
    "  let (x,s'') = app (S (\\s -> (Leaf s,s+1))) s in (Node x, s''))\n",
    "S (\\s -> \n",
    "  let (x,s'') = (\\s -> (Leaf s,s+1)) s in (Node x, s''))\n",
    "S (\\s -> \n",
    "  let (x,s'') = (Leaf s,s+1) in (Node x, s''))\n",
    "S (\\s -> (Node (Leaf s), s+1))\n",
    "\n",
    "S (\\s -> (Node (Leaf s), s+1)) <$> alabel r\n",
    "-- from (a)\n",
    "S (\\s -> \n",
    "  let (f,s') = (Node (Leaf s), s+1))\n",
    "      (x,s'') = app (alabel r) s' in (f x, s''))\n",
    "S (\\s -> \n",
    "  let (x,s'') = app (alabel r) s+1 in (Node (Leaf s) x, s''))\n",
    "S (\\s -> \n",
    "  let (x,s'') = (Leaf s+1,s+2) in (Node (Leaf s) x, s''))\n",
    "S (\\s -> (Node (Leaf s) (Leaf s+1), s+2))\n"
   ]
  },
  {
   "cell_type": "code",
   "execution_count": null,
   "metadata": {},
   "outputs": [],
   "source": [
    "S (\\s -> \n",
    "  let (x,s'') = app (alabel l) s in (Node x, s''))\n",
    "S (\\s -> \n",
    "  let (x,s'') = app (S (\\s -> (Node (Leaf s) (Leaf s+1), s+2))) s in (Node x, s''))\n",
    "S (\\s -> \n",
    "  let (x,s'') = (Node (Leaf s) (Leaf s+1), s+2) in (Node x, s''))\n",
    "S (\\s -> (Node (Node (Leaf s) (Leaf s+1)), s+2))\n",
    "\n",
    "S (\\s -> \n",
    "  let (f,s') = (Node (Node (Leaf s) (Leaf s+1)), s+2))\n",
    "      (x,s'') = app (alabel r) s' in (f x, s''))\n",
    "S (\\s -> \n",
    "  let (x,s'') = app (alabel r) s+2 in (Node (Node (Leaf s) (Leaf s+1)) x, s''))\n",
    "S (\\s -> \n",
    "  let (x,s'') = (Leaf s+2,s+3) in (Node (Node (Leaf s) (Leaf s+1)) x, s''))\n",
    "S (\\s -> (Node (Node (Leaf s) (Leaf s+1)) (Leaf s+2), s+3))"
   ]
  },
  {
   "cell_type": "code",
   "execution_count": null,
   "metadata": {},
   "outputs": [],
   "source": [
    "mlabel :: Tree a -> ST (Tree Int)\n",
    "mlabel (Leaf _) = do n <- fresh\n",
    "                     return (Leaf n)\n",
    "mlabel (Node l r) = do l' <- mlabel l\n",
    "                       r' <- mlabel r\n",
    "                       return (Node l' r')\n",
    "\n",
    "mlabel :: Tree a -> ST (Tree Int)\n",
    "mlabel (Leaf _) = fresh >>= \\n ->\n",
    "                  return (Leaf n)\n",
    "mlabel (Node l r) = mlabel l >>= l' ->\n",
    "                    mlabel l >>= r' ->\n",
    "                       return (Node l' r')"
   ]
  },
  {
   "cell_type": "code",
   "execution_count": null,
   "metadata": {},
   "outputs": [],
   "source": [
    "mlabel (Leaf 'a')\n",
    "fresh >>= \\n -> return (Leaf n)\n",
    "fresh >>= f\n",
    "S (\\s -> let (x,s') = app fresh s in app (f x) s')\n",
    "S (\\s -> let (x,s') = app (S (\\n -> (n, n+1))) s in app (f x) s')\n",
    "S (\\s -> let (x,s') = (s, s+1) in app (f x) s')\n",
    "S (\\s -> app (f s) s+1)\n",
    "\n",
    "S (\\s -> app ((\\n -> return (Leaf n)) s) s+1)\n",
    "S (\\s -> app (return (Leaf s)) s+1)\n",
    "S (\\s -> app (pure (Leaf s)) s+1)\n",
    "S (\\s -> app (S (\\t -> (Leaf s, t))) s+1)\n",
    "S (\\s -> (Leaf s, s+1))"
   ]
  },
  {
   "cell_type": "code",
   "execution_count": null,
   "metadata": {},
   "outputs": [],
   "source": [
    "S (\\s -> (Leaf s, s+1)) >>= f'\n",
    "S (\\s -> let (x,s') = app (S (\\s -> (Leaf s, s+1))) s in app (f' x) s')\n",
    "S (\\s -> let (x,s') = (Leaf s, s+1) in app (f' x) s')\n",
    "S (\\s -> app (f' (Leaf s)) s+1)\n",
    "\n",
    "S (\\s -> app (f' (Leaf s)) s+1)\n",
    "S (\\s -> app ((r' -> return (Node l' r')) (Leaf s)) s+1)\n",
    "S (\\s -> app (return (Node l' (Leaf s))) s+1)\n",
    "S (\\s -> (Node l' (Leaf s), s+1))\n",
    "\n",
    "S (\\s -> app (f' (Leaf s)) s+1)\n",
    "S (\\s -> app ((l' -> S (\\t -> (Node l' (Leaf t), t+1))) (Leaf s)) s+1)\n",
    "S (\\s -> app (S (\\t -> (Node (Leaf s) (Leaf t), t+1))) s+1)\n",
    "S (\\s -> (Node (Leaf s) (Leaf s+1), s+2))\n",
    "\n",
    "\n",
    "mlabel (Node (Leaf 'a') (Leaf 'b')) = mlabel (Leaf 'a') >>= l' ->\n",
    "                                      mlabel (Leaf 'b') >>= r' ->\n",
    "                                         return (Node l' r')\n",
    "                                         \n",
    "mlabel (Node (Leaf 'a') (Leaf 'b')) = S (\\s -> (Leaf s, s+1)) >>= l' ->\n",
    "                                      mlabel (Leaf 'b') >>= r' ->\n",
    "                                         return (Node l' r')                                         \n",
    "                                         "
   ]
  }
 ],
 "metadata": {
  "kernelspec": {
   "display_name": "Haskell - monad-bayes-series-env",
   "language": "haskell",
   "name": "ihaskell_monad-bayes-series-env"
  },
  "language_info": {
   "codemirror_mode": "Haskell",
   "file_extension": ".hs",
   "mimetype": "text/x-haskell",
   "name": "haskell",
   "pygments_lexer": "Haskell",
   "version": "8.6.5"
  }
 },
 "nbformat": 4,
 "nbformat_minor": 5
}
