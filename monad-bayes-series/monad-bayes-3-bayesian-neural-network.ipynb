{
 "cells": [
  {
   "cell_type": "markdown",
   "metadata": {},
   "source": [
    "# Probabilistic Programming with Haskell\n",
    "\n",
    "Siddhart Bath, Simeon Carstens, Matthias Meschede\n",
    "\n",
    "_first published on www.tweag.io/blog_"
   ]
  },
  {
   "cell_type": "markdown",
   "metadata": {},
   "source": [
    "#### imports"
   ]
  },
  {
   "cell_type": "code",
   "execution_count": null,
   "metadata": {},
   "outputs": [],
   "source": []
  },
  {
   "cell_type": "code",
   "execution_count": 1,
   "metadata": {},
   "outputs": [
    {
     "data": {
      "text/html": [
       "<style>/* Styles used for the Hoogle display in the pager */\n",
       ".hoogle-doc {\n",
       "display: block;\n",
       "padding-bottom: 1.3em;\n",
       "padding-left: 0.4em;\n",
       "}\n",
       ".hoogle-code {\n",
       "display: block;\n",
       "font-family: monospace;\n",
       "white-space: pre;\n",
       "}\n",
       ".hoogle-text {\n",
       "display: block;\n",
       "}\n",
       ".hoogle-name {\n",
       "color: green;\n",
       "font-weight: bold;\n",
       "}\n",
       ".hoogle-head {\n",
       "font-weight: bold;\n",
       "}\n",
       ".hoogle-sub {\n",
       "display: block;\n",
       "margin-left: 0.4em;\n",
       "}\n",
       ".hoogle-package {\n",
       "font-weight: bold;\n",
       "font-style: italic;\n",
       "}\n",
       ".hoogle-module {\n",
       "font-weight: bold;\n",
       "}\n",
       ".hoogle-class {\n",
       "font-weight: bold;\n",
       "}\n",
       ".get-type {\n",
       "color: green;\n",
       "font-weight: bold;\n",
       "font-family: monospace;\n",
       "display: block;\n",
       "white-space: pre-wrap;\n",
       "}\n",
       ".show-type {\n",
       "color: green;\n",
       "font-weight: bold;\n",
       "font-family: monospace;\n",
       "margin-left: 1em;\n",
       "}\n",
       ".mono {\n",
       "font-family: monospace;\n",
       "display: block;\n",
       "}\n",
       ".err-msg {\n",
       "color: red;\n",
       "font-style: italic;\n",
       "font-family: monospace;\n",
       "white-space: pre;\n",
       "display: block;\n",
       "}\n",
       "#unshowable {\n",
       "color: red;\n",
       "font-weight: bold;\n",
       "}\n",
       ".err-msg.in.collapse {\n",
       "padding-top: 0.7em;\n",
       "}\n",
       ".highlight-code {\n",
       "white-space: pre;\n",
       "font-family: monospace;\n",
       "}\n",
       ".suggestion-warning { \n",
       "font-weight: bold;\n",
       "color: rgb(200, 130, 0);\n",
       "}\n",
       ".suggestion-error { \n",
       "font-weight: bold;\n",
       "color: red;\n",
       "}\n",
       ".suggestion-name {\n",
       "font-weight: bold;\n",
       "}\n",
       "</style><div class=\"suggestion-name\" style=\"clear:both;\">Redundant return</div><div class=\"suggestion-row\" style=\"float: left;\"><div class=\"suggestion-warning\">Found:</div><div class=\"highlight-code\" id=\"haskell\">do b <- uniformD [False, True]\n",
       "   return b</div></div><div class=\"suggestion-row\" style=\"float: left;\"><div class=\"suggestion-warning\">Why Not:</div><div class=\"highlight-code\" id=\"haskell\">do uniformD [False, True]</div></div>"
      ],
      "text/plain": [
       "Line 2: Redundant return\n",
       "Found:\n",
       "do b <- uniformD [False, True]\n",
       "   return b\n",
       "Why not:\n",
       "do uniformD [False, True]"
      ]
     },
     "metadata": {},
     "output_type": "display_data"
    },
    {
     "ename": "",
     "evalue": "",
     "header": "MessageHeader {mhIdentifiers = [\"49c45642-0617-421d-a9cf-9bb28c2b153f\"], mhParentHeader = Just (MessageHeader {mhIdentifiers = [\"49c45642-0617-421d-a9cf-9bb28c2b153f\"], mhParentHeader = Nothing, mhMetadata = Metadata (fromList [(\"recordTiming\",Bool False),(\"deletedCells\",Array []),(\"cellId\",String \"36e91a41-72ca-4e74-a3c4-121572bcd899\")]), mhMessageId = UUID {uuidToString = \"0e9dd3e4-503b-4876-ba0f-a88267bb1265\"}, mhSessionId = UUID {uuidToString = \"49c45642-0617-421d-a9cf-9bb28c2b153f\"}, mhUsername = \"\", mhMsgType = ExecuteRequestMessage, mhBuffers = []}), mhMetadata = Metadata (fromList []), mhMessageId = UUID {uuidToString = \"b84998db-2b1e-4213-a5da-1990eef8be45\"}, mhSessionId = UUID {uuidToString = \"49c45642-0617-421d-a9cf-9bb28c2b153f\"}, mhUsername = \"\", mhMsgType = ExecuteErrorMessage, mhBuffers = []}",
     "output_type": "error",
     "traceback": [
      "<interactive>:1:11: error: Not in scope: type constructor or class ‘MonadSample’"
     ]
    }
   ],
   "source": [
    "model1 :: MonadSample m => m Bool\n",
    "model1 = do\n",
    "    b <- uniformD [False, True]\n",
    "    return b"
   ]
  },
  {
   "cell_type": "code",
   "execution_count": null,
   "metadata": {},
   "outputs": [],
   "source": []
  },
  {
   "cell_type": "code",
   "execution_count": 1,
   "metadata": {},
   "outputs": [],
   "source": [
    ":e OverloadedStrings\n",
    ":e ExistentialQuantification\n",
    ":e FlexibleContexts\n",
    "\n",
    "import System.Random.MWC (createSystemRandom)\n",
    "import qualified Graphics.Vega.VegaLite as VL\n",
    "import IHaskell.Display.Hvega (vlShow)\n",
    "import Data.Aeson (ToJSON(toJSON), Value)\n",
    "import Data.Aeson (encode)\n",
    "import qualified Data.ByteString.Lazy.Char8 as BL\n",
    "import Data.Text (Text, pack)\n",
    "import qualified Data.Histogram as DH\n",
    "import qualified Data.Histogram.Fill as DF\n",
    "import qualified Data.Histogram.Bin.Bin2D as Bin2D\n",
    "import Data.Vector.Unboxed.Base (Unbox)\n",
    "import qualified Data.Vector.Unboxed as Vec\n",
    "\n",
    "import Control.Monad (liftM2, replicateM, forM, forM_)\n",
    "import Control.Monad.IO.Class (liftIO)\n",
    "import Data.List (sort)\n",
    "import Control.Monad.Bayes.Class\n",
    "import Control.Monad.Bayes.Sampler\n",
    "import Control.Monad.Bayes.Traced\n",
    "import Control.Monad.Bayes.Weighted\n",
    "import Control.Monad.Bayes.Inference.SMC as SMC\n",
    "import Control.Monad.Bayes.Inference.RMSMC as RMSMC\n",
    "import Control.Monad.Bayes.Sequential\n",
    "import Control.Monad.Bayes.Population\n",
    "import Control.Monad.Bayes.Traced.Static (Traced)\n",
    "import Control.Monad.Bayes.Inference.SMC\n",
    "import Numeric.LinearAlgebra (Matrix, Vector, toList, vector, matrix, dot, (#>), (!), cmap, scalar, size)\n",
    "\n",
    "import Numeric.Log\n",
    "import Control.Monad.Bayes.Class\n",
    "\n",
    "import Data.List (partition)"
   ]
  },
  {
   "cell_type": "markdown",
   "metadata": {},
   "source": [
    "#### Plotting"
   ]
  },
  {
   "cell_type": "code",
   "execution_count": 2,
   "metadata": {
    "jupyter": {
     "source_hidden": true
    }
   },
   "outputs": [],
   "source": [
    "histo2D :: (Foldable f, Unbox val, Num val) =>\n",
    "    (Double, Int, Double)\n",
    "    -> (Double, Int, Double)\n",
    "    -> f (Double, Double)\n",
    "    -> DH.Histogram (Bin2D.Bin2D DH.BinD DH.BinD) val\n",
    "histo2D (xmin, xn, xmax) (ymin, yn, ymax) = DF.fillBuilder buildr\n",
    "  where\n",
    "    binX = DH.binD xmin xn xmax\n",
    "    binY = DH.binD ymin yn ymax\n",
    "    bins = Bin2D.Bin2D binX binY\n",
    "    buildr = DF.mkSimple bins\n",
    "    \n",
    "histo :: (Foldable v, Unbox a, Num a) =>\n",
    "         (Double, Int, Double)\n",
    "      -> v Double\n",
    "      -> DH.Histogram DF.BinD a\n",
    "histo (xmin, n, xmax) = DF.fillBuilder buildr\n",
    "  where\n",
    "    bins = DH.binD xmin n xmax\n",
    "    buildr = DF.mkSimple bins"
   ]
  },
  {
   "cell_type": "code",
   "execution_count": 3,
   "metadata": {
    "jupyter": {
     "source_hidden": true
    }
   },
   "outputs": [],
   "source": [
    "barPlot :: Text -> VL.VLSpec\n",
    "barPlot xName = \n",
    "    let encoding = VL.encoding\n",
    "            . VL.position VL.X [VL.PName xName, VL.PmType VL.Nominal]\n",
    "            . VL.position VL.Y [VL.PName \"binnedData\", VL.PAggregate VL.Count, VL.PmType VL.Quantitative, VL.PAxis [VL.AxTitle \"count\"]]\n",
    "    in VL.asSpec [VL.mark VL.Bar [VL.MOpacity 1.0, VL.MColor \"#a3c6de\"], encoding []]\n",
    "\n",
    "linePlot :: Text -> Text -> VL.VLSpec\n",
    "linePlot xName yName = \n",
    "  let encoding = VL.encoding\n",
    "            . VL.position VL.X [VL.PName xName, VL.PmType VL.Quantitative]\n",
    "            . VL.position VL.Y [VL.PName yName, VL.PmType VL.Quantitative]\n",
    "  in VL.asSpec [VL.mark VL.Line [VL.MColor \"blue\"], encoding []]\n",
    "\n",
    "scatterBlue xName yName (xmin, xmax) (ymin, ymax) =\n",
    "  let encoding = VL.encoding\n",
    "            . VL.position VL.X [VL.PName xName, VL.PmType VL.Quantitative, VL.PScale [VL.SDomain $ VL.DNumbers [xmin, xmax]]]\n",
    "            . VL.position VL.Y [VL.PName yName, VL.PmType VL.Quantitative, VL.PScale [VL.SDomain $ VL.DNumbers [ymin, ymax]]]\n",
    "  in VL.asSpec [VL.mark VL.Circle [VL.MColor \"blue\"], encoding []]\n",
    "  \n",
    "scatterGreen xName yName (xmin, xmax) (ymin, ymax) =\n",
    "  let encoding = VL.encoding\n",
    "            . VL.position VL.X [VL.PName xName, VL.PmType VL.Quantitative, VL.PScale [VL.SDomain $ VL.DNumbers [xmin, xmax]]]\n",
    "            . VL.position VL.Y [VL.PName yName, VL.PmType VL.Quantitative, VL.PScale [VL.SDomain $ VL.DNumbers [ymin, ymax]]]\n",
    "  in VL.asSpec [VL.mark VL.Circle [VL.MColor \"green\"], encoding []]\n",
    "  \n",
    "scatterPlotWithColor :: Text -> Text -> Text -> (Double, Double) -> (Double, Double) -> VL.VLSpec\n",
    "scatterPlotWithColor xName yName zName (xmin, xmax) (ymin, ymax) =\n",
    "  let encoding = VL.encoding\n",
    "            . VL.position VL.X [VL.PName xName, VL.PmType VL.Quantitative, VL.PScale [VL.SDomain $ VL.DNumbers [xmin, xmax]]]\n",
    "            . VL.position VL.Y [VL.PName yName, VL.PmType VL.Quantitative, VL.PScale [VL.SDomain $ VL.DNumbers [ymin, ymax]]]\n",
    "            . VL.color [ VL.MName zName, VL.MmType VL.Quantitative, VL.MScale [VL.SScheme \"blues\" [0.0, 1.0]]]\n",
    "  in VL.asSpec [VL.mark VL.Circle [], encoding []]\n",
    "\n",
    "density2DPlot :: Text -> Text -> (Double, Double) -> (Double, Double) -> VL.VLSpec\n",
    "density2DPlot xName yName (xmin, xmax) (ymin, ymax) =\n",
    "  let encoding = VL.encoding\n",
    "            . VL.position VL.X [VL.PName xName, VL.PBin [VL.Nice False, VL.Steps [0.05, 0.5, 5.0], VL.Extent xmin xmax], VL.PmType VL.Quantitative]\n",
    "            . VL.position VL.Y [VL.PName yName, VL.PBin [VL.Nice False, VL.Steps [0.05, 0.5, 5.0], VL.Extent ymin ymax], VL.PmType VL.Quantitative]\n",
    "            . VL.color [ VL.MAggregate VL.Count, VL.MName \"col\", VL.MmType VL.Quantitative, VL.MScale [VL.SScheme \"blues\" [0.0, 1.0]]]\n",
    "  in VL.asSpec [VL.mark VL.Rect [], encoding []]\n",
    "\n",
    "imagePlot :: Text -> Text -> Text -> VL.VLSpec\n",
    "imagePlot xName yName zName =\n",
    "  let encoding = VL.encoding\n",
    "            . VL.position VL.X [VL.PName xName, VL.PmType VL.Nominal, VL.PAxis [VL.AxGridOpacity 0.1]]\n",
    "            . VL.position VL.Y [VL.PName yName, VL.PmType VL.Nominal, VL.PSort [VL.Descending], VL.PAxis [VL.AxGridOpacity 0.1]]\n",
    "            . VL.fill [ VL.MName zName, VL.MmType VL.Quantitative, VL.MScale [VL.SScheme \"blues\" [0.0, 1.0]]]\n",
    "            . VL.stroke [ VL.MName zName, VL.MmType VL.Quantitative, VL.MScale [VL.SScheme \"blues\" [0.0, 1.0]],\n",
    "                          VL.MLegend [VL.LType VL.GradientLegend]]\n",
    "  in VL.asSpec [VL.mark VL.Rect [], encoding []]\n",
    "  \n",
    "imageFacetPlot :: Text -> Text -> Text -> VL.VLSpec\n",
    "imageFacetPlot xName yName zName =\n",
    "  let encoding = VL.encoding\n",
    "            . VL.position VL.X [VL.PName xName, VL.PmType VL.Ordinal, VL.PAxis [VL.AxGrid False]]\n",
    "            . VL.position VL.Y [VL.PName yName, VL.PmType VL.Ordinal, VL.PSort [VL.Descending], VL.PAxis [VL.AxGrid False]]\n",
    "            . VL.fill [ VL.MName zName, VL.MmType VL.Quantitative, VL.MScale [VL.SScheme \"blues\" [0.0, 1.0]], VL.MLegend [VL.LOrient VL.LOBottom]]\n",
    "            . VL.stroke [ VL.MName zName, VL.MmType VL.Quantitative, VL.MScale [VL.SScheme \"blues\" [0.0, 1.0]],\n",
    "                          VL.MLegend [VL.LOrient VL.LOBottom, VL.LDirection VL.Horizontal, VL.LType VL.GradientLegend]]\n",
    "  in VL.asSpec [VL.mark VL.Rect [], encoding [], VL.width 200,  VL.height 100]\n",
    "\n",
    "data SpecGrid = H [[VL.VLSpec]] | V [[VL.VLSpec]] | L [VL.VLSpec] | S VL.VLSpec | F (Text, Int, VL.VLSpec)\n",
    "\n",
    "data InputData = Cols [(Text, VL.DataValues)]\n",
    "               | File FilePath\n",
    "\n",
    "plot :: (Double, Double) -> SpecGrid -> InputData -> VL.VegaLite\n",
    "plot (figw,figh) specGrid dataPoints =\n",
    "    let description = VL.description \"Plot\"\n",
    "        dat' = case dataPoints of\n",
    "            Cols cols -> foldl (.) (VL.dataFromColumns []) (map (uncurry VL.dataColumn) cols) []\n",
    "            File fp -> VL.dataFromSource (pack fp) []\n",
    "        configure = VL.configure\n",
    "            . VL.configuration (VL.Axis\n",
    "                                        [ VL.Domain False,\n",
    "                                          VL.LabelColor \"#7F7F7F\",\n",
    "                                          VL.LabelPadding 4,\n",
    "                                          VL.TickColor \"#7F7F7F\",\n",
    "                                          VL.TickSize 5.67,\n",
    "                                          VL.Grid True,\n",
    "                                          VL.GridColor \"#FFFFFF\"\n",
    "                                          ])\n",
    "        spec = case specGrid of\n",
    "            S s -> VL.layer [s]\n",
    "            L ls -> VL.layer ls\n",
    "            H lss -> VL.hConcat (map (VL.asSpec . (:[]) . VL.layer) lss)\n",
    "            V lss -> VL.vConcat (map (VL.asSpec . (:[]) . VL.layer) lss)\n",
    "            F (_, _, s) -> VL.specification s\n",
    "        facet = case specGrid of\n",
    "            F (field, nColumns, _) -> [VL.columns $ fromIntegral nColumns, VL.facetFlow [VL.FName field, VL.FmType VL.Nominal]]\n",
    "            _   -> [VL.width figw,  VL.height figh]\n",
    "    in VL.toVegaLite $ [VL.background \"#f9f9f9\", configure [], description, dat', spec] ++ facet"
   ]
  },
  {
   "cell_type": "markdown",
   "metadata": {},
   "source": [
    "## Part 3: A Simple Neural Network\n",
    "\n",
    "This post is the third instalment of Tweag's _**Probabilistic Programming with monad‑bayes Series**_.\n",
    "You can find the previous parts here:\n",
    "\n",
    "* [Part 1: Introduction](https://www.tweag.io/posts/2019-09-20-monad-bayes-1.html)\n",
    "* [Part 2: Linear Regression here](https://www.tweag.io/posts/2019-11-08-monad-bayes-2.html)\n",
    "\n",
    "Want to make this post interactive?\n",
    "Try our [notebook version](https://github.com/tweag/blog-resources/tree/master/monad-bayes-series).\n",
    "It includes a Nix shell, the required imports, and some helper routines for plotting. Let's start modeling!"
   ]
  },
  {
   "cell_type": "markdown",
   "metadata": {},
   "source": [
    "## Introduction\n",
    "\n",
    "Where we left off, we had learned to see linear regression not as drawing a line through a data set —\n",
    "we have seen it rather as figuring out how likely it is that a line from a whole _distribution_ of lines generates the observed data set.\n",
    "\n",
    "The entire point of this is that once you know how to do this for lines, you can start fitting any model in the same fashion.\n",
    "In this blog post, we shall use a neural network.\n",
    "\n",
    "This will demonstrate one of the great strengths of `monad-bayes`:\n",
    "it doesn't have a preconceived idea of what a model should look like.\n",
    "It can define distributions of anything that you can define in Haskell.\n",
    "\n",
    "We will need to do some linear algebra computations, which we will do with the [`hmatrix`](https://hackage.haskell.org/package/hmatrix) package.\n",
    "\n",
    "## Model Setup\n",
    "\n",
    "In our last blog post, we have illustrated that a likelihood model defines a parametrized family of data distributions.\n",
    "In linear regression these data distributions are centered around lines parametrized by their _slope, and intercept_, with variations around them parametrized by _sigma_.\n",
    "In this post, we again setup such a likelihood model, but now the distributions aren't centered on lines.\n",
    "Instead, they are centered on the output of a neural network that is parametrized by a _weight_ vector and a _bias_ vector, with a _sigma_ parameter defining variations around the network output.\n",
    "Therefore, our (very simple) neural network will be represented by:"
   ]
  },
  {
   "cell_type": "code",
   "execution_count": 4,
   "metadata": {},
   "outputs": [],
   "source": [
    "data NN\n",
    "  = NN\n",
    "      { biass :: Vector Double,\n",
    "        weights :: Vector Double,\n",
    "        sigma :: Double\n",
    "      }\n",
    "  deriving (Eq, Show)"
   ]
  },
  {
   "cell_type": "markdown",
   "metadata": {},
   "source": [
    "In a Bayesian approach, a neural network computes, given some input, a probability distribution for possible outputs.\n",
    "For instance, the input may be a picture, and the output a distribution of picture labels of what is in the picture (is it a camel, a car, or a house?).\n",
    "For this blog post, we will consider the x-coordinate as the input, and a distribution of y-coordinates (y-distribution) as the output.\n",
    "This will be represented by the following:"
   ]
  },
  {
   "cell_type": "code",
   "execution_count": 5,
   "metadata": {},
   "outputs": [],
   "source": [
    "data Data\n",
    "  = Data\n",
    "      { xValue :: Double,\n",
    "        yValue :: Double\n",
    "      }\n",
    "  deriving (Eq, Show)"
   ]
  },
  {
   "cell_type": "markdown",
   "metadata": {},
   "source": [
    "Let's start by defining the x-dependent mean of the y-distribution (_y-mean_):"
   ]
  },
  {
   "cell_type": "code",
   "execution_count": 6,
   "metadata": {},
   "outputs": [],
   "source": [
    "forwardNN :: NN -> Double -> Double\n",
    "forwardNN (NN bs ws _) x =\n",
    "    ws `dot` cmap activation (scalar x - bs)\n",
    "  where activation x = if x < 0 then 0 else 1"
   ]
  },
  {
   "cell_type": "markdown",
   "metadata": {},
   "source": [
    "For a given set of neural network parameters `NN`, `forwardNN` returns a function from `Double` to `Double`, from x to the y-mean of the data distribution.\n",
    "A full y-distribution can easily be obtained by adding normally-distributed variations around the y-mean:"
   ]
  },
  {
   "cell_type": "code",
   "execution_count": 7,
   "metadata": {},
   "outputs": [
    {
     "data": {
      "text/html": [
       "<style>/* Styles used for the Hoogle display in the pager */\n",
       ".hoogle-doc {\n",
       "display: block;\n",
       "padding-bottom: 1.3em;\n",
       "padding-left: 0.4em;\n",
       "}\n",
       ".hoogle-code {\n",
       "display: block;\n",
       "font-family: monospace;\n",
       "white-space: pre;\n",
       "}\n",
       ".hoogle-text {\n",
       "display: block;\n",
       "}\n",
       ".hoogle-name {\n",
       "color: green;\n",
       "font-weight: bold;\n",
       "}\n",
       ".hoogle-head {\n",
       "font-weight: bold;\n",
       "}\n",
       ".hoogle-sub {\n",
       "display: block;\n",
       "margin-left: 0.4em;\n",
       "}\n",
       ".hoogle-package {\n",
       "font-weight: bold;\n",
       "font-style: italic;\n",
       "}\n",
       ".hoogle-module {\n",
       "font-weight: bold;\n",
       "}\n",
       ".hoogle-class {\n",
       "font-weight: bold;\n",
       "}\n",
       ".get-type {\n",
       "color: green;\n",
       "font-weight: bold;\n",
       "font-family: monospace;\n",
       "display: block;\n",
       "white-space: pre-wrap;\n",
       "}\n",
       ".show-type {\n",
       "color: green;\n",
       "font-weight: bold;\n",
       "font-family: monospace;\n",
       "margin-left: 1em;\n",
       "}\n",
       ".mono {\n",
       "font-family: monospace;\n",
       "display: block;\n",
       "}\n",
       ".err-msg {\n",
       "color: red;\n",
       "font-style: italic;\n",
       "font-family: monospace;\n",
       "white-space: pre;\n",
       "display: block;\n",
       "}\n",
       "#unshowable {\n",
       "color: red;\n",
       "font-weight: bold;\n",
       "}\n",
       ".err-msg.in.collapse {\n",
       "padding-top: 0.7em;\n",
       "}\n",
       ".highlight-code {\n",
       "white-space: pre;\n",
       "font-family: monospace;\n",
       "}\n",
       ".suggestion-warning { \n",
       "font-weight: bold;\n",
       "color: rgb(200, 130, 0);\n",
       "}\n",
       ".suggestion-error { \n",
       "font-weight: bold;\n",
       "color: red;\n",
       "}\n",
       ".suggestion-name {\n",
       "font-weight: bold;\n",
       "}\n",
       "</style><div class=\"suggestion-name\" style=\"clear:both;\">Eta reduce</div><div class=\"suggestion-row\" style=\"float: left;\"><div class=\"suggestion-warning\">Found:</div><div class=\"highlight-code\" id=\"haskell\">errorModel mean std = normalPdf mean std</div></div><div class=\"suggestion-row\" style=\"float: left;\"><div class=\"suggestion-warning\">Why Not:</div><div class=\"highlight-code\" id=\"haskell\">errorModel = normalPdf</div></div>"
      ],
      "text/plain": [
       "Line 2: Eta reduce\n",
       "Found:\n",
       "errorModel mean std = normalPdf mean std\n",
       "Why not:\n",
       "errorModel = normalPdf"
      ]
     },
     "metadata": {},
     "output_type": "display_data"
    }
   ],
   "source": [
    "errorModel :: Double -> Double -> Double -> Log Double\n",
    "errorModel mean std = normalPdf mean std"
   ]
  },
  {
   "cell_type": "markdown",
   "metadata": {},
   "source": [
    "The first two arguments of `errorModel` are the y-mean and y-sigma of the normal distribution.\n",
    "When this normal distribution is evaluated at a position y, which is the third parameter, the `errorModel` function returns the log-probability.\n",
    "What we've just said in two lengthy sentences can be combined into a single `likelihood` model like this:"
   ]
  },
  {
   "cell_type": "code",
   "execution_count": 8,
   "metadata": {},
   "outputs": [],
   "source": [
    "likelihood :: NN -> Data -> Log Double\n",
    "likelihood nn (Data xObs yObs) =\n",
    "    errorModel yMean ySigma yObs\n",
    "  where\n",
    "    ySigma = sigma nn\n",
    "    yMean = forwardNN nn xObs"
   ]
  },
  {
   "cell_type": "markdown",
   "metadata": {},
   "source": [
    "This function embodies our likelihood model:\n",
    "for given parameter values `NN`, it returns a data distribution, a function that assigns a log-probability to each data point.\n",
    "We can, for example, pick a specific neural network:"
   ]
  },
  {
   "cell_type": "code",
   "execution_count": 9,
   "metadata": {},
   "outputs": [],
   "source": [
    "nn = NN\n",
    "  { biass=vector [1, 5, 8]\n",
    "  , weights=vector [2, -5, 1]\n",
    "  , sigma=2.0\n",
    "  }"
   ]
  },
  {
   "cell_type": "markdown",
   "metadata": {},
   "source": [
    "and then plot the corresponding distribution:"
   ]
  },
  {
   "cell_type": "code",
   "execution_count": 10,
   "metadata": {},
   "outputs": [
    {
     "data": {
      "application/vnd.vegalite.v2+json": {
       "$schema": "https://vega.github.io/schema/vega-lite/v3.json",
       "background": "#f9f9f9",
       "config": {
        "axis": {
         "domain": false,
         "grid": true,
         "gridColor": "#FFFFFF",
         "labelColor": "#7F7F7F",
         "labelPadding": 4,
         "tickColor": "#7F7F7F",
         "tickSize": 5.67
        }
       },
       "data": {
        "values": [
         {
          "x": 0,
          "y": -10,
          "z": 7.433597573671492e-07
         },
         {
          "x": 0,
          "y": -9,
          "z": 7.99187055345274e-06
         },
         {
          "x": 0,
          "y": -8,
          "z": 6.691511288244271e-05
         },
         {
          "x": 0,
          "y": -7,
          "z": 0.00043634134752288024
         },
         {
          "x": 0,
          "y": -6,
          "z": 0.0022159242059690046
         },
         {
          "x": 0,
          "y": -5,
          "z": 0.008764150246784272
         },
         {
          "x": 0,
          "y": -4,
          "z": 0.026995483256594024
         },
         {
          "x": 0,
          "y": -3,
          "z": 0.06475879783294586
         },
         {
          "x": 0,
          "y": -2,
          "z": 0.12098536225957167
         },
         {
          "x": 0,
          "y": -1,
          "z": 0.17603266338214973
         },
         {
          "x": 0,
          "y": 0,
          "z": 0.19947114020071632
         },
         {
          "x": 0,
          "y": 1,
          "z": 0.17603266338214973
         },
         {
          "x": 0,
          "y": 2,
          "z": 0.12098536225957167
         },
         {
          "x": 0,
          "y": 3,
          "z": 0.06475879783294586
         },
         {
          "x": 0,
          "y": 4,
          "z": 0.026995483256594024
         },
         {
          "x": 0,
          "y": 5,
          "z": 0.008764150246784272
         },
         {
          "x": 0,
          "y": 6,
          "z": 0.0022159242059690046
         },
         {
          "x": 0,
          "y": 7,
          "z": 0.00043634134752288024
         },
         {
          "x": 0,
          "y": 8,
          "z": 6.691511288244271e-05
         },
         {
          "x": 0,
          "y": 9,
          "z": 7.99187055345274e-06
         },
         {
          "x": 0,
          "y": 10,
          "z": 7.433597573671492e-07
         },
         {
          "x": 1,
          "y": -10,
          "z": 3.037941424911644e-09
         },
         {
          "x": 1,
          "y": -9,
          "z": 5.384880021271641e-08
         },
         {
          "x": 1,
          "y": -8,
          "z": 7.433597573671492e-07
         },
         {
          "x": 1,
          "y": -7,
          "z": 7.99187055345274e-06
         },
         {
          "x": 1,
          "y": -6,
          "z": 6.691511288244271e-05
         },
         {
          "x": 1,
          "y": -5,
          "z": 0.00043634134752288024
         },
         {
          "x": 1,
          "y": -4,
          "z": 0.0022159242059690046
         },
         {
          "x": 1,
          "y": -3,
          "z": 0.008764150246784272
         },
         {
          "x": 1,
          "y": -2,
          "z": 0.026995483256594024
         },
         {
          "x": 1,
          "y": -1,
          "z": 0.06475879783294586
         },
         {
          "x": 1,
          "y": 0,
          "z": 0.12098536225957167
         },
         {
          "x": 1,
          "y": 1,
          "z": 0.17603266338214973
         },
         {
          "x": 1,
          "y": 2,
          "z": 0.19947114020071632
         },
         {
          "x": 1,
          "y": 3,
          "z": 0.17603266338214973
         },
         {
          "x": 1,
          "y": 4,
          "z": 0.12098536225957167
         },
         {
          "x": 1,
          "y": 5,
          "z": 0.06475879783294586
         },
         {
          "x": 1,
          "y": 6,
          "z": 0.026995483256594024
         },
         {
          "x": 1,
          "y": 7,
          "z": 0.008764150246784272
         },
         {
          "x": 1,
          "y": 8,
          "z": 0.0022159242059690046
         },
         {
          "x": 1,
          "y": 9,
          "z": 0.00043634134752288024
         },
         {
          "x": 1,
          "y": 10,
          "z": 6.691511288244271e-05
         },
         {
          "x": 2,
          "y": -10,
          "z": 3.037941424911644e-09
         },
         {
          "x": 2,
          "y": -9,
          "z": 5.384880021271641e-08
         },
         {
          "x": 2,
          "y": -8,
          "z": 7.433597573671492e-07
         },
         {
          "x": 2,
          "y": -7,
          "z": 7.99187055345274e-06
         },
         {
          "x": 2,
          "y": -6,
          "z": 6.691511288244271e-05
         },
         {
          "x": 2,
          "y": -5,
          "z": 0.00043634134752288024
         },
         {
          "x": 2,
          "y": -4,
          "z": 0.0022159242059690046
         },
         {
          "x": 2,
          "y": -3,
          "z": 0.008764150246784272
         },
         {
          "x": 2,
          "y": -2,
          "z": 0.026995483256594024
         },
         {
          "x": 2,
          "y": -1,
          "z": 0.06475879783294586
         },
         {
          "x": 2,
          "y": 0,
          "z": 0.12098536225957167
         },
         {
          "x": 2,
          "y": 1,
          "z": 0.17603266338214973
         },
         {
          "x": 2,
          "y": 2,
          "z": 0.19947114020071632
         },
         {
          "x": 2,
          "y": 3,
          "z": 0.17603266338214973
         },
         {
          "x": 2,
          "y": 4,
          "z": 0.12098536225957167
         },
         {
          "x": 2,
          "y": 5,
          "z": 0.06475879783294586
         },
         {
          "x": 2,
          "y": 6,
          "z": 0.026995483256594024
         },
         {
          "x": 2,
          "y": 7,
          "z": 0.008764150246784272
         },
         {
          "x": 2,
          "y": 8,
          "z": 0.0022159242059690046
         },
         {
          "x": 2,
          "y": 9,
          "z": 0.00043634134752288024
         },
         {
          "x": 2,
          "y": 10,
          "z": 6.691511288244271e-05
         },
         {
          "x": 3,
          "y": -10,
          "z": 3.037941424911644e-09
         },
         {
          "x": 3,
          "y": -9,
          "z": 5.384880021271641e-08
         },
         {
          "x": 3,
          "y": -8,
          "z": 7.433597573671492e-07
         },
         {
          "x": 3,
          "y": -7,
          "z": 7.99187055345274e-06
         },
         {
          "x": 3,
          "y": -6,
          "z": 6.691511288244271e-05
         },
         {
          "x": 3,
          "y": -5,
          "z": 0.00043634134752288024
         },
         {
          "x": 3,
          "y": -4,
          "z": 0.0022159242059690046
         },
         {
          "x": 3,
          "y": -3,
          "z": 0.008764150246784272
         },
         {
          "x": 3,
          "y": -2,
          "z": 0.026995483256594024
         },
         {
          "x": 3,
          "y": -1,
          "z": 0.06475879783294586
         },
         {
          "x": 3,
          "y": 0,
          "z": 0.12098536225957167
         },
         {
          "x": 3,
          "y": 1,
          "z": 0.17603266338214973
         },
         {
          "x": 3,
          "y": 2,
          "z": 0.19947114020071632
         },
         {
          "x": 3,
          "y": 3,
          "z": 0.17603266338214973
         },
         {
          "x": 3,
          "y": 4,
          "z": 0.12098536225957167
         },
         {
          "x": 3,
          "y": 5,
          "z": 0.06475879783294586
         },
         {
          "x": 3,
          "y": 6,
          "z": 0.026995483256594024
         },
         {
          "x": 3,
          "y": 7,
          "z": 0.008764150246784272
         },
         {
          "x": 3,
          "y": 8,
          "z": 0.0022159242059690046
         },
         {
          "x": 3,
          "y": 9,
          "z": 0.00043634134752288024
         },
         {
          "x": 3,
          "y": 10,
          "z": 6.691511288244271e-05
         },
         {
          "x": 4,
          "y": -10,
          "z": 3.037941424911644e-09
         },
         {
          "x": 4,
          "y": -9,
          "z": 5.384880021271641e-08
         },
         {
          "x": 4,
          "y": -8,
          "z": 7.433597573671492e-07
         },
         {
          "x": 4,
          "y": -7,
          "z": 7.99187055345274e-06
         },
         {
          "x": 4,
          "y": -6,
          "z": 6.691511288244271e-05
         },
         {
          "x": 4,
          "y": -5,
          "z": 0.00043634134752288024
         },
         {
          "x": 4,
          "y": -4,
          "z": 0.0022159242059690046
         },
         {
          "x": 4,
          "y": -3,
          "z": 0.008764150246784272
         },
         {
          "x": 4,
          "y": -2,
          "z": 0.026995483256594024
         },
         {
          "x": 4,
          "y": -1,
          "z": 0.06475879783294586
         },
         {
          "x": 4,
          "y": 0,
          "z": 0.12098536225957167
         },
         {
          "x": 4,
          "y": 1,
          "z": 0.17603266338214973
         },
         {
          "x": 4,
          "y": 2,
          "z": 0.19947114020071632
         },
         {
          "x": 4,
          "y": 3,
          "z": 0.17603266338214973
         },
         {
          "x": 4,
          "y": 4,
          "z": 0.12098536225957167
         },
         {
          "x": 4,
          "y": 5,
          "z": 0.06475879783294586
         },
         {
          "x": 4,
          "y": 6,
          "z": 0.026995483256594024
         },
         {
          "x": 4,
          "y": 7,
          "z": 0.008764150246784272
         },
         {
          "x": 4,
          "y": 8,
          "z": 0.0022159242059690046
         },
         {
          "x": 4,
          "y": 9,
          "z": 0.00043634134752288024
         },
         {
          "x": 4,
          "y": 10,
          "z": 6.691511288244271e-05
         },
         {
          "x": 5,
          "y": -10,
          "z": 0.00043634134752288024
         },
         {
          "x": 5,
          "y": -9,
          "z": 0.0022159242059690046
         },
         {
          "x": 5,
          "y": -8,
          "z": 0.008764150246784272
         },
         {
          "x": 5,
          "y": -7,
          "z": 0.026995483256594024
         },
         {
          "x": 5,
          "y": -6,
          "z": 0.06475879783294586
         },
         {
          "x": 5,
          "y": -5,
          "z": 0.12098536225957167
         },
         {
          "x": 5,
          "y": -4,
          "z": 0.17603266338214973
         },
         {
          "x": 5,
          "y": -3,
          "z": 0.19947114020071632
         },
         {
          "x": 5,
          "y": -2,
          "z": 0.17603266338214973
         },
         {
          "x": 5,
          "y": -1,
          "z": 0.12098536225957167
         },
         {
          "x": 5,
          "y": 0,
          "z": 0.06475879783294586
         },
         {
          "x": 5,
          "y": 1,
          "z": 0.026995483256594024
         },
         {
          "x": 5,
          "y": 2,
          "z": 0.008764150246784272
         },
         {
          "x": 5,
          "y": 3,
          "z": 0.0022159242059690046
         },
         {
          "x": 5,
          "y": 4,
          "z": 0.00043634134752288024
         },
         {
          "x": 5,
          "y": 5,
          "z": 6.691511288244271e-05
         },
         {
          "x": 5,
          "y": 6,
          "z": 7.99187055345274e-06
         },
         {
          "x": 5,
          "y": 7,
          "z": 7.433597573671492e-07
         },
         {
          "x": 5,
          "y": 8,
          "z": 5.384880021271641e-08
         },
         {
          "x": 5,
          "y": 9,
          "z": 3.037941424911644e-09
         },
         {
          "x": 5,
          "y": 10,
          "z": 1.3347783073814265e-10
         },
         {
          "x": 6,
          "y": -10,
          "z": 0.00043634134752288024
         },
         {
          "x": 6,
          "y": -9,
          "z": 0.0022159242059690046
         },
         {
          "x": 6,
          "y": -8,
          "z": 0.008764150246784272
         },
         {
          "x": 6,
          "y": -7,
          "z": 0.026995483256594024
         },
         {
          "x": 6,
          "y": -6,
          "z": 0.06475879783294586
         },
         {
          "x": 6,
          "y": -5,
          "z": 0.12098536225957167
         },
         {
          "x": 6,
          "y": -4,
          "z": 0.17603266338214973
         },
         {
          "x": 6,
          "y": -3,
          "z": 0.19947114020071632
         },
         {
          "x": 6,
          "y": -2,
          "z": 0.17603266338214973
         },
         {
          "x": 6,
          "y": -1,
          "z": 0.12098536225957167
         },
         {
          "x": 6,
          "y": 0,
          "z": 0.06475879783294586
         },
         {
          "x": 6,
          "y": 1,
          "z": 0.026995483256594024
         },
         {
          "x": 6,
          "y": 2,
          "z": 0.008764150246784272
         },
         {
          "x": 6,
          "y": 3,
          "z": 0.0022159242059690046
         },
         {
          "x": 6,
          "y": 4,
          "z": 0.00043634134752288024
         },
         {
          "x": 6,
          "y": 5,
          "z": 6.691511288244271e-05
         },
         {
          "x": 6,
          "y": 6,
          "z": 7.99187055345274e-06
         },
         {
          "x": 6,
          "y": 7,
          "z": 7.433597573671492e-07
         },
         {
          "x": 6,
          "y": 8,
          "z": 5.384880021271641e-08
         },
         {
          "x": 6,
          "y": 9,
          "z": 3.037941424911644e-09
         },
         {
          "x": 6,
          "y": 10,
          "z": 1.3347783073814265e-10
         },
         {
          "x": 7,
          "y": -10,
          "z": 0.00043634134752288024
         },
         {
          "x": 7,
          "y": -9,
          "z": 0.0022159242059690046
         },
         {
          "x": 7,
          "y": -8,
          "z": 0.008764150246784272
         },
         {
          "x": 7,
          "y": -7,
          "z": 0.026995483256594024
         },
         {
          "x": 7,
          "y": -6,
          "z": 0.06475879783294586
         },
         {
          "x": 7,
          "y": -5,
          "z": 0.12098536225957167
         },
         {
          "x": 7,
          "y": -4,
          "z": 0.17603266338214973
         },
         {
          "x": 7,
          "y": -3,
          "z": 0.19947114020071632
         },
         {
          "x": 7,
          "y": -2,
          "z": 0.17603266338214973
         },
         {
          "x": 7,
          "y": -1,
          "z": 0.12098536225957167
         },
         {
          "x": 7,
          "y": 0,
          "z": 0.06475879783294586
         },
         {
          "x": 7,
          "y": 1,
          "z": 0.026995483256594024
         },
         {
          "x": 7,
          "y": 2,
          "z": 0.008764150246784272
         },
         {
          "x": 7,
          "y": 3,
          "z": 0.0022159242059690046
         },
         {
          "x": 7,
          "y": 4,
          "z": 0.00043634134752288024
         },
         {
          "x": 7,
          "y": 5,
          "z": 6.691511288244271e-05
         },
         {
          "x": 7,
          "y": 6,
          "z": 7.99187055345274e-06
         },
         {
          "x": 7,
          "y": 7,
          "z": 7.433597573671492e-07
         },
         {
          "x": 7,
          "y": 8,
          "z": 5.384880021271641e-08
         },
         {
          "x": 7,
          "y": 9,
          "z": 3.037941424911644e-09
         },
         {
          "x": 7,
          "y": 10,
          "z": 1.3347783073814265e-10
         },
         {
          "x": 8,
          "y": -10,
          "z": 6.691511288244271e-05
         },
         {
          "x": 8,
          "y": -9,
          "z": 0.00043634134752288024
         },
         {
          "x": 8,
          "y": -8,
          "z": 0.0022159242059690046
         },
         {
          "x": 8,
          "y": -7,
          "z": 0.008764150246784272
         },
         {
          "x": 8,
          "y": -6,
          "z": 0.026995483256594024
         },
         {
          "x": 8,
          "y": -5,
          "z": 0.06475879783294586
         },
         {
          "x": 8,
          "y": -4,
          "z": 0.12098536225957167
         },
         {
          "x": 8,
          "y": -3,
          "z": 0.17603266338214973
         },
         {
          "x": 8,
          "y": -2,
          "z": 0.19947114020071632
         },
         {
          "x": 8,
          "y": -1,
          "z": 0.17603266338214973
         },
         {
          "x": 8,
          "y": 0,
          "z": 0.12098536225957167
         },
         {
          "x": 8,
          "y": 1,
          "z": 0.06475879783294586
         },
         {
          "x": 8,
          "y": 2,
          "z": 0.026995483256594024
         },
         {
          "x": 8,
          "y": 3,
          "z": 0.008764150246784272
         },
         {
          "x": 8,
          "y": 4,
          "z": 0.0022159242059690046
         },
         {
          "x": 8,
          "y": 5,
          "z": 0.00043634134752288024
         },
         {
          "x": 8,
          "y": 6,
          "z": 6.691511288244271e-05
         },
         {
          "x": 8,
          "y": 7,
          "z": 7.99187055345274e-06
         },
         {
          "x": 8,
          "y": 8,
          "z": 7.433597573671492e-07
         },
         {
          "x": 8,
          "y": 9,
          "z": 5.384880021271641e-08
         },
         {
          "x": 8,
          "y": 10,
          "z": 3.037941424911644e-09
         },
         {
          "x": 9,
          "y": -10,
          "z": 6.691511288244271e-05
         },
         {
          "x": 9,
          "y": -9,
          "z": 0.00043634134752288024
         },
         {
          "x": 9,
          "y": -8,
          "z": 0.0022159242059690046
         },
         {
          "x": 9,
          "y": -7,
          "z": 0.008764150246784272
         },
         {
          "x": 9,
          "y": -6,
          "z": 0.026995483256594024
         },
         {
          "x": 9,
          "y": -5,
          "z": 0.06475879783294586
         },
         {
          "x": 9,
          "y": -4,
          "z": 0.12098536225957167
         },
         {
          "x": 9,
          "y": -3,
          "z": 0.17603266338214973
         },
         {
          "x": 9,
          "y": -2,
          "z": 0.19947114020071632
         },
         {
          "x": 9,
          "y": -1,
          "z": 0.17603266338214973
         },
         {
          "x": 9,
          "y": 0,
          "z": 0.12098536225957167
         },
         {
          "x": 9,
          "y": 1,
          "z": 0.06475879783294586
         },
         {
          "x": 9,
          "y": 2,
          "z": 0.026995483256594024
         },
         {
          "x": 9,
          "y": 3,
          "z": 0.008764150246784272
         },
         {
          "x": 9,
          "y": 4,
          "z": 0.0022159242059690046
         },
         {
          "x": 9,
          "y": 5,
          "z": 0.00043634134752288024
         },
         {
          "x": 9,
          "y": 6,
          "z": 6.691511288244271e-05
         },
         {
          "x": 9,
          "y": 7,
          "z": 7.99187055345274e-06
         },
         {
          "x": 9,
          "y": 8,
          "z": 7.433597573671492e-07
         },
         {
          "x": 9,
          "y": 9,
          "z": 5.384880021271641e-08
         },
         {
          "x": 9,
          "y": 10,
          "z": 3.037941424911644e-09
         },
         {
          "x": 10,
          "y": -10,
          "z": 6.691511288244271e-05
         },
         {
          "x": 10,
          "y": -9,
          "z": 0.00043634134752288024
         },
         {
          "x": 10,
          "y": -8,
          "z": 0.0022159242059690046
         },
         {
          "x": 10,
          "y": -7,
          "z": 0.008764150246784272
         },
         {
          "x": 10,
          "y": -6,
          "z": 0.026995483256594024
         },
         {
          "x": 10,
          "y": -5,
          "z": 0.06475879783294586
         },
         {
          "x": 10,
          "y": -4,
          "z": 0.12098536225957167
         },
         {
          "x": 10,
          "y": -3,
          "z": 0.17603266338214973
         },
         {
          "x": 10,
          "y": -2,
          "z": 0.19947114020071632
         },
         {
          "x": 10,
          "y": -1,
          "z": 0.17603266338214973
         },
         {
          "x": 10,
          "y": 0,
          "z": 0.12098536225957167
         },
         {
          "x": 10,
          "y": 1,
          "z": 0.06475879783294586
         },
         {
          "x": 10,
          "y": 2,
          "z": 0.026995483256594024
         },
         {
          "x": 10,
          "y": 3,
          "z": 0.008764150246784272
         },
         {
          "x": 10,
          "y": 4,
          "z": 0.0022159242059690046
         },
         {
          "x": 10,
          "y": 5,
          "z": 0.00043634134752288024
         },
         {
          "x": 10,
          "y": 6,
          "z": 6.691511288244271e-05
         },
         {
          "x": 10,
          "y": 7,
          "z": 7.99187055345274e-06
         },
         {
          "x": 10,
          "y": 8,
          "z": 7.433597573671492e-07
         },
         {
          "x": 10,
          "y": 9,
          "z": 5.384880021271641e-08
         },
         {
          "x": 10,
          "y": 10,
          "z": 3.037941424911644e-09
         }
        ]
       },
       "description": "Plot",
       "height": 300,
       "layer": [
        {
         "encoding": {
          "fill": {
           "field": "z",
           "scale": {
            "scheme": {
             "extent": [
              0,
              1
             ],
             "name": "blues"
            }
           },
           "type": "quantitative"
          },
          "stroke": {
           "field": "z",
           "legend": {
            "type": "gradient"
           },
           "scale": {
            "scheme": {
             "extent": [
              0,
              1
             ],
             "name": "blues"
            }
           },
           "type": "quantitative"
          },
          "x": {
           "axis": {
            "gridOpacity": 0.1
           },
           "field": "x",
           "type": "nominal"
          },
          "y": {
           "axis": {
            "gridOpacity": 0.1
           },
           "field": "y",
           "sort": "descending",
           "type": "nominal"
          }
         },
         "mark": "rect"
        }
       ],
       "width": 600
      },
      "image/png": "[encoded data removed]"
     },
     "metadata": {},
     "output_type": "display_data"
    }
   ],
   "source": [
    "points1 =\n",
    "  [ (x, y, exp . ln $ likelihood nn (Data x y))\n",
    "  | x <- [0 .. 10]\n",
    "  , y <- [-10 .. 10]\n",
    "  ]\n",
    "\n",
    "vlShow $\n",
    "  plot\n",
    "    (600, 300)\n",
    "    (L [imagePlot \"x\" \"y\" \"z\"])\n",
    "    ( Cols\n",
    "        [ (\"x\", VL.Numbers ((\\(x, _, _) -> x) <$> points1)),\n",
    "          (\"y\", VL.Numbers ((\\(_, x, _) -> x) <$> points1)),\n",
    "          (\"z\", VL.Numbers ((\\(_, _, x) -> x) <$> points1))\n",
    "        ]\n",
    "    )"
   ]
  },
  {
   "cell_type": "markdown",
   "metadata": {},
   "source": [
    "We can see that our neural networks computes distributions centered around a step function.\n",
    "The positions of the steps are determined by the biases, while their height is determined by the weights.\n",
    "There is one step per node in our neural network (3 in this example)."
   ]
  },
  {
   "cell_type": "markdown",
   "metadata": {},
   "source": [
    "## Prior, Posterior and Predictive Distribution\n",
    "\n",
    "Now let's try and train this step-function network.\n",
    "But instead of traditional training, we will find out a whole distribution of neural networks, weighted by how likely they are to generate the observed data.\n",
    "Monad-bayes knows nothing of our `NN` data type, so it may sound like we have to do something special to teach `NN` to monad-bayes.\n",
    "But none of that is necessary:\n",
    "monad-bayes simply lets us specify distributions of _any_ data type.\n",
    "In the `NN` case, this is represented by `m NN` for some `MonadInfer m`.\n",
    "\n",
    "In the Bayesian context, training consists in computing a posterior distribution after observing the data in the training set.\n",
    "In standard monad-bayes fashion this is achieved by scoring with the likelihood that a model generates all points in the training set.\n",
    "Haskell's combinators make this very succinct."
   ]
  },
  {
   "cell_type": "code",
   "execution_count": 11,
   "metadata": {},
   "outputs": [],
   "source": [
    "postNN :: MonadInfer m => m NN -> [Data] ->  m NN\n",
    "postNN pr obs = do\n",
    "  nn <- pr\n",
    "  forM_ obs (score . likelihood nn)\n",
    "  return nn"
   ]
  },
  {
   "cell_type": "markdown",
   "metadata": {},
   "source": [
    "We also need an uninformative prior to initiate the computation.\n",
    "Let's choose a uniform distribution on the permissible parameters."
   ]
  },
  {
   "cell_type": "code",
   "execution_count": 12,
   "metadata": {},
   "outputs": [],
   "source": [
    "uniformVec :: MonadSample m => (Double, Double) -> Int -> m (Vector Double)\n",
    "uniformVec (wmin, wmax) nelements =\n",
    "  vector <$> replicateM nelements (uniform wmin wmax)\n",
    "\n",
    "priorNN :: MonadSample m => Int -> m NN\n",
    "priorNN nnodes = do\n",
    "  bias <- uniformVec (0, 10) nnodes\n",
    "  weight <- uniformVec (-10, 10) nnodes\n",
    "  sigma <- uniform 0.5 1.5\n",
    "  return $ NN bias weight sigma"
   ]
  },
  {
   "cell_type": "markdown",
   "metadata": {},
   "source": [
    "Notice how we create a distribution of vectors in `uniformVec`, as `m (Vector Double)`.\n",
    "As was the case for neural networks, monad-bayes doesn't know anything about vectors.\n",
    "\n",
    "Finally, we can use the posterior distribution to predict more data.\n",
    "To predict a data point, we literally draw uniformly from permissible points, then score them according to the neural network distribution.\n",
    "Monad-bayes ensures that this can be done efficiently."
   ]
  },
  {
   "cell_type": "code",
   "execution_count": 13,
   "metadata": {},
   "outputs": [],
   "source": [
    "predDist :: MonadInfer m => m NN -> m (NN, Data)\n",
    "predDist pr = do\n",
    "  nn <- pr\n",
    "  x <- uniform 0 10\n",
    "  y <- uniform (-5) 10\n",
    "  score $ likelihood nn (Data x y)\n",
    "  return (nn, Data x y)"
   ]
  },
  {
   "cell_type": "markdown",
   "metadata": {},
   "source": [
    "We return the neural network alongside the actual data point, this is mere convenience."
   ]
  },
  {
   "cell_type": "markdown",
   "metadata": {},
   "source": [
    "## Some Examples\n",
    "\n",
    "With this setup, we can infer a predictive data distribution from observations.\n",
    "Let's see how our network handles a line with slope `0.5` and intercept `-2`:"
   ]
  },
  {
   "cell_type": "code",
   "execution_count": 14,
   "metadata": {},
   "outputs": [],
   "source": [
    "nsamples = 200\n",
    "noise <- sampleIOfixed $ replicateM nsamples $ normal 0.0 0.5\n",
    "observations =\n",
    "  [ Data x (0.5 * x - 2 + n)\n",
    "  | (x,n) <- zip [0, (10 / nsamples) ..] noise\n",
    "  ]\n"
   ]
  },
  {
   "cell_type": "markdown",
   "metadata": {},
   "source": [
    "We can sample from the predictive data distribution with this snippet:"
   ]
  },
  {
   "cell_type": "code",
   "execution_count": 15,
   "metadata": {},
   "outputs": [
    {
     "data": {
      "text/plain": []
     },
     "metadata": {},
     "output_type": "display_data"
    }
   ],
   "source": [
    "nnodes = 3\n",
    "mkSampler = prior . mh 60000\n",
    "predicted <-\n",
    "  sampleIOfixed $ mkSampler $ predDist $\n",
    "  postNN (priorNN nnodes) observations"
   ]
  },
  {
   "cell_type": "markdown",
   "metadata": {},
   "source": [
    "And we get this distribution:"
   ]
  },
  {
   "cell_type": "code",
   "execution_count": 16,
   "metadata": {},
   "outputs": [
    {
     "data": {
      "application/vnd.vegalite.v2+json": {
       "$schema": "https://vega.github.io/schema/vega-lite/v3.json",
       "background": "#f9f9f9",
       "config": {
        "axis": {
         "domain": false,
         "grid": true,
         "gridColor": "#FFFFFF",
         "labelColor": "#7F7F7F",
         "labelPadding": 4,
         "tickColor": "#7F7F7F",
         "tickSize": 5.67
        }
       },
       "data": {
        "values": [
         {
          "xModel": 0.5,
          "xObs": 0,
          "yModel": -9.5,
          "yObs": -2.9816095292236926,
          "zModel": 0
         },
         {
          "xModel": 1.5,
          "xObs": 0.05,
          "yModel": -9.5,
          "yObs": -1.6519942162718895,
          "zModel": 0
         },
         {
          "xModel": 2.5,
          "xObs": 0.1,
          "yModel": -9.5,
          "yObs": -2.448538543811587,
          "zModel": 0
         },
         {
          "xModel": 3.5,
          "xObs": 0.15000000000000002,
          "yModel": -9.5,
          "yObs": -1.6695795498317372,
          "zModel": 0
         },
         {
          "xModel": 4.5,
          "xObs": 0.2,
          "yModel": -9.5,
          "yObs": -2.2743042799922044,
          "zModel": 0
         },
         {
          "xModel": 5.5,
          "xObs": 0.25,
          "yModel": -9.5,
          "yObs": -1.9380308622959224,
          "zModel": 0
         },
         {
          "xModel": 6.5,
          "xObs": 0.30000000000000004,
          "yModel": -9.5,
          "yObs": -1.82123379654651,
          "zModel": 0
         },
         {
          "xModel": 7.5,
          "xObs": 0.35000000000000003,
          "yModel": -9.5,
          "yObs": -2.408657698175621,
          "zModel": 0
         },
         {
          "xModel": 8.5,
          "xObs": 0.4,
          "yModel": -9.5,
          "yObs": -1.7666468187212192,
          "zModel": 0
         },
         {
          "xModel": 9.5,
          "xObs": 0.45,
          "yModel": -9.5,
          "yObs": -2.5683470842191976,
          "zModel": 0
         },
         {
          "xModel": 0.5,
          "xObs": 0.5,
          "yModel": -8.5,
          "yObs": -1.071742682255568,
          "zModel": 0
         },
         {
          "xModel": 1.5,
          "xObs": 0.55,
          "yModel": -8.5,
          "yObs": -1.3830956536945274,
          "zModel": 0
         },
         {
          "xModel": 2.5,
          "xObs": 0.6000000000000001,
          "yModel": -8.5,
          "yObs": -1.3284867198142076,
          "zModel": 0
         },
         {
          "xModel": 3.5,
          "xObs": 0.65,
          "yModel": -8.5,
          "yObs": -2.0957087197419484,
          "zModel": 0
         },
         {
          "xModel": 4.5,
          "xObs": 0.7000000000000001,
          "yModel": -8.5,
          "yObs": -2.073345414102193,
          "zModel": 0
         },
         {
          "xModel": 5.5,
          "xObs": 0.75,
          "yModel": -8.5,
          "yObs": -1.082047130756696,
          "zModel": 0
         },
         {
          "xModel": 6.5,
          "xObs": 0.8,
          "yModel": -8.5,
          "yObs": -1.41986349431992,
          "zModel": 0
         },
         {
          "xModel": 7.5,
          "xObs": 0.8500000000000001,
          "yModel": -8.5,
          "yObs": -1.5523054254917332,
          "zModel": 0
         },
         {
          "xModel": 8.5,
          "xObs": 0.9,
          "yModel": -8.5,
          "yObs": -1.3228509758938978,
          "zModel": 0
         },
         {
          "xModel": 9.5,
          "xObs": 0.9500000000000001,
          "yModel": -8.5,
          "yObs": -0.9420022261313775,
          "zModel": 0
         },
         {
          "xModel": 0.5,
          "xObs": 1,
          "yModel": -7.5,
          "yObs": -0.9390989785052783,
          "zModel": 0
         },
         {
          "xModel": 1.5,
          "xObs": 1.05,
          "yModel": -7.5,
          "yObs": -1.7818589662876883,
          "zModel": 0
         },
         {
          "xModel": 2.5,
          "xObs": 1.1,
          "yModel": -7.5,
          "yObs": -2.179432746257862,
          "zModel": 0
         },
         {
          "xModel": 3.5,
          "xObs": 1.1500000000000001,
          "yModel": -7.5,
          "yObs": -1.768893021185173,
          "zModel": 0
         },
         {
          "xModel": 4.5,
          "xObs": 1.2000000000000002,
          "yModel": -7.5,
          "yObs": -1.171784891554879,
          "zModel": 0
         },
         {
          "xModel": 5.5,
          "xObs": 1.25,
          "yModel": -7.5,
          "yObs": -2.0878035883662447,
          "zModel": 0
         },
         {
          "xModel": 6.5,
          "xObs": 1.3,
          "yModel": -7.5,
          "yObs": -0.9663921924625808,
          "zModel": 0
         },
         {
          "xModel": 7.5,
          "xObs": 1.35,
          "yModel": -7.5,
          "yObs": -1.6353792665364368,
          "zModel": 0
         },
         {
          "xModel": 8.5,
          "xObs": 1.4000000000000001,
          "yModel": -7.5,
          "yObs": -0.9857392375664915,
          "zModel": 0
         },
         {
          "xModel": 9.5,
          "xObs": 1.4500000000000002,
          "yModel": -7.5,
          "yObs": -2.394417458505749,
          "zModel": 0
         },
         {
          "xModel": 0.5,
          "xObs": 1.5,
          "yModel": -6.5,
          "yObs": -1.2267631333353946,
          "zModel": 0
         },
         {
          "xModel": 1.5,
          "xObs": 1.55,
          "yModel": -6.5,
          "yObs": -1.0566488708725144,
          "zModel": 0
         },
         {
          "xModel": 2.5,
          "xObs": 1.6,
          "yModel": -6.5,
          "yObs": -2.5451178883451684,
          "zModel": 0
         },
         {
          "xModel": 3.5,
          "xObs": 1.6500000000000001,
          "yModel": -6.5,
          "yObs": -0.6447619271931776,
          "zModel": 0
         },
         {
          "xModel": 4.5,
          "xObs": 1.7000000000000002,
          "yModel": -6.5,
          "yObs": -0.8646584170142737,
          "zModel": 0
         },
         {
          "xModel": 5.5,
          "xObs": 1.75,
          "yModel": -6.5,
          "yObs": -0.9770175984369047,
          "zModel": 0
         },
         {
          "xModel": 6.5,
          "xObs": 1.8,
          "yModel": -6.5,
          "yObs": -1.5322334397394335,
          "zModel": 0
         },
         {
          "xModel": 7.5,
          "xObs": 1.85,
          "yModel": -6.5,
          "yObs": -0.3218146236420788,
          "zModel": 0
         },
         {
          "xModel": 8.5,
          "xObs": 1.9000000000000001,
          "yModel": -6.5,
          "yObs": -0.9630817308654915,
          "zModel": 0
         },
         {
          "xModel": 9.5,
          "xObs": 1.9500000000000002,
          "yModel": -6.5,
          "yObs": -0.9557450784937351,
          "zModel": 0
         },
         {
          "xModel": 0.5,
          "xObs": 2,
          "yModel": -5.5,
          "yObs": -0.3233819891765026,
          "zModel": 0
         },
         {
          "xModel": 1.5,
          "xObs": 2.0500000000000003,
          "yModel": -5.5,
          "yObs": -0.9888893130923178,
          "zModel": 0
         },
         {
          "xModel": 2.5,
          "xObs": 2.1,
          "yModel": -5.5,
          "yObs": -0.5712263789722731,
          "zModel": 0
         },
         {
          "xModel": 3.5,
          "xObs": 2.15,
          "yModel": -5.5,
          "yObs": -1.0254907321441888,
          "zModel": 0
         },
         {
          "xModel": 4.5,
          "xObs": 2.2,
          "yModel": -5.5,
          "yObs": -0.7842698894365978,
          "zModel": 0
         },
         {
          "xModel": 5.5,
          "xObs": 2.25,
          "yModel": -5.5,
          "yObs": -1.9956819460145638,
          "zModel": 0
         },
         {
          "xModel": 6.5,
          "xObs": 2.3000000000000003,
          "yModel": -5.5,
          "yObs": -2.153272209340284,
          "zModel": 0
         },
         {
          "xModel": 7.5,
          "xObs": 2.35,
          "yModel": -5.5,
          "yObs": -0.7918640751841742,
          "zModel": 0
         },
         {
          "xModel": 8.5,
          "xObs": 2.4000000000000004,
          "yModel": -5.5,
          "yObs": -0.45989582018680725,
          "zModel": 0
         },
         {
          "xModel": 9.5,
          "xObs": 2.45,
          "yModel": -5.5,
          "yObs": -0.8265193307636551,
          "zModel": 0
         },
         {
          "xModel": 0.5,
          "xObs": 2.5,
          "yModel": -4.5,
          "yObs": -1.832091632455107,
          "zModel": 0
         },
         {
          "xModel": 1.5,
          "xObs": 2.5500000000000003,
          "yModel": -4.5,
          "yObs": -0.9145853293760959,
          "zModel": 0
         },
         {
          "xModel": 2.5,
          "xObs": 2.6,
          "yModel": -4.5,
          "yObs": -0.891895470877531,
          "zModel": 0
         },
         {
          "xModel": 3.5,
          "xObs": 2.6500000000000004,
          "yModel": -4.5,
          "yObs": -1.086847019639015,
          "zModel": 0
         },
         {
          "xModel": 4.5,
          "xObs": 2.7,
          "yModel": -4.5,
          "yObs": -0.7715982986806557,
          "zModel": 0
         },
         {
          "xModel": 5.5,
          "xObs": 2.75,
          "yModel": -4.5,
          "yObs": -1.1511660700107709,
          "zModel": 0
         },
         {
          "xModel": 6.5,
          "xObs": 2.8000000000000003,
          "yModel": -4.5,
          "yObs": 0.06862160966792474,
          "zModel": 0
         },
         {
          "xModel": 7.5,
          "xObs": 2.85,
          "yModel": -4.5,
          "yObs": -0.7850267340295203,
          "zModel": 0
         },
         {
          "xModel": 8.5,
          "xObs": 2.9000000000000004,
          "yModel": -4.5,
          "yObs": -0.505443330640706,
          "zModel": 0
         },
         {
          "xModel": 9.5,
          "xObs": 2.95,
          "yModel": -4.5,
          "yObs": -0.9244568056733422,
          "zModel": 0
         },
         {
          "xModel": 0.5,
          "xObs": 3,
          "yModel": -3.5,
          "yObs": -0.3456692625392608,
          "zModel": 90
         },
         {
          "xModel": 1.5,
          "xObs": 3.0500000000000003,
          "yModel": -3.5,
          "yObs": -0.7151301912257644,
          "zModel": 0
         },
         {
          "xModel": 2.5,
          "xObs": 3.1,
          "yModel": -3.5,
          "yObs": -0.111315238383979,
          "zModel": 34
         },
         {
          "xModel": 3.5,
          "xObs": 3.1500000000000004,
          "yModel": -3.5,
          "yObs": -0.40411140820300684,
          "zModel": 0
         },
         {
          "xModel": 4.5,
          "xObs": 3.2,
          "yModel": -3.5,
          "yObs": -0.2537243551404043,
          "zModel": 0
         },
         {
          "xModel": 5.5,
          "xObs": 3.25,
          "yModel": -3.5,
          "yObs": -0.18962827290015155,
          "zModel": 0
         },
         {
          "xModel": 6.5,
          "xObs": 3.3000000000000003,
          "yModel": -3.5,
          "yObs": -0.6756060610140261,
          "zModel": 0
         },
         {
          "xModel": 7.5,
          "xObs": 3.35,
          "yModel": -3.5,
          "yObs": -1.0348077000043157,
          "zModel": 0
         },
         {
          "xModel": 8.5,
          "xObs": 3.4000000000000004,
          "yModel": -3.5,
          "yObs": -0.28690197198675205,
          "zModel": 0
         },
         {
          "xModel": 9.5,
          "xObs": 3.45,
          "yModel": -3.5,
          "yObs": -0.589702269151113,
          "zModel": 0
         },
         {
          "xModel": 0.5,
          "xObs": 3.5,
          "yModel": -2.5,
          "yObs": -0.1263880560319824,
          "zModel": 610
         },
         {
          "xModel": 1.5,
          "xObs": 3.5500000000000003,
          "yModel": -2.5,
          "yObs": 0.12291958416971926,
          "zModel": 591
         },
         {
          "xModel": 2.5,
          "xObs": 3.6,
          "yModel": -2.5,
          "yObs": -0.9474686254185982,
          "zModel": 474
         },
         {
          "xModel": 3.5,
          "xObs": 3.6500000000000004,
          "yModel": -2.5,
          "yObs": 0.0869952364864266,
          "zModel": 376
         },
         {
          "xModel": 4.5,
          "xObs": 3.7,
          "yModel": -2.5,
          "yObs": 0.5278787782801595,
          "zModel": 36
         },
         {
          "xModel": 5.5,
          "xObs": 3.75,
          "yModel": -2.5,
          "yObs": -0.024537007117142295,
          "zModel": 0
         },
         {
          "xModel": 6.5,
          "xObs": 3.8000000000000003,
          "yModel": -2.5,
          "yObs": -0.06767186140776618,
          "zModel": 0
         },
         {
          "xModel": 7.5,
          "xObs": 3.85,
          "yModel": -2.5,
          "yObs": 0.32481822280007483,
          "zModel": 0
         },
         {
          "xModel": 8.5,
          "xObs": 3.9000000000000004,
          "yModel": -2.5,
          "yObs": 0.22480296442075515,
          "zModel": 0
         },
         {
          "xModel": 9.5,
          "xObs": 3.95,
          "yModel": -2.5,
          "yObs": 0.38790721569420344,
          "zModel": 0
         },
         {
          "xModel": 0.5,
          "xObs": 4,
          "yModel": -1.5,
          "yObs": 0.015217666391825601,
          "zModel": 2309
         },
         {
          "xModel": 1.5,
          "xObs": 4.05,
          "yModel": -1.5,
          "yObs": 0.0485369335872351,
          "zModel": 1837
         },
         {
          "xModel": 2.5,
          "xObs": 4.1000000000000005,
          "yModel": -1.5,
          "yObs": -0.15363744369346402,
          "zModel": 1757
         },
         {
          "xModel": 3.5,
          "xObs": 4.15,
          "yModel": -1.5,
          "yObs": 0.0886993557080871,
          "zModel": 816
         },
         {
          "xModel": 4.5,
          "xObs": 4.2,
          "yModel": -1.5,
          "yObs": 0.19336502732584493,
          "zModel": 320
         },
         {
          "xModel": 5.5,
          "xObs": 4.25,
          "yModel": -1.5,
          "yObs": -0.09098453895072828,
          "zModel": 130
         },
         {
          "xModel": 6.5,
          "xObs": 4.3,
          "yModel": -1.5,
          "yObs": 0.6561656901071756,
          "zModel": 19
         },
         {
          "xModel": 7.5,
          "xObs": 4.3500000000000005,
          "yModel": -1.5,
          "yObs": -0.00011629069611346354,
          "zModel": 0
         },
         {
          "xModel": 8.5,
          "xObs": 4.4,
          "yModel": -1.5,
          "yObs": 0.13057739405425464,
          "zModel": 0
         },
         {
          "xModel": 9.5,
          "xObs": 4.45,
          "yModel": -1.5,
          "yObs": -0.636526799944578,
          "zModel": 0
         },
         {
          "xModel": 0.5,
          "xObs": 4.5,
          "yModel": -0.5,
          "yObs": 0.18713339323542422,
          "zModel": 1880
         },
         {
          "xModel": 1.5,
          "xObs": 4.55,
          "yModel": -0.5,
          "yObs": -0.40675920608551774,
          "zModel": 1743
         },
         {
          "xModel": 2.5,
          "xObs": 4.6000000000000005,
          "yModel": -0.5,
          "yObs": 0.47833977859976207,
          "zModel": 1804
         },
         {
          "xModel": 3.5,
          "xObs": 4.65,
          "yModel": -0.5,
          "yObs": -0.29544994457490004,
          "zModel": 1443
         },
         {
          "xModel": 4.5,
          "xObs": 4.7,
          "yModel": -0.5,
          "yObs": -0.6461746645379257,
          "zModel": 877
         },
         {
          "xModel": 5.5,
          "xObs": 4.75,
          "yModel": -0.5,
          "yObs": 1.0181624136724787,
          "zModel": 1304
         },
         {
          "xModel": 6.5,
          "xObs": 4.800000000000001,
          "yModel": -0.5,
          "yObs": 0.5925715306619597,
          "zModel": 624
         },
         {
          "xModel": 7.5,
          "xObs": 4.8500000000000005,
          "yModel": -0.5,
          "yObs": 0.18681500906639595,
          "zModel": 26
         },
         {
          "xModel": 8.5,
          "xObs": 4.9,
          "yModel": -0.5,
          "yObs": 0.3988330179317912,
          "zModel": 19
         },
         {
          "xModel": 9.5,
          "xObs": 4.95,
          "yModel": -0.5,
          "yObs": 0.5970229121261388,
          "zModel": 6
         },
         {
          "xModel": 0.5,
          "xObs": 5,
          "yModel": 0.5,
          "yObs": 0.5847842046726826,
          "zModel": 532
         },
         {
          "xModel": 1.5,
          "xObs": 5.050000000000001,
          "yModel": 0.5,
          "yObs": 0.824054311705092,
          "zModel": 301
         },
         {
          "xModel": 2.5,
          "xObs": 5.1000000000000005,
          "yModel": 0.5,
          "yObs": 0.20402438028925407,
          "zModel": 244
         },
         {
          "xModel": 3.5,
          "xObs": 5.15,
          "yModel": 0.5,
          "yObs": 0.3369202165331444,
          "zModel": 1901
         },
         {
          "xModel": 4.5,
          "xObs": 5.2,
          "yModel": 0.5,
          "yObs": 0.5938598674098152,
          "zModel": 3791
         },
         {
          "xModel": 5.5,
          "xObs": 5.25,
          "yModel": 0.5,
          "yObs": 1.0996133674923172,
          "zModel": 3094
         },
         {
          "xModel": 6.5,
          "xObs": 5.300000000000001,
          "yModel": 0.5,
          "yObs": 0.5844605971106311,
          "zModel": 1930
         },
         {
          "xModel": 7.5,
          "xObs": 5.3500000000000005,
          "yModel": 0.5,
          "yObs": 1.5330151641454146,
          "zModel": 528
         },
         {
          "xModel": 8.5,
          "xObs": 5.4,
          "yModel": 0.5,
          "yObs": 0.9150089559123694,
          "zModel": 332
         },
         {
          "xModel": 9.5,
          "xObs": 5.45,
          "yModel": 0.5,
          "yObs": 1.3283226389034,
          "zModel": 247
         },
         {
          "xModel": 0.5,
          "xObs": 5.5,
          "yModel": 1.5,
          "yObs": 0.10172269438579662,
          "zModel": 25
         },
         {
          "xModel": 1.5,
          "xObs": 5.550000000000001,
          "yModel": 1.5,
          "yObs": 0.7579416909729232,
          "zModel": 6
         },
         {
          "xModel": 2.5,
          "xObs": 5.6000000000000005,
          "yModel": 1.5,
          "yObs": 0.4045163694291099,
          "zModel": 26
         },
         {
          "xModel": 3.5,
          "xObs": 5.65,
          "yModel": 1.5,
          "yObs": 0.8991232227961106,
          "zModel": 915
         },
         {
          "xModel": 4.5,
          "xObs": 5.7,
          "yModel": 1.5,
          "yObs": 0.9310012094727753,
          "zModel": 1460
         },
         {
          "xModel": 5.5,
          "xObs": 5.75,
          "yModel": 1.5,
          "yObs": 0.6991904095326252,
          "zModel": 1761
         },
         {
          "xModel": 6.5,
          "xObs": 5.800000000000001,
          "yModel": 1.5,
          "yObs": 0.7165240290752006,
          "zModel": 2377
         },
         {
          "xModel": 7.5,
          "xObs": 5.8500000000000005,
          "yModel": 1.5,
          "yObs": 0.7921072602666303,
          "zModel": 2984
         },
         {
          "xModel": 8.5,
          "xObs": 5.9,
          "yModel": 1.5,
          "yObs": 0.8138248309577529,
          "zModel": 2811
         },
         {
          "xModel": 9.5,
          "xObs": 5.95,
          "yModel": 1.5,
          "yObs": 1.2526748666830998,
          "zModel": 2857
         },
         {
          "xModel": 0.5,
          "xObs": 6,
          "yModel": 2.5,
          "yObs": 1.2493499977648392,
          "zModel": 0
         },
         {
          "xModel": 1.5,
          "xObs": 6.050000000000001,
          "yModel": 2.5,
          "yObs": 1.111855143273712,
          "zModel": 6
         },
         {
          "xModel": 2.5,
          "xObs": 6.1000000000000005,
          "yModel": 2.5,
          "yObs": 1.0388204522272686,
          "zModel": 0
         },
         {
          "xModel": 3.5,
          "xObs": 6.15,
          "yModel": 2.5,
          "yObs": 0.7616616666066623,
          "zModel": 57
         },
         {
          "xModel": 4.5,
          "xObs": 6.2,
          "yModel": 2.5,
          "yObs": 1.1961419630040195,
          "zModel": 157
         },
         {
          "xModel": 5.5,
          "xObs": 6.25,
          "yModel": 2.5,
          "yObs": 0.9780861121694558,
          "zModel": 166
         },
         {
          "xModel": 6.5,
          "xObs": 6.300000000000001,
          "yModel": 2.5,
          "yObs": 1.0359630318128623,
          "zModel": 1665
         },
         {
          "xModel": 7.5,
          "xObs": 6.3500000000000005,
          "yModel": 2.5,
          "yObs": 1.823923818759774,
          "zModel": 2081
         },
         {
          "xModel": 8.5,
          "xObs": 6.4,
          "yModel": 2.5,
          "yObs": 0.9212704177822388,
          "zModel": 2950
         },
         {
          "xModel": 9.5,
          "xObs": 6.45,
          "yModel": 2.5,
          "yObs": 0.779886176986412,
          "zModel": 3051
         },
         {
          "xModel": 0.5,
          "xObs": 6.5,
          "yModel": 3.5,
          "yObs": 1.959935486625701,
          "zModel": 0
         },
         {
          "xModel": 1.5,
          "xObs": 6.550000000000001,
          "yModel": 3.5,
          "yObs": 1.717224561668179,
          "zModel": 6
         },
         {
          "xModel": 2.5,
          "xObs": 6.6000000000000005,
          "yModel": 3.5,
          "yObs": 1.3820181413262698,
          "zModel": 0
         },
         {
          "xModel": 3.5,
          "xObs": 6.65,
          "yModel": 3.5,
          "yObs": 1.408121750767118,
          "zModel": 0
         },
         {
          "xModel": 4.5,
          "xObs": 6.7,
          "yModel": 3.5,
          "yObs": 1.4734203816447264,
          "zModel": 0
         },
         {
          "xModel": 5.5,
          "xObs": 6.75,
          "yModel": 3.5,
          "yObs": 1.404844152322854,
          "zModel": 41
         },
         {
          "xModel": 6.5,
          "xObs": 6.800000000000001,
          "yModel": 3.5,
          "yObs": 2.0924583884146024,
          "zModel": 365
         },
         {
          "xModel": 7.5,
          "xObs": 6.8500000000000005,
          "yModel": 3.5,
          "yObs": 0.6158703392573264,
          "zModel": 590
         },
         {
          "xModel": 8.5,
          "xObs": 6.9,
          "yModel": 3.5,
          "yObs": 2.2667554672570196,
          "zModel": 755
         },
         {
          "xModel": 9.5,
          "xObs": 6.95,
          "yModel": 3.5,
          "yObs": 1.228020517794189,
          "zModel": 810
         },
         {
          "xModel": 0.5,
          "xObs": 7,
          "yModel": 4.5,
          "yObs": 2.410713468570913,
          "zModel": 0
         },
         {
          "xModel": 1.5,
          "xObs": 7.050000000000001,
          "yModel": 4.5,
          "yObs": 1.631881819227931,
          "zModel": 0
         },
         {
          "xModel": 2.5,
          "xObs": 7.1000000000000005,
          "yModel": 4.5,
          "yObs": 1.222247158534849,
          "zModel": 0
         },
         {
          "xModel": 3.5,
          "xObs": 7.15,
          "yModel": 4.5,
          "yObs": 1.0255013258711085,
          "zModel": 0
         },
         {
          "xModel": 4.5,
          "xObs": 7.2,
          "yModel": 4.5,
          "yObs": 1.7756072643373069,
          "zModel": 0
         },
         {
          "xModel": 5.5,
          "xObs": 7.25,
          "yModel": 4.5,
          "yObs": 1.6497461029453273,
          "zModel": 0
         },
         {
          "xModel": 6.5,
          "xObs": 7.300000000000001,
          "yModel": 4.5,
          "yObs": 0.8682732760240772,
          "zModel": 0
         },
         {
          "xModel": 7.5,
          "xObs": 7.3500000000000005,
          "yModel": 4.5,
          "yObs": 1.529752842606828,
          "zModel": 19
         },
         {
          "xModel": 8.5,
          "xObs": 7.4,
          "yModel": 4.5,
          "yObs": 1.7702857789942892,
          "zModel": 4
         },
         {
          "xModel": 9.5,
          "xObs": 7.45,
          "yModel": 4.5,
          "yObs": 1.4900769331372996,
          "zModel": 31
         },
         {
          "xModel": 0.5,
          "xObs": 7.5,
          "yModel": 5.5,
          "yObs": 0.7378124122513705,
          "zModel": 0
         },
         {
          "xModel": 1.5,
          "xObs": 7.550000000000001,
          "yModel": 5.5,
          "yObs": 1.768020630464247,
          "zModel": 0
         },
         {
          "xModel": 2.5,
          "xObs": 7.6000000000000005,
          "yModel": 5.5,
          "yObs": 1.9183920729521153,
          "zModel": 0
         },
         {
          "xModel": 3.5,
          "xObs": 7.65,
          "yModel": 5.5,
          "yObs": 1.826295186867691,
          "zModel": 0
         },
         {
          "xModel": 4.5,
          "xObs": 7.7,
          "yModel": 5.5,
          "yObs": 1.1705176912019195,
          "zModel": 0
         },
         {
          "xModel": 5.5,
          "xObs": 7.75,
          "yModel": 5.5,
          "yObs": 1.8531741442178682,
          "zModel": 0
         },
         {
          "xModel": 6.5,
          "xObs": 7.800000000000001,
          "yModel": 5.5,
          "yObs": 0.8236357715286109,
          "zModel": 0
         },
         {
          "xModel": 7.5,
          "xObs": 7.8500000000000005,
          "yModel": 5.5,
          "yObs": 2.0513926167083913,
          "zModel": 0
         },
         {
          "xModel": 8.5,
          "xObs": 7.9,
          "yModel": 5.5,
          "yObs": 1.8443990696559105,
          "zModel": 0
         },
         {
          "xModel": 9.5,
          "xObs": 7.95,
          "yModel": 5.5,
          "yObs": 2.2992538447145825,
          "zModel": 0
         },
         {
          "xModel": 0.5,
          "xObs": 8,
          "yModel": 6.5,
          "yObs": 2.3933635262781494,
          "zModel": 0
         },
         {
          "xModel": 1.5,
          "xObs": 8.05,
          "yModel": 6.5,
          "yObs": 2.270171988073963,
          "zModel": 0
         },
         {
          "xModel": 2.5,
          "xObs": 8.1,
          "yModel": 6.5,
          "yObs": 2.0373301716966257,
          "zModel": 0
         },
         {
          "xModel": 3.5,
          "xObs": 8.15,
          "yModel": 6.5,
          "yObs": 2.170749639705099,
          "zModel": 0
         },
         {
          "xModel": 4.5,
          "xObs": 8.200000000000001,
          "yModel": 6.5,
          "yObs": 1.9138580618694851,
          "zModel": 0
         },
         {
          "xModel": 5.5,
          "xObs": 8.25,
          "yModel": 6.5,
          "yObs": 2.743820215289383,
          "zModel": 0
         },
         {
          "xModel": 6.5,
          "xObs": 8.3,
          "yModel": 6.5,
          "yObs": 2.270602488801923,
          "zModel": 0
         },
         {
          "xModel": 7.5,
          "xObs": 8.35,
          "yModel": 6.5,
          "yObs": 2.099421349303819,
          "zModel": 0
         },
         {
          "xModel": 8.5,
          "xObs": 8.4,
          "yModel": 6.5,
          "yObs": 2.2244893949901683,
          "zModel": 0
         },
         {
          "xModel": 9.5,
          "xObs": 8.450000000000001,
          "yModel": 6.5,
          "yObs": 2.275530041141922,
          "zModel": 0
         },
         {
          "xModel": 0.5,
          "xObs": 8.5,
          "yModel": 7.5,
          "yObs": 2.384539164146385,
          "zModel": 0
         },
         {
          "xModel": 1.5,
          "xObs": 8.55,
          "yModel": 7.5,
          "yObs": 2.265856835355978,
          "zModel": 0
         },
         {
          "xModel": 2.5,
          "xObs": 8.6,
          "yModel": 7.5,
          "yObs": 2.409543428152619,
          "zModel": 0
         },
         {
          "xModel": 3.5,
          "xObs": 8.65,
          "yModel": 7.5,
          "yObs": 1.7192971402010273,
          "zModel": 0
         },
         {
          "xModel": 4.5,
          "xObs": 8.700000000000001,
          "yModel": 7.5,
          "yObs": 2.7909311841473983,
          "zModel": 0
         },
         {
          "xModel": 5.5,
          "xObs": 8.75,
          "yModel": 7.5,
          "yObs": 2.014836078003014,
          "zModel": 0
         },
         {
          "xModel": 6.5,
          "xObs": 8.8,
          "yModel": 7.5,
          "yObs": 1.9394594666345613,
          "zModel": 0
         },
         {
          "xModel": 7.5,
          "xObs": 8.85,
          "yModel": 7.5,
          "yObs": 1.8956770375822236,
          "zModel": 0
         },
         {
          "xModel": 8.5,
          "xObs": 8.9,
          "yModel": 7.5,
          "yObs": 1.531628108198751,
          "zModel": 0
         },
         {
          "xModel": 9.5,
          "xObs": 8.950000000000001,
          "yModel": 7.5,
          "yObs": 3.783668773825044,
          "zModel": 0
         },
         {
          "xModel": 0.5,
          "xObs": 9,
          "yModel": 8.5,
          "yObs": 2.4870837966522674,
          "zModel": 0
         },
         {
          "xModel": 1.5,
          "xObs": 9.05,
          "yModel": 8.5,
          "yObs": 3.0039680944298333,
          "zModel": 0
         },
         {
          "xModel": 2.5,
          "xObs": 9.1,
          "yModel": 8.5,
          "yObs": 2.2155931934555997,
          "zModel": 0
         },
         {
          "xModel": 3.5,
          "xObs": 9.15,
          "yModel": 8.5,
          "yObs": 2.0929657067654546,
          "zModel": 0
         },
         {
          "xModel": 4.5,
          "xObs": 9.200000000000001,
          "yModel": 8.5,
          "yObs": 3.2190892110661102,
          "zModel": 0
         },
         {
          "xModel": 5.5,
          "xObs": 9.25,
          "yModel": 8.5,
          "yObs": 2.583650138684691,
          "zModel": 0
         },
         {
          "xModel": 6.5,
          "xObs": 9.3,
          "yModel": 8.5,
          "yObs": 2.6215593652740803,
          "zModel": 0
         },
         {
          "xModel": 7.5,
          "xObs": 9.35,
          "yModel": 8.5,
          "yObs": 2.2123404510490903,
          "zModel": 0
         },
         {
          "xModel": 8.5,
          "xObs": 9.4,
          "yModel": 8.5,
          "yObs": 2.895911904046429,
          "zModel": 0
         },
         {
          "xModel": 9.5,
          "xObs": 9.450000000000001,
          "yModel": 8.5,
          "yObs": 2.75949786767326,
          "zModel": 0
         },
         {
          "xModel": 0.5,
          "xObs": 9.5,
          "yModel": 9.5,
          "yObs": 3.1667766708627143,
          "zModel": 0
         },
         {
          "xModel": 1.5,
          "xObs": 9.55,
          "yModel": 9.5,
          "yObs": 2.719615455933043,
          "zModel": 0
         },
         {
          "xModel": 2.5,
          "xObs": 9.600000000000001,
          "yModel": 9.5,
          "yObs": 3.1546935953384434,
          "zModel": 0
         },
         {
          "xModel": 3.5,
          "xObs": 9.65,
          "yModel": 9.5,
          "yObs": 3.133481395676016,
          "zModel": 0
         },
         {
          "xModel": 4.5,
          "xObs": 9.700000000000001,
          "yModel": 9.5,
          "yObs": 3.084256685044089,
          "zModel": 0
         },
         {
          "xModel": 5.5,
          "xObs": 9.75,
          "yModel": 9.5,
          "yObs": 1.6790949939989004,
          "zModel": 0
         },
         {
          "xModel": 6.5,
          "xObs": 9.8,
          "yModel": 9.5,
          "yObs": 2.5991768738056784,
          "zModel": 0
         },
         {
          "xModel": 7.5,
          "xObs": 9.850000000000001,
          "yModel": 9.5,
          "yObs": 3.1501636584697863,
          "zModel": 0
         },
         {
          "xModel": 8.5,
          "xObs": 9.9,
          "yModel": 9.5,
          "yObs": 3.910812553604215,
          "zModel": 0
         },
         {
          "xModel": 9.5,
          "xObs": 9.950000000000001,
          "yModel": 9.5,
          "yObs": 3.2178057931808888,
          "zModel": 0
         }
        ]
       },
       "description": "Plot",
       "height": 300,
       "layer": [
        {
         "encoding": {
          "fill": {
           "field": "zModel",
           "scale": {
            "scheme": {
             "extent": [
              0,
              1
             ],
             "name": "blues"
            }
           },
           "type": "quantitative"
          },
          "stroke": {
           "field": "zModel",
           "legend": {
            "type": "gradient"
           },
           "scale": {
            "scheme": {
             "extent": [
              0,
              1
             ],
             "name": "blues"
            }
           },
           "type": "quantitative"
          },
          "x": {
           "axis": {
            "gridOpacity": 0.1
           },
           "field": "xModel",
           "type": "nominal"
          },
          "y": {
           "axis": {
            "gridOpacity": 0.1
           },
           "field": "yModel",
           "sort": "descending",
           "type": "nominal"
          }
         },
         "mark": "rect"
        },
        {
         "encoding": {
          "x": {
           "field": "xObs",
           "scale": {
            "domain": [
             0,
             10
            ]
           },
           "type": "quantitative"
          },
          "y": {
           "field": "yObs",
           "scale": {
            "domain": [
             -10,
             10
            ]
           },
           "type": "quantitative"
          }
         },
         "mark": {
          "color": "blue",
          "type": "circle"
         }
        }
       ],
       "width": 600
      },
      "image/png": "[encoded data removed]"
     },
     "metadata": {},
     "output_type": "display_data"
    }
   ],
   "source": [
    "hist =\n",
    "  histo2D (0, 10, 10) (-10, 20, 10)\n",
    "    ((\\(_, d)-> (xValue d, yValue d)) <$> predicted)\n",
    "cents = Vec.toList $ DH.binsCenters $ DH.bins hist\n",
    "val = Vec.toList $ DH.histData hist\n",
    "\n",
    "vlShow $\n",
    "  plot\n",
    "    (600, 300)\n",
    "    (L [imagePlot \"xModel\" \"yModel\" \"zModel\",\n",
    "        scatterBlue \"xObs\" \"yObs\" (0, 10) (-10, 10)])\n",
    "    ( Cols\n",
    "        [ (\"xModel\", VL.Numbers (fst <$> cents)),\n",
    "          (\"yModel\", VL.Numbers (snd <$> cents)),\n",
    "          (\"zModel\", VL.Numbers val),\n",
    "          (\"xObs\", VL.Numbers (xValue <$> observations)),\n",
    "          (\"yObs\", VL.Numbers (yValue <$> observations))\n",
    "        ]\n",
    "    )"
   ]
  },
  {
   "cell_type": "markdown",
   "metadata": {},
   "source": [
    "The predictive data distribution, shown with a blue histogram, neatly follows the observed blue scatter points.\n",
    "We have thus successfully \"fitted\" a line with a neural network using Bayesian inference!\n",
    "Of course, the predictive distribution is less precise than if it were, in fact, a line, since our networks' distributions are always in the form of a step function.\n",
    "\n",
    "Lines are not very interesting, so let's observe a sine wave next:"
   ]
  },
  {
   "cell_type": "code",
   "execution_count": 17,
   "metadata": {},
   "outputs": [
    {
     "data": {
      "application/vnd.vegalite.v2+json": {
       "$schema": "https://vega.github.io/schema/vega-lite/v3.json",
       "background": "#f9f9f9",
       "config": {
        "axis": {
         "domain": false,
         "grid": true,
         "gridColor": "#FFFFFF",
         "labelColor": "#7F7F7F",
         "labelPadding": 4,
         "tickColor": "#7F7F7F",
         "tickSize": 5.67
        }
       },
       "data": {
        "values": [
         {
          "xModel": 0.5,
          "xObs": 0,
          "yModel": -9.5,
          "yObs": 0.01839047077630729,
          "zModel": 0
         },
         {
          "xModel": 1.5,
          "xObs": 0.05,
          "yModel": -9.5,
          "yObs": 1.4229641222694673,
          "zModel": 0
         },
         {
          "xModel": 2.5,
          "xObs": 0.1,
          "yModel": -9.5,
          "yObs": 0.7011282894820693,
          "zModel": 0
         },
         {
          "xModel": 3.5,
          "xObs": 0.15000000000000002,
          "yModel": -9.5,
          "yObs": 1.5542967151154614,
          "zModel": 0
         },
         {
          "xModel": 4.5,
          "xObs": 0.2,
          "yModel": -9.5,
          "yObs": 1.0230343815979177,
          "zModel": 0
         },
         {
          "xModel": 5.5,
          "xObs": 0.25,
          "yModel": -9.5,
          "yObs": 1.4317770562131236,
          "zModel": 0
         },
         {
          "xModel": 6.5,
          "xObs": 0.30000000000000004,
          "yModel": -9.5,
          "yObs": 1.6198066167761693,
          "zModel": 0
         },
         {
          "xModel": 7.5,
          "xObs": 0.35000000000000003,
          "yModel": -9.5,
          "yObs": 1.1021379167352816,
          "zModel": 0
         },
         {
          "xModel": 8.5,
          "xObs": 0.4,
          "yModel": -9.5,
          "yObs": 1.812189865896082,
          "zModel": 0
         },
         {
          "xModel": 9.5,
          "xObs": 0.45,
          "yModel": -9.5,
          "yObs": 1.0765839840032627,
          "zModel": 0
         },
         {
          "xModel": 0.5,
          "xObs": 0.5,
          "yModel": -8.5,
          "yObs": 2.637108394952838,
          "zModel": 0
         },
         {
          "xModel": 1.5,
          "xObs": 0.55,
          "yModel": -8.5,
          "yObs": 2.387278804166791,
          "zModel": 0
         },
         {
          "xModel": 2.5,
          "xObs": 0.6000000000000001,
          "yModel": -8.5,
          "yObs": 2.5007982269758635,
          "zModel": 0
         },
         {
          "xModel": 3.5,
          "xObs": 0.65,
          "yModel": -8.5,
          "yObs": 1.7896640917301307,
          "zModel": 0
         },
         {
          "xModel": 4.5,
          "xObs": 0.7000000000000001,
          "yModel": -8.5,
          "yObs": 1.865089960373189,
          "zModel": 0
         },
         {
          "xModel": 5.5,
          "xObs": 0.75,
          "yModel": -8.5,
          "yObs": 2.906230389289972,
          "zModel": 0
         },
         {
          "xModel": 6.5,
          "xObs": 0.8,
          "yModel": -8.5,
          "yObs": 2.6148486874791255,
          "zModel": 0
         },
         {
          "xModel": 7.5,
          "xObs": 0.8500000000000001,
          "yModel": -8.5,
          "yObs": 2.5252553847888524,
          "zModel": 0
         },
         {
          "xModel": 8.5,
          "xObs": 0.9,
          "yModel": -8.5,
          "yObs": 2.793802843361069,
          "zModel": 0
         },
         {
          "xModel": 9.5,
          "xObs": 0.9500000000000001,
          "yModel": -8.5,
          "yObs": 3.20982878344737,
          "zModel": 0
         },
         {
          "xModel": 0.5,
          "xObs": 1,
          "yModel": -7.5,
          "yObs": 3.2438429911105144,
          "zModel": 0
         },
         {
          "xModel": 1.5,
          "xObs": 1.05,
          "yModel": -7.5,
          "yObs": 2.4279874849003455,
          "zModel": 0
         },
         {
          "xModel": 2.5,
          "xObs": 1.1,
          "yModel": -7.5,
          "yObs": 2.0529819738650086,
          "zModel": 0
         },
         {
          "xModel": 3.5,
          "xObs": 1.1500000000000001,
          "yModel": -7.5,
          "yObs": 2.481634859335869,
          "zModel": 0
         },
         {
          "xModel": 4.5,
          "xObs": 1.2000000000000002,
          "yModel": -7.5,
          "yObs": 3.0922932803795735,
          "zModel": 0
         },
         {
          "xModel": 5.5,
          "xObs": 1.25,
          "yModel": -7.5,
          "yObs": 2.1851656503449277,
          "zModel": 0
         },
         {
          "xModel": 6.5,
          "xObs": 1.3,
          "yModel": -7.5,
          "yObs": 3.3107241783718053,
          "zModel": 0
         },
         {
          "xModel": 7.5,
          "xObs": 1.35,
          "yModel": -7.5,
          "yObs": 2.641067449116881,
          "zModel": 0
         },
         {
          "xModel": 8.5,
          "xObs": 1.4000000000000001,
          "yModel": -7.5,
          "yObs": 3.285160222410429,
          "zModel": 0
         },
         {
          "xModel": 9.5,
          "xObs": 1.4500000000000002,
          "yModel": -7.5,
          "yObs": 1.8660085235694277,
          "zModel": 0
         },
         {
          "xModel": 0.5,
          "xObs": 1.5,
          "yModel": -6.5,
          "yObs": 3.018226839872715,
          "zModel": 0
         },
         {
          "xModel": 1.5,
          "xObs": 1.55,
          "yModel": -6.5,
          "yObs": 3.1679186575062,
          "zModel": 0
         },
         {
          "xModel": 2.5,
          "xObs": 1.6,
          "yModel": -6.5,
          "yObs": 1.6540293177378418,
          "zModel": 0
         },
         {
          "xModel": 3.5,
          "xObs": 1.6500000000000001,
          "yModel": -6.5,
          "yObs": 3.52396812971466,
          "zModel": 0
         },
         {
          "xModel": 4.5,
          "xObs": 1.7000000000000002,
          "yModel": -6.5,
          "yObs": 3.2686712038906633,
          "zModel": 0
         },
         {
          "xModel": 5.5,
          "xObs": 1.75,
          "yModel": -6.5,
          "yObs": 3.115954295310969,
          "zModel": 0
         },
         {
          "xModel": 6.5,
          "xObs": 1.8,
          "yModel": -6.5,
          "yObs": 2.515461822016957,
          "zModel": 0
         },
         {
          "xModel": 7.5,
          "xObs": 1.85,
          "yModel": -6.5,
          "yObs": 3.6757357823085206,
          "zModel": 0
         },
         {
          "xModel": 8.5,
          "xObs": 1.9000000000000001,
          "yModel": -6.5,
          "yObs": 2.9795184445093374,
          "zModel": 0
         },
         {
          "xModel": 9.5,
          "xObs": 1.9500000000000002,
          "yModel": -6.5,
          "yObs": 2.9271743515140036,
          "zModel": 0
         },
         {
          "xModel": 0.5,
          "xObs": 2,
          "yModel": -5.5,
          "yObs": 3.495212864474861,
          "zModel": 0
         },
         {
          "xModel": 1.5,
          "xObs": 2.0500000000000003,
          "yModel": -5.5,
          "yObs": 2.760835424174433,
          "zModel": 0
         },
         {
          "xModel": 2.5,
          "xObs": 2.1,
          "yModel": -5.5,
          "yObs": 3.1051923543254745,
          "zModel": 0
         },
         {
          "xModel": 3.5,
          "xObs": 2.15,
          "yModel": -5.5,
          "yObs": 2.5733068494528064,
          "zModel": 0
         },
         {
          "xModel": 4.5,
          "xObs": 2.2,
          "yModel": -5.5,
          "yObs": 2.7327229182025823,
          "zModel": 0
         },
         {
          "xModel": 5.5,
          "xObs": 2.25,
          "yModel": -5.5,
          "yObs": 1.4354644477612784,
          "zModel": 0
         },
         {
          "xModel": 6.5,
          "xObs": 2.3000000000000003,
          "yModel": -5.5,
          "yObs": 1.1881382150131556,
          "zModel": 0
         },
         {
          "xModel": 7.5,
          "xObs": 2.35,
          "yModel": -5.5,
          "yObs": 2.4560826303975145,
          "zModel": 0
         },
         {
          "xModel": 8.5,
          "xObs": 2.4000000000000004,
          "yModel": -5.5,
          "yObs": 2.6910305409154938,
          "zModel": 0
         },
         {
          "xModel": 9.5,
          "xObs": 2.45,
          "yModel": -5.5,
          "yObs": 2.2240100735053523,
          "zModel": 0
         },
         {
          "xModel": 0.5,
          "xObs": 2.5,
          "yModel": -4.5,
          "yObs": 1.1148526557528058,
          "zModel": 0
         },
         {
          "xModel": 1.5,
          "xObs": 2.5500000000000003,
          "yModel": -4.5,
          "yObs": 1.9257821054067372,
          "zModel": 0
         },
         {
          "xModel": 2.5,
          "xObs": 2.6,
          "yModel": -4.5,
          "yObs": 1.8391072727653976,
          "zModel": 0
         },
         {
          "xModel": 3.5,
          "xObs": 2.6500000000000004,
          "yModel": -4.5,
          "yObs": 1.5322140629407492,
          "zModel": 0
         },
         {
          "xModel": 4.5,
          "xObs": 2.7,
          "yModel": -4.5,
          "yObs": 1.733161461787004,
          "zModel": 0
         },
         {
          "xModel": 5.5,
          "xObs": 2.75,
          "yModel": -4.5,
          "yObs": 1.2371559140938926,
          "zModel": 0
         },
         {
          "xModel": 6.5,
          "xObs": 2.8000000000000003,
          "yModel": -4.5,
          "yObs": 2.338597909979734,
          "zModel": 0
         },
         {
          "xModel": 7.5,
          "xObs": 2.85,
          "yModel": -4.5,
          "yObs": 1.3649292906555686,
          "zModel": 0
         },
         {
          "xModel": 8.5,
          "xObs": 2.9000000000000004,
          "yModel": -4.5,
          "yObs": 1.5230553277872578,
          "zModel": 0
         },
         {
          "xModel": 9.5,
          "xObs": 2.95,
          "yModel": -4.5,
          "yObs": 0.9813884890487119,
          "zModel": 0
         },
         {
          "xModel": 0.5,
          "xObs": 3,
          "yModel": -3.5,
          "yObs": 1.4365707535804737,
          "zModel": 0
         },
         {
          "xModel": 1.5,
          "xObs": 3.0500000000000003,
          "yModel": -3.5,
          "yObs": 0.942799093239109,
          "zModel": 0
         },
         {
          "xModel": 2.5,
          "xObs": 3.1,
          "yModel": -3.5,
          "yObs": 1.421846086482602,
          "zModel": 0
         },
         {
          "xModel": 3.5,
          "xObs": 3.1500000000000004,
          "yModel": -3.5,
          "yObs": 1.004074097062695,
          "zModel": 3
         },
         {
          "xModel": 4.5,
          "xObs": 3.2,
          "yModel": -3.5,
          "yObs": 1.0295273580044355,
          "zModel": 0
         },
         {
          "xModel": 5.5,
          "xObs": 3.25,
          "yModel": -3.5,
          "yObs": 0.9689814580396316,
          "zModel": 22
         },
         {
          "xModel": 6.5,
          "xObs": 3.3000000000000003,
          "yModel": -3.5,
          "yObs": 0.3589025506994764,
          "zModel": 0
         },
         {
          "xModel": 7.5,
          "xObs": 3.35,
          "yModel": -3.5,
          "yObs": -0.1236116433511153,
          "zModel": 0
         },
         {
          "xModel": 8.5,
          "xObs": 3.4000000000000004,
          "yModel": -3.5,
          "yObs": 0.5020158239595844,
          "zModel": 0
         },
         {
          "xModel": 9.5,
          "xObs": 3.45,
          "yModel": -3.5,
          "yObs": 0.07821470543202824,
          "zModel": 0
         },
         {
          "xModel": 0.5,
          "xObs": 3.5,
          "yModel": -2.5,
          "yObs": 0.42204548858877794,
          "zModel": 37
         },
         {
          "xModel": 1.5,
          "xObs": 3.5500000000000003,
          "yModel": -2.5,
          "yObs": 0.5536232495977987,
          "zModel": 0
         },
         {
          "xModel": 2.5,
          "xObs": 3.6,
          "yModel": -2.5,
          "yObs": -0.6325095120083032,
          "zModel": 20
         },
         {
          "xModel": 3.5,
          "xObs": 3.6500000000000004,
          "yModel": -2.5,
          "yObs": 0.2884219391750269,
          "zModel": 56
         },
         {
          "xModel": 4.5,
          "xObs": 3.7,
          "yModel": -2.5,
          "yObs": 0.6182064964631726,
          "zModel": 307
         },
         {
          "xModel": 5.5,
          "xObs": 3.75,
          "yModel": -2.5,
          "yObs": -0.04265964460182975,
          "zModel": 122
         },
         {
          "xModel": 6.5,
          "xObs": 3.8000000000000003,
          "yModel": -2.5,
          "yObs": -0.19138764329320482,
          "zModel": 8
         },
         {
          "xModel": 7.5,
          "xObs": 3.85,
          "yModel": -2.5,
          "yObs": 0.09856794866974011,
          "zModel": 6
         },
         {
          "xModel": 8.5,
          "xObs": 3.9000000000000004,
          "yModel": -2.5,
          "yObs": -0.10072935394719323,
          "zModel": 0
         },
         {
          "xModel": 9.5,
          "xObs": 3.95,
          "yModel": -2.5,
          "yObs": -0.03346903247882088,
          "zModel": 6
         },
         {
          "xModel": 0.5,
          "xObs": 4,
          "yModel": -1.5,
          "yObs": -0.4983873242240308,
          "zModel": 28
         },
         {
          "xModel": 1.5,
          "xObs": 4.05,
          "yModel": -1.5,
          "yObs": -0.5535135752651549,
          "zModel": 0
         },
         {
          "xModel": 2.5,
          "xObs": 4.1000000000000005,
          "yModel": -1.5,
          "yObs": -0.8401916658222859,
          "zModel": 0
         },
         {
          "xModel": 3.5,
          "xObs": 4.15,
          "yModel": -1.5,
          "yObs": -0.6782680464428061,
          "zModel": 1327
         },
         {
          "xModel": 4.5,
          "xObs": 4.2,
          "yModel": -1.5,
          "yObs": -0.6497865175013315,
          "zModel": 1410
         },
         {
          "xModel": 5.5,
          "xObs": 4.25,
          "yModel": -1.5,
          "yObs": -1.0059632554078952,
          "zModel": 1831
         },
         {
          "xModel": 6.5,
          "xObs": 4.3,
          "yModel": -1.5,
          "yObs": -0.3261661833917341,
          "zModel": 249
         },
         {
          "xModel": 7.5,
          "xObs": 4.3500000000000005,
          "yModel": -1.5,
          "yObs": -1.0452214458130125,
          "zModel": 0
         },
         {
          "xModel": 8.5,
          "xObs": 4.4,
          "yModel": -1.5,
          "yObs": -0.9726267537247776,
          "zModel": 0
         },
         {
          "xModel": 9.5,
          "xObs": 4.45,
          "yModel": -1.5,
          "yObs": -1.7930729211858556,
          "zModel": 0
         },
         {
          "xModel": 0.5,
          "xObs": 4.5,
          "yModel": -0.5,
          "yObs": -1.0179268420947698,
          "zModel": 379
         },
         {
          "xModel": 1.5,
          "xObs": 4.55,
          "yModel": -0.5,
          "yObs": -1.6554469230919908,
          "zModel": 42
         },
         {
          "xModel": 2.5,
          "xObs": 4.6000000000000005,
          "yModel": -0.5,
          "yObs": -0.8090422286671672,
          "zModel": 17
         },
         {
          "xModel": 3.5,
          "xObs": 4.65,
          "yModel": -0.5,
          "yObs": -1.6165588220926592,
          "zModel": 2579
         },
         {
          "xModel": 4.5,
          "xObs": 4.7,
          "yModel": -0.5,
          "yObs": -1.9960211796661276,
          "zModel": 2940
         },
         {
          "xModel": 5.5,
          "xObs": 4.75,
          "yModel": -0.5,
          "yObs": -0.35542316427827736,
          "zModel": 3127
         },
         {
          "xModel": 6.5,
          "xObs": 4.800000000000001,
          "yModel": -0.5,
          "yObs": -0.7997576870097218,
          "zModel": 869
         },
         {
          "xModel": 7.5,
          "xObs": 4.8500000000000005,
          "yModel": -0.5,
          "yObs": -1.2192780628670306,
          "zModel": 46
         },
         {
          "xModel": 8.5,
          "xObs": 4.9,
          "yModel": -0.5,
          "yObs": -1.016072207316874,
          "zModel": 84
         },
         {
          "xModel": 9.5,
          "xObs": 4.95,
          "yModel": -0.5,
          "yObs": -0.8217832266775029,
          "zModel": 35
         },
         {
          "xModel": 0.5,
          "xObs": 5,
          "yModel": 0.5,
          "yObs": -0.8330643446535944,
          "zModel": 643
         },
         {
          "xModel": 1.5,
          "xObs": 5.050000000000001,
          "yModel": 0.5,
          "yObs": -0.5880430255667211,
          "zModel": 387
         },
         {
          "xModel": 2.5,
          "xObs": 5.1000000000000005,
          "yModel": 0.5,
          "yObs": -1.1976049843662104,
          "zModel": 421
         },
         {
          "xModel": 3.5,
          "xObs": 5.15,
          "yModel": 0.5,
          "yObs": -1.0496130664042647,
          "zModel": 1770
         },
         {
          "xModel": 4.5,
          "xObs": 5.2,
          "yModel": 0.5,
          "yObs": -0.7730494440304911,
          "zModel": 2146
         },
         {
          "xModel": 5.5,
          "xObs": 5.25,
          "yModel": 0.5,
          "yObs": -0.24325561936086676,
          "zModel": 2049
         },
         {
          "xModel": 6.5,
          "xObs": 5.300000000000001,
          "yModel": 0.5,
          "yObs": -0.7300742873371708,
          "zModel": 1014
         },
         {
          "xModel": 7.5,
          "xObs": 5.3500000000000005,
          "yModel": 0.5,
          "yObs": 0.25097485244110374,
          "zModel": 576
         },
         {
          "xModel": 8.5,
          "xObs": 5.4,
          "yModel": 0.5,
          "yObs": -0.33052001919960505,
          "zModel": 543
         },
         {
          "xModel": 9.5,
          "xObs": 5.45,
          "yModel": 0.5,
          "yObs": 0.12316801792561105,
          "zModel": 563
         },
         {
          "xModel": 0.5,
          "xObs": 5.5,
          "yModel": 1.5,
          "yObs": -1.0593579567549871,
          "zModel": 1882
         },
         {
          "xModel": 1.5,
          "xObs": 5.550000000000001,
          "yModel": 1.5,
          "yObs": -0.3555380235795999,
          "zModel": 1641
         },
         {
          "xModel": 2.5,
          "xObs": 5.6000000000000005,
          "yModel": 1.5,
          "yObs": -0.6580169063155321,
          "zModel": 1671
         },
         {
          "xModel": 3.5,
          "xObs": 5.65,
          "yModel": 1.5,
          "yObs": -0.1093079384659083,
          "zModel": 598
         },
         {
          "xModel": 4.5,
          "xObs": 5.7,
          "yModel": 1.5,
          "yObs": -0.020369875722499972,
          "zModel": 293
         },
         {
          "xModel": 5.5,
          "xObs": 5.75,
          "yModel": 1.5,
          "yObs": -0.19236774546589153,
          "zModel": 461
         },
         {
          "xModel": 6.5,
          "xObs": 5.800000000000001,
          "yModel": 1.5,
          "yObs": -0.11268032975231293,
          "zModel": 1940
         },
         {
          "xModel": 7.5,
          "xObs": 5.8500000000000005,
          "yModel": 1.5,
          "yObs": 0.02757922458691217,
          "zModel": 2517
         },
         {
          "xModel": 8.5,
          "xObs": 5.9,
          "yModel": 1.5,
          "yObs": 0.11607150129728072,
          "zModel": 1905
         },
         {
          "xModel": 9.5,
          "xObs": 5.95,
          "yModel": 1.5,
          "yObs": 0.6235652369436184,
          "zModel": 2181
         },
         {
          "xModel": 0.5,
          "xObs": 6,
          "yModel": 2.5,
          "yObs": 0.6905190013669875,
          "zModel": 1896
         },
         {
          "xModel": 1.5,
          "xObs": 6.050000000000001,
          "yModel": 2.5,
          "yObs": 0.6246995666749289,
          "zModel": 2145
         },
         {
          "xModel": 2.5,
          "xObs": 6.1000000000000005,
          "yModel": 2.5,
          "yObs": 0.6244954436830783,
          "zModel": 1991
         },
         {
          "xModel": 3.5,
          "xObs": 6.15,
          "yModel": 2.5,
          "yObs": 0.4210778489016287,
          "zModel": 531
         },
         {
          "xModel": 4.5,
          "xObs": 6.2,
          "yModel": 2.5,
          "yObs": 0.9299631573690267,
          "zModel": 75
         },
         {
          "xModel": 5.5,
          "xObs": 6.25,
          "yModel": 2.5,
          "yObs": 0.7867276790743422,
          "zModel": 12
         },
         {
          "xModel": 6.5,
          "xObs": 6.300000000000001,
          "yModel": 2.5,
          "yObs": 0.9195908327815633,
          "zModel": 1384
         },
         {
          "xModel": 7.5,
          "xObs": 6.3500000000000005,
          "yModel": 2.5,
          "yObs": 1.7824538018028862,
          "zModel": 2024
         },
         {
          "xModel": 8.5,
          "xObs": 6.4,
          "yModel": 2.5,
          "yObs": 0.954368827483226,
          "zModel": 1777
         },
         {
          "xModel": 9.5,
          "xObs": 6.45,
          "yModel": 2.5,
          "yObs": 0.8869703887163265,
          "zModel": 1939
         },
         {
          "xModel": 0.5,
          "xObs": 6.5,
          "yModel": 3.5,
          "yObs": 2.140175462801332,
          "zModel": 979
         },
         {
          "xModel": 1.5,
          "xObs": 6.550000000000001,
          "yModel": 3.5,
          "yObs": 1.9695449264137372,
          "zModel": 901
         },
         {
          "xModel": 2.5,
          "xObs": 6.6000000000000005,
          "yModel": 3.5,
          "yObs": 1.7051008683530269,
          "zModel": 980
         },
         {
          "xModel": 3.5,
          "xObs": 6.65,
          "yModel": 3.5,
          "yObs": 1.8004094577527185,
          "zModel": 229
         },
         {
          "xModel": 4.5,
          "xObs": 6.7,
          "yModel": 3.5,
          "yObs": 1.933120222877923,
          "zModel": 31
         },
         {
          "xModel": 5.5,
          "xObs": 6.75,
          "yModel": 3.5,
          "yObs": 1.9299322998840893,
          "zModel": 30
         },
         {
          "xModel": 6.5,
          "xObs": 6.800000000000001,
          "yModel": 3.5,
          "yObs": 2.68068509069182,
          "zModel": 331
         },
         {
          "xModel": 7.5,
          "xObs": 6.8500000000000005,
          "yModel": 3.5,
          "yObs": 1.2647655441533496,
          "zModel": 420
         },
         {
          "xModel": 8.5,
          "xObs": 6.9,
          "yModel": 3.5,
          "yObs": 2.97363499603342,
          "zModel": 580
         },
         {
          "xModel": 9.5,
          "xObs": 6.95,
          "yModel": 3.5,
          "yObs": 1.989992774120237,
          "zModel": 468
         },
         {
          "xModel": 0.5,
          "xObs": 7,
          "yModel": 4.5,
          "yObs": 3.224686666008491,
          "zModel": 100
         },
         {
          "xModel": 1.5,
          "xObs": 7.050000000000001,
          "yModel": 4.5,
          "yObs": 2.494571709087459,
          "zModel": 116
         },
         {
          "xModel": 2.5,
          "xObs": 7.1000000000000005,
          "yModel": 4.5,
          "yObs": 2.130185238786602,
          "zModel": 45
         },
         {
          "xModel": 3.5,
          "xObs": 7.15,
          "yModel": 4.5,
          "yObs": 1.9750435105939306,
          "zModel": 21
         },
         {
          "xModel": 4.5,
          "xObs": 7.2,
          "yModel": 4.5,
          "yObs": 2.762942992035613,
          "zModel": 3
         },
         {
          "xModel": 5.5,
          "xObs": 7.25,
          "yModel": 4.5,
          "yObs": 2.670907860968338,
          "zModel": 0
         },
         {
          "xModel": 6.5,
          "xObs": 7.300000000000001,
          "yModel": 4.5,
          "yObs": 1.9191465172812063,
          "zModel": 80
         },
         {
          "xModel": 7.5,
          "xObs": 7.3500000000000005,
          "yModel": 4.5,
          "yObs": 2.606086269792593,
          "zModel": 40
         },
         {
          "xModel": 8.5,
          "xObs": 7.4,
          "yModel": 4.5,
          "yObs": 2.8677019706175426,
          "zModel": 48
         },
         {
          "xModel": 9.5,
          "xObs": 7.45,
          "yModel": 4.5,
          "yObs": 2.604083284795241,
          "zModel": 56
         },
         {
          "xModel": 0.5,
          "xObs": 7.5,
          "yModel": 5.5,
          "yObs": 1.8638123658008483,
          "zModel": 0
         },
         {
          "xModel": 1.5,
          "xObs": 7.550000000000001,
          "yModel": 5.5,
          "yObs": 2.9013251630232766,
          "zModel": 0
         },
         {
          "xModel": 2.5,
          "xObs": 7.6000000000000005,
          "yModel": 5.5,
          "yObs": 3.0542314170150884,
          "zModel": 0
         },
         {
          "xModel": 3.5,
          "xObs": 7.65,
          "yModel": 5.5,
          "yObs": 2.959830752240091,
          "zModel": 0
         },
         {
          "xModel": 4.5,
          "xObs": 7.7,
          "yModel": 5.5,
          "yObs": 2.29685415895592,
          "zModel": 0
         },
         {
          "xModel": 5.5,
          "xObs": 7.75,
          "yModel": 5.5,
          "yObs": 2.96737170244022,
          "zModel": 0
         },
         {
          "xModel": 6.5,
          "xObs": 7.800000000000001,
          "yModel": 5.5,
          "yObs": 1.9207224622778207,
          "zModel": 0
         },
         {
          "xModel": 7.5,
          "xObs": 7.8500000000000005,
          "yModel": 5.5,
          "yObs": 3.126376763320229,
          "zModel": 18
         },
         {
          "xModel": 8.5,
          "xObs": 7.9,
          "yModel": 5.5,
          "yObs": 2.892281753335454,
          "zModel": 0
         },
         {
          "xModel": 9.5,
          "xObs": 7.95,
          "yModel": 5.5,
          "yObs": 3.3150413992298224,
          "zModel": 0
         },
         {
          "xModel": 0.5,
          "xObs": 8,
          "yModel": 6.5,
          "yObs": 3.372080019524913,
          "zModel": 0
         },
         {
          "xModel": 1.5,
          "xObs": 8.05,
          "yModel": 6.5,
          "yObs": 3.206871659314762,
          "zModel": 0
         },
         {
          "xModel": 2.5,
          "xObs": 8.1,
          "yModel": 6.5,
          "yObs": 2.9271097933867987,
          "zModel": 0
         },
         {
          "xModel": 3.5,
          "xObs": 8.15,
          "yModel": 6.5,
          "yObs": 3.008760773008117,
          "zModel": 0
         },
         {
          "xModel": 4.5,
          "xObs": 8.200000000000001,
          "yModel": 6.5,
          "yObs": 2.69531917522903,
          "zModel": 0
         },
         {
          "xModel": 5.5,
          "xObs": 8.25,
          "yModel": 6.5,
          "yObs": 3.464028635768064,
          "zModel": 0
         },
         {
          "xModel": 6.5,
          "xObs": 8.3,
          "yModel": 6.5,
          "yObs": 2.9249461563145096,
          "zModel": 0
         },
         {
          "xModel": 7.5,
          "xObs": 8.35,
          "yModel": 6.5,
          "yObs": 2.683390344365549,
          "zModel": 0
         },
         {
          "xModel": 8.5,
          "xObs": 8.4,
          "yModel": 6.5,
          "yObs": 2.7336872111667287,
          "zModel": 0
         },
         {
          "xModel": 9.5,
          "xObs": 8.450000000000001,
          "yModel": 6.5,
          "yObs": 2.7056845740258875,
          "zModel": 0
         },
         {
          "xModel": 0.5,
          "xObs": 8.5,
          "yModel": 7.5,
          "yObs": 2.7315133893933656,
          "zModel": 0
         },
         {
          "xModel": 1.5,
          "xObs": 8.55,
          "yModel": 7.5,
          "yObs": 2.5256591490909526,
          "zModel": 0
         },
         {
          "xModel": 2.5,
          "xObs": 8.6,
          "yModel": 7.5,
          "yObs": 2.5783376239008455,
          "zModel": 0
         },
         {
          "xModel": 3.5,
          "xObs": 8.65,
          "yModel": 7.5,
          "yObs": 1.7934119974063631,
          "zModel": 0
         },
         {
          "xModel": 4.5,
          "xObs": 8.700000000000001,
          "yModel": 7.5,
          "yObs": 2.766869644311762,
          "zModel": 0
         },
         {
          "xModel": 5.5,
          "xObs": 8.75,
          "yModel": 7.5,
          "yObs": 1.889283985511399,
          "zModel": 0
         },
         {
          "xModel": 6.5,
          "xObs": 8.8,
          "yModel": 7.5,
          "yObs": 1.709293852418084,
          "zModel": 0
         },
         {
          "xModel": 7.5,
          "xObs": 8.85,
          "yModel": 7.5,
          "yObs": 1.5579739249144007,
          "zModel": 0
         },
         {
          "xModel": 8.5,
          "xObs": 8.9,
          "yModel": 7.5,
          "yObs": 1.0836698211145201,
          "zModel": 0
         },
         {
          "xModel": 9.5,
          "xObs": 8.950000000000001,
          "yModel": 7.5,
          "yObs": 3.222950729895352,
          "zModel": 0
         },
         {
          "xModel": 0.5,
          "xObs": 9,
          "yModel": 8.5,
          "yObs": 1.8113207671357803,
          "zModel": 0
         },
         {
          "xModel": 1.5,
          "xObs": 9.05,
          "yModel": 8.5,
          "yObs": 2.2110999161546547,
          "zModel": 0
         },
         {
          "xModel": 2.5,
          "xObs": 9.1,
          "yModel": 8.5,
          "yObs": 1.3037899181543042,
          "zModel": 0
         },
         {
          "xModel": 3.5,
          "xObs": 9.15,
          "yModel": 8.5,
          "yObs": 1.06063217499272,
          "zModel": 0
         },
         {
          "xModel": 4.5,
          "xObs": 9.200000000000001,
          "yModel": 8.5,
          "yObs": 2.0648690392666014,
          "zModel": 0
         },
         {
          "xModel": 5.5,
          "xObs": 9.25,
          "yModel": 8.5,
          "yObs": 1.306429109445558,
          "zModel": 0
         },
         {
          "xModel": 6.5,
          "xObs": 9.3,
          "yModel": 8.5,
          "yObs": 1.2204682122882033,
          "zModel": 0
         },
         {
          "xModel": 7.5,
          "xObs": 9.35,
          "yModel": 8.5,
          "yObs": 0.6867570318281598,
          "zModel": 0
         },
         {
          "xModel": 8.5,
          "xObs": 9.4,
          "yModel": 8.5,
          "yObs": 1.2454627549531443,
          "zModel": 0
         },
         {
          "xModel": 9.5,
          "xObs": 9.450000000000001,
          "yModel": 8.5,
          "yObs": 0.9840591373859384,
          "zModel": 0
         },
         {
          "xModel": 0.5,
          "xObs": 9.5,
          "yModel": 9.5,
          "yObs": 1.266474429939096,
          "zModel": 0
         },
         {
          "xModel": 1.5,
          "xObs": 9.55,
          "yModel": 9.5,
          "yObs": 0.6948253816995378,
          "zModel": 0
         },
         {
          "xModel": 2.5,
          "xObs": 9.600000000000001,
          "yModel": 9.5,
          "yObs": 1.00604003289248,
          "zModel": 0
         },
         {
          "xModel": 3.5,
          "xObs": 9.65,
          "yModel": 9.5,
          "yObs": 0.8618357973484481,
          "zModel": 0
         },
         {
          "xModel": 4.5,
          "xObs": 9.700000000000001,
          "yModel": 9.5,
          "yObs": 0.6907354322222,
          "zModel": 0
         },
         {
          "xModel": 5.5,
          "xObs": 9.75,
          "yModel": 9.5,
          "yObs": -0.8349433932456469,
          "zModel": 0
         },
         {
          "xModel": 6.5,
          "xObs": 9.8,
          "yModel": 9.5,
          "yObs": -0.03378138469817887,
          "zModel": 0
         },
         {
          "xModel": 7.5,
          "xObs": 9.850000000000001,
          "yModel": 9.5,
          "yObs": 0.4001175426355969,
          "zModel": 0
         },
         {
          "xModel": 8.5,
          "xObs": 9.9,
          "yModel": 9.5,
          "yObs": 1.0457407660535722,
          "zModel": 0
         },
         {
          "xModel": 9.5,
          "xObs": 9.950000000000001,
          "yModel": 9.5,
          "yObs": 0.2399955368224906,
          "zModel": 0
         }
        ]
       },
       "description": "Plot",
       "height": 300,
       "layer": [
        {
         "encoding": {
          "fill": {
           "field": "zModel",
           "scale": {
            "scheme": {
             "extent": [
              0,
              1
             ],
             "name": "blues"
            }
           },
           "type": "quantitative"
          },
          "stroke": {
           "field": "zModel",
           "legend": {
            "type": "gradient"
           },
           "scale": {
            "scheme": {
             "extent": [
              0,
              1
             ],
             "name": "blues"
            }
           },
           "type": "quantitative"
          },
          "x": {
           "axis": {
            "gridOpacity": 0.1
           },
           "field": "xModel",
           "type": "nominal"
          },
          "y": {
           "axis": {
            "gridOpacity": 0.1
           },
           "field": "yModel",
           "sort": "descending",
           "type": "nominal"
          }
         },
         "mark": "rect"
        },
        {
         "encoding": {
          "x": {
           "field": "xObs",
           "scale": {
            "domain": [
             0,
             10
            ]
           },
           "type": "quantitative"
          },
          "y": {
           "field": "yObs",
           "scale": {
            "domain": [
             -10,
             10
            ]
           },
           "type": "quantitative"
          }
         },
         "mark": {
          "color": "blue",
          "type": "circle"
         }
        }
       ],
       "width": 600
      },
      "image/png": "[encoded data removed]"
     },
     "metadata": {},
     "output_type": "display_data"
    }
   ],
   "source": [
    "nsamples = 200\n",
    "noise <- sampleIOfixed $ replicateM nsamples $ normal 0.0 0.5\n",
    "observations = take nsamples\n",
    "  [ Data x (2 * sin x + 1 + n)\n",
    "  | (x, n) <- zip [0, (10 / nsamples) ..] noise\n",
    "  ]\n",
    "\n",
    "nnodes = 3\n",
    "mkSampler = prior . mh 60000\n",
    "predicted <-\n",
    "  sampleIOfixed $ mkSampler $ predDist $\n",
    "  postNN (priorNN nnodes) observations\n",
    "\n",
    "hist =\n",
    "  histo2D (0, 10, 10) (-10, 20, 10)\n",
    "    ((\\(nn, d) -> (xValue d, yValue d)) <$> predicted)\n",
    "cents = Vec.toList $ DH.binsCenters $ DH.bins hist\n",
    "val = Vec.toList $ DH.histData hist\n",
    "\n",
    "vlShow $\n",
    "  plot\n",
    "    (600, 300)\n",
    "    (L [imagePlot \"xModel\" \"yModel\" \"zModel\", scatterBlue \"xObs\" \"yObs\" (0, 10) (-10, 10)])\n",
    "    ( Cols\n",
    "        [ (\"xModel\", VL.Numbers (fst <$> cents)),\n",
    "          (\"yModel\", VL.Numbers (snd <$> cents)),\n",
    "          (\"zModel\", VL.Numbers val),\n",
    "          (\"xObs\", VL.Numbers (xValue <$> observations)),\n",
    "          (\"yObs\", VL.Numbers (yValue <$> observations))\n",
    "        ]\n",
    "    )"
   ]
  },
  {
   "cell_type": "markdown",
   "metadata": {},
   "source": [
    "Pretty neat! We can still see the three steps.\n",
    "Still, we get a reasonable approximation of our sine wave.\n",
    "\n",
    "What if, instead of visualising the data distribution, we observed the distribution of neural networks themselves?\n",
    "That is, the distributions of weights and biases."
   ]
  },
  {
   "cell_type": "code",
   "execution_count": 18,
   "metadata": {},
   "outputs": [
    {
     "data": {
      "application/vnd.vegalite.v2+json": {
       "$schema": "https://vega.github.io/schema/vega-lite/v3.json",
       "background": "#f9f9f9",
       "config": {
        "axis": {
         "domain": false,
         "grid": true,
         "gridColor": "#FFFFFF",
         "labelColor": "#7F7F7F",
         "labelPadding": 4,
         "tickColor": "#7F7F7F",
         "tickSize": 5.67
        }
       },
       "data": {
        "values": [
         {
          "biases": -4.625,
          "count": 0,
          "weights": -4.75
         },
         {
          "biases": -3.875,
          "count": 0,
          "weights": -4.75
         },
         {
          "biases": -3.125,
          "count": 0,
          "weights": -4.75
         },
         {
          "biases": -2.375,
          "count": 0,
          "weights": -4.75
         },
         {
          "biases": -1.625,
          "count": 0,
          "weights": -4.75
         },
         {
          "biases": -0.875,
          "count": 0,
          "weights": -4.75
         },
         {
          "biases": -0.125,
          "count": 0,
          "weights": -4.75
         },
         {
          "biases": 0.625,
          "count": 0,
          "weights": -4.75
         },
         {
          "biases": 1.375,
          "count": 0,
          "weights": -4.75
         },
         {
          "biases": 2.125,
          "count": 0,
          "weights": -4.75
         },
         {
          "biases": 2.875,
          "count": 0,
          "weights": -4.75
         },
         {
          "biases": 3.625,
          "count": 0,
          "weights": -4.75
         },
         {
          "biases": 4.375,
          "count": 0,
          "weights": -4.75
         },
         {
          "biases": 5.125,
          "count": 0,
          "weights": -4.75
         },
         {
          "biases": 5.875,
          "count": 0,
          "weights": -4.75
         },
         {
          "biases": 6.625,
          "count": 0,
          "weights": -4.75
         },
         {
          "biases": 7.375,
          "count": 0,
          "weights": -4.75
         },
         {
          "biases": 8.125,
          "count": 0,
          "weights": -4.75
         },
         {
          "biases": 8.875,
          "count": 0,
          "weights": -4.75
         },
         {
          "biases": 9.625,
          "count": 55,
          "weights": -4.75
         },
         {
          "biases": -4.625,
          "count": 0,
          "weights": -4.25
         },
         {
          "biases": -3.875,
          "count": 0,
          "weights": -4.25
         },
         {
          "biases": -3.125,
          "count": 0,
          "weights": -4.25
         },
         {
          "biases": -2.375,
          "count": 0,
          "weights": -4.25
         },
         {
          "biases": -1.625,
          "count": 0,
          "weights": -4.25
         },
         {
          "biases": -0.875,
          "count": 0,
          "weights": -4.25
         },
         {
          "biases": -0.125,
          "count": 0,
          "weights": -4.25
         },
         {
          "biases": 0.625,
          "count": 0,
          "weights": -4.25
         },
         {
          "biases": 1.375,
          "count": 0,
          "weights": -4.25
         },
         {
          "biases": 2.125,
          "count": 0,
          "weights": -4.25
         },
         {
          "biases": 2.875,
          "count": 0,
          "weights": -4.25
         },
         {
          "biases": 3.625,
          "count": 0,
          "weights": -4.25
         },
         {
          "biases": 4.375,
          "count": 0,
          "weights": -4.25
         },
         {
          "biases": 5.125,
          "count": 0,
          "weights": -4.25
         },
         {
          "biases": 5.875,
          "count": 0,
          "weights": -4.25
         },
         {
          "biases": 6.625,
          "count": 0,
          "weights": -4.25
         },
         {
          "biases": 7.375,
          "count": 0,
          "weights": -4.25
         },
         {
          "biases": 8.125,
          "count": 0,
          "weights": -4.25
         },
         {
          "biases": 8.875,
          "count": 0,
          "weights": -4.25
         },
         {
          "biases": 9.625,
          "count": 6,
          "weights": -4.25
         },
         {
          "biases": -4.625,
          "count": 0,
          "weights": -3.75
         },
         {
          "biases": -3.875,
          "count": 0,
          "weights": -3.75
         },
         {
          "biases": -3.125,
          "count": 0,
          "weights": -3.75
         },
         {
          "biases": -2.375,
          "count": 0,
          "weights": -3.75
         },
         {
          "biases": -1.625,
          "count": 0,
          "weights": -3.75
         },
         {
          "biases": -0.875,
          "count": 0,
          "weights": -3.75
         },
         {
          "biases": -0.125,
          "count": 0,
          "weights": -3.75
         },
         {
          "biases": 0.625,
          "count": 0,
          "weights": -3.75
         },
         {
          "biases": 1.375,
          "count": 0,
          "weights": -3.75
         },
         {
          "biases": 2.125,
          "count": 0,
          "weights": -3.75
         },
         {
          "biases": 2.875,
          "count": 0,
          "weights": -3.75
         },
         {
          "biases": 3.625,
          "count": 0,
          "weights": -3.75
         },
         {
          "biases": 4.375,
          "count": 0,
          "weights": -3.75
         },
         {
          "biases": 5.125,
          "count": 0,
          "weights": -3.75
         },
         {
          "biases": 5.875,
          "count": 0,
          "weights": -3.75
         },
         {
          "biases": 6.625,
          "count": 0,
          "weights": -3.75
         },
         {
          "biases": 7.375,
          "count": 0,
          "weights": -3.75
         },
         {
          "biases": 8.125,
          "count": 0,
          "weights": -3.75
         },
         {
          "biases": 8.875,
          "count": 0,
          "weights": -3.75
         },
         {
          "biases": 9.625,
          "count": 26,
          "weights": -3.75
         },
         {
          "biases": -4.625,
          "count": 0,
          "weights": -3.25
         },
         {
          "biases": -3.875,
          "count": 0,
          "weights": -3.25
         },
         {
          "biases": -3.125,
          "count": 0,
          "weights": -3.25
         },
         {
          "biases": -2.375,
          "count": 0,
          "weights": -3.25
         },
         {
          "biases": -1.625,
          "count": 0,
          "weights": -3.25
         },
         {
          "biases": -0.875,
          "count": 0,
          "weights": -3.25
         },
         {
          "biases": -0.125,
          "count": 0,
          "weights": -3.25
         },
         {
          "biases": 0.625,
          "count": 0,
          "weights": -3.25
         },
         {
          "biases": 1.375,
          "count": 0,
          "weights": -3.25
         },
         {
          "biases": 2.125,
          "count": 0,
          "weights": -3.25
         },
         {
          "biases": 2.875,
          "count": 0,
          "weights": -3.25
         },
         {
          "biases": 3.625,
          "count": 0,
          "weights": -3.25
         },
         {
          "biases": 4.375,
          "count": 0,
          "weights": -3.25
         },
         {
          "biases": 5.125,
          "count": 0,
          "weights": -3.25
         },
         {
          "biases": 5.875,
          "count": 0,
          "weights": -3.25
         },
         {
          "biases": 6.625,
          "count": 0,
          "weights": -3.25
         },
         {
          "biases": 7.375,
          "count": 0,
          "weights": -3.25
         },
         {
          "biases": 8.125,
          "count": 0,
          "weights": -3.25
         },
         {
          "biases": 8.875,
          "count": 0,
          "weights": -3.25
         },
         {
          "biases": 9.625,
          "count": 22,
          "weights": -3.25
         },
         {
          "biases": -4.625,
          "count": 0,
          "weights": -2.75
         },
         {
          "biases": -3.875,
          "count": 0,
          "weights": -2.75
         },
         {
          "biases": -3.125,
          "count": 0,
          "weights": -2.75
         },
         {
          "biases": -2.375,
          "count": 0,
          "weights": -2.75
         },
         {
          "biases": -1.625,
          "count": 0,
          "weights": -2.75
         },
         {
          "biases": -0.875,
          "count": 0,
          "weights": -2.75
         },
         {
          "biases": -0.125,
          "count": 0,
          "weights": -2.75
         },
         {
          "biases": 0.625,
          "count": 0,
          "weights": -2.75
         },
         {
          "biases": 1.375,
          "count": 0,
          "weights": -2.75
         },
         {
          "biases": 2.125,
          "count": 0,
          "weights": -2.75
         },
         {
          "biases": 2.875,
          "count": 26430,
          "weights": -2.75
         },
         {
          "biases": 3.625,
          "count": 19455,
          "weights": -2.75
         },
         {
          "biases": 4.375,
          "count": 0,
          "weights": -2.75
         },
         {
          "biases": 5.125,
          "count": 0,
          "weights": -2.75
         },
         {
          "biases": 5.875,
          "count": 0,
          "weights": -2.75
         },
         {
          "biases": 6.625,
          "count": 0,
          "weights": -2.75
         },
         {
          "biases": 7.375,
          "count": 0,
          "weights": -2.75
         },
         {
          "biases": 8.125,
          "count": 0,
          "weights": -2.75
         },
         {
          "biases": 8.875,
          "count": 0,
          "weights": -2.75
         },
         {
          "biases": 9.625,
          "count": 4,
          "weights": -2.75
         },
         {
          "biases": -4.625,
          "count": 0,
          "weights": -2.25
         },
         {
          "biases": -3.875,
          "count": 0,
          "weights": -2.25
         },
         {
          "biases": -3.125,
          "count": 0,
          "weights": -2.25
         },
         {
          "biases": -2.375,
          "count": 0,
          "weights": -2.25
         },
         {
          "biases": -1.625,
          "count": 0,
          "weights": -2.25
         },
         {
          "biases": -0.875,
          "count": 0,
          "weights": -2.25
         },
         {
          "biases": -0.125,
          "count": 0,
          "weights": -2.25
         },
         {
          "biases": 0.625,
          "count": 0,
          "weights": -2.25
         },
         {
          "biases": 1.375,
          "count": 0,
          "weights": -2.25
         },
         {
          "biases": 2.125,
          "count": 0,
          "weights": -2.25
         },
         {
          "biases": 2.875,
          "count": 8536,
          "weights": -2.25
         },
         {
          "biases": 3.625,
          "count": 3223,
          "weights": -2.25
         },
         {
          "biases": 4.375,
          "count": 0,
          "weights": -2.25
         },
         {
          "biases": 5.125,
          "count": 0,
          "weights": -2.25
         },
         {
          "biases": 5.875,
          "count": 0,
          "weights": -2.25
         },
         {
          "biases": 6.625,
          "count": 0,
          "weights": -2.25
         },
         {
          "biases": 7.375,
          "count": 0,
          "weights": -2.25
         },
         {
          "biases": 8.125,
          "count": 0,
          "weights": -2.25
         },
         {
          "biases": 8.875,
          "count": 0,
          "weights": -2.25
         },
         {
          "biases": 9.625,
          "count": 20,
          "weights": -2.25
         },
         {
          "biases": -4.625,
          "count": 0,
          "weights": -1.75
         },
         {
          "biases": -3.875,
          "count": 0,
          "weights": -1.75
         },
         {
          "biases": -3.125,
          "count": 0,
          "weights": -1.75
         },
         {
          "biases": -2.375,
          "count": 0,
          "weights": -1.75
         },
         {
          "biases": -1.625,
          "count": 0,
          "weights": -1.75
         },
         {
          "biases": -0.875,
          "count": 0,
          "weights": -1.75
         },
         {
          "biases": -0.125,
          "count": 0,
          "weights": -1.75
         },
         {
          "biases": 0.625,
          "count": 0,
          "weights": -1.75
         },
         {
          "biases": 1.375,
          "count": 0,
          "weights": -1.75
         },
         {
          "biases": 2.125,
          "count": 5,
          "weights": -1.75
         },
         {
          "biases": 2.875,
          "count": 1333,
          "weights": -1.75
         },
         {
          "biases": 3.625,
          "count": 0,
          "weights": -1.75
         },
         {
          "biases": 4.375,
          "count": 0,
          "weights": -1.75
         },
         {
          "biases": 5.125,
          "count": 0,
          "weights": -1.75
         },
         {
          "biases": 5.875,
          "count": 0,
          "weights": -1.75
         },
         {
          "biases": 6.625,
          "count": 0,
          "weights": -1.75
         },
         {
          "biases": 7.375,
          "count": 0,
          "weights": -1.75
         },
         {
          "biases": 8.125,
          "count": 0,
          "weights": -1.75
         },
         {
          "biases": 8.875,
          "count": 0,
          "weights": -1.75
         },
         {
          "biases": 9.625,
          "count": 392,
          "weights": -1.75
         },
         {
          "biases": -4.625,
          "count": 0,
          "weights": -1.25
         },
         {
          "biases": -3.875,
          "count": 0,
          "weights": -1.25
         },
         {
          "biases": -3.125,
          "count": 0,
          "weights": -1.25
         },
         {
          "biases": -2.375,
          "count": 0,
          "weights": -1.25
         },
         {
          "biases": -1.625,
          "count": 0,
          "weights": -1.25
         },
         {
          "biases": -0.875,
          "count": 0,
          "weights": -1.25
         },
         {
          "biases": -0.125,
          "count": 0,
          "weights": -1.25
         },
         {
          "biases": 0.625,
          "count": 0,
          "weights": -1.25
         },
         {
          "biases": 1.375,
          "count": 10,
          "weights": -1.25
         },
         {
          "biases": 2.125,
          "count": 72,
          "weights": -1.25
         },
         {
          "biases": 2.875,
          "count": 107,
          "weights": -1.25
         },
         {
          "biases": 3.625,
          "count": 0,
          "weights": -1.25
         },
         {
          "biases": 4.375,
          "count": 0,
          "weights": -1.25
         },
         {
          "biases": 5.125,
          "count": 50,
          "weights": -1.25
         },
         {
          "biases": 5.875,
          "count": 0,
          "weights": -1.25
         },
         {
          "biases": 6.625,
          "count": 0,
          "weights": -1.25
         },
         {
          "biases": 7.375,
          "count": 9,
          "weights": -1.25
         },
         {
          "biases": 8.125,
          "count": 0,
          "weights": -1.25
         },
         {
          "biases": 8.875,
          "count": 375,
          "weights": -1.25
         },
         {
          "biases": 9.625,
          "count": 135,
          "weights": -1.25
         },
         {
          "biases": -4.625,
          "count": 0,
          "weights": -0.75
         },
         {
          "biases": -3.875,
          "count": 0,
          "weights": -0.75
         },
         {
          "biases": -3.125,
          "count": 0,
          "weights": -0.75
         },
         {
          "biases": -2.375,
          "count": 0,
          "weights": -0.75
         },
         {
          "biases": -1.625,
          "count": 0,
          "weights": -0.75
         },
         {
          "biases": -0.875,
          "count": 0,
          "weights": -0.75
         },
         {
          "biases": -0.125,
          "count": 0,
          "weights": -0.75
         },
         {
          "biases": 0.625,
          "count": 0,
          "weights": -0.75
         },
         {
          "biases": 1.375,
          "count": 0,
          "weights": -0.75
         },
         {
          "biases": 2.125,
          "count": 0,
          "weights": -0.75
         },
         {
          "biases": 2.875,
          "count": 90,
          "weights": -0.75
         },
         {
          "biases": 3.625,
          "count": 75,
          "weights": -0.75
         },
         {
          "biases": 4.375,
          "count": 0,
          "weights": -0.75
         },
         {
          "biases": 5.125,
          "count": 43,
          "weights": -0.75
         },
         {
          "biases": 5.875,
          "count": 0,
          "weights": -0.75
         },
         {
          "biases": 6.625,
          "count": 0,
          "weights": -0.75
         },
         {
          "biases": 7.375,
          "count": 0,
          "weights": -0.75
         },
         {
          "biases": 8.125,
          "count": 0,
          "weights": -0.75
         },
         {
          "biases": 8.875,
          "count": 25,
          "weights": -0.75
         },
         {
          "biases": 9.625,
          "count": 47,
          "weights": -0.75
         },
         {
          "biases": -4.625,
          "count": 0,
          "weights": -0.25
         },
         {
          "biases": -3.875,
          "count": 0,
          "weights": -0.25
         },
         {
          "biases": -3.125,
          "count": 0,
          "weights": -0.25
         },
         {
          "biases": -2.375,
          "count": 0,
          "weights": -0.25
         },
         {
          "biases": -1.625,
          "count": 0,
          "weights": -0.25
         },
         {
          "biases": -0.875,
          "count": 0,
          "weights": -0.25
         },
         {
          "biases": -0.125,
          "count": 0,
          "weights": -0.25
         },
         {
          "biases": 0.625,
          "count": 0,
          "weights": -0.25
         },
         {
          "biases": 1.375,
          "count": 0,
          "weights": -0.25
         },
         {
          "biases": 2.125,
          "count": 0,
          "weights": -0.25
         },
         {
          "biases": 2.875,
          "count": 121,
          "weights": -0.25
         },
         {
          "biases": 3.625,
          "count": 24,
          "weights": -0.25
         },
         {
          "biases": 4.375,
          "count": 0,
          "weights": -0.25
         },
         {
          "biases": 5.125,
          "count": 0,
          "weights": -0.25
         },
         {
          "biases": 5.875,
          "count": 0,
          "weights": -0.25
         },
         {
          "biases": 6.625,
          "count": 10,
          "weights": -0.25
         },
         {
          "biases": 7.375,
          "count": 0,
          "weights": -0.25
         },
         {
          "biases": 8.125,
          "count": 0,
          "weights": -0.25
         },
         {
          "biases": 8.875,
          "count": 115,
          "weights": -0.25
         },
         {
          "biases": 9.625,
          "count": 125,
          "weights": -0.25
         },
         {
          "biases": -4.625,
          "count": 0,
          "weights": 0.25
         },
         {
          "biases": -3.875,
          "count": 0,
          "weights": 0.25
         },
         {
          "biases": -3.125,
          "count": 0,
          "weights": 0.25
         },
         {
          "biases": -2.375,
          "count": 0,
          "weights": 0.25
         },
         {
          "biases": -1.625,
          "count": 0,
          "weights": 0.25
         },
         {
          "biases": -0.875,
          "count": 0,
          "weights": 0.25
         },
         {
          "biases": -0.125,
          "count": 0,
          "weights": 0.25
         },
         {
          "biases": 0.625,
          "count": 0,
          "weights": 0.25
         },
         {
          "biases": 1.375,
          "count": 1,
          "weights": 0.25
         },
         {
          "biases": 2.125,
          "count": 0,
          "weights": 0.25
         },
         {
          "biases": 2.875,
          "count": 38,
          "weights": 0.25
         },
         {
          "biases": 3.625,
          "count": 0,
          "weights": 0.25
         },
         {
          "biases": 4.375,
          "count": 0,
          "weights": 0.25
         },
         {
          "biases": 5.125,
          "count": 3,
          "weights": 0.25
         },
         {
          "biases": 5.875,
          "count": 10,
          "weights": 0.25
         },
         {
          "biases": 6.625,
          "count": 5,
          "weights": 0.25
         },
         {
          "biases": 7.375,
          "count": 87,
          "weights": 0.25
         },
         {
          "biases": 8.125,
          "count": 0,
          "weights": 0.25
         },
         {
          "biases": 8.875,
          "count": 14,
          "weights": 0.25
         },
         {
          "biases": 9.625,
          "count": 25,
          "weights": 0.25
         },
         {
          "biases": -4.625,
          "count": 0,
          "weights": 0.75
         },
         {
          "biases": -3.875,
          "count": 0,
          "weights": 0.75
         },
         {
          "biases": -3.125,
          "count": 0,
          "weights": 0.75
         },
         {
          "biases": -2.375,
          "count": 0,
          "weights": 0.75
         },
         {
          "biases": -1.625,
          "count": 0,
          "weights": 0.75
         },
         {
          "biases": -0.875,
          "count": 0,
          "weights": 0.75
         },
         {
          "biases": -0.125,
          "count": 0,
          "weights": 0.75
         },
         {
          "biases": 0.625,
          "count": 0,
          "weights": 0.75
         },
         {
          "biases": 1.375,
          "count": 0,
          "weights": 0.75
         },
         {
          "biases": 2.125,
          "count": 0,
          "weights": 0.75
         },
         {
          "biases": 2.875,
          "count": 0,
          "weights": 0.75
         },
         {
          "biases": 3.625,
          "count": 0,
          "weights": 0.75
         },
         {
          "biases": 4.375,
          "count": 0,
          "weights": 0.75
         },
         {
          "biases": 5.125,
          "count": 0,
          "weights": 0.75
         },
         {
          "biases": 5.875,
          "count": 115,
          "weights": 0.75
         },
         {
          "biases": 6.625,
          "count": 73,
          "weights": 0.75
         },
         {
          "biases": 7.375,
          "count": 32,
          "weights": 0.75
         },
         {
          "biases": 8.125,
          "count": 0,
          "weights": 0.75
         },
         {
          "biases": 8.875,
          "count": 0,
          "weights": 0.75
         },
         {
          "biases": 9.625,
          "count": 19,
          "weights": 0.75
         },
         {
          "biases": -4.625,
          "count": 0,
          "weights": 1.25
         },
         {
          "biases": -3.875,
          "count": 0,
          "weights": 1.25
         },
         {
          "biases": -3.125,
          "count": 0,
          "weights": 1.25
         },
         {
          "biases": -2.375,
          "count": 0,
          "weights": 1.25
         },
         {
          "biases": -1.625,
          "count": 0,
          "weights": 1.25
         },
         {
          "biases": -0.875,
          "count": 0,
          "weights": 1.25
         },
         {
          "biases": -0.125,
          "count": 0,
          "weights": 1.25
         },
         {
          "biases": 0.625,
          "count": 0,
          "weights": 1.25
         },
         {
          "biases": 1.375,
          "count": 0,
          "weights": 1.25
         },
         {
          "biases": 2.125,
          "count": 0,
          "weights": 1.25
         },
         {
          "biases": 2.875,
          "count": 0,
          "weights": 1.25
         },
         {
          "biases": 3.625,
          "count": 0,
          "weights": 1.25
         },
         {
          "biases": 4.375,
          "count": 0,
          "weights": 1.25
         },
         {
          "biases": 5.125,
          "count": 0,
          "weights": 1.25
         },
         {
          "biases": 5.875,
          "count": 164,
          "weights": 1.25
         },
         {
          "biases": 6.625,
          "count": 167,
          "weights": 1.25
         },
         {
          "biases": 7.375,
          "count": 0,
          "weights": 1.25
         },
         {
          "biases": 8.125,
          "count": 0,
          "weights": 1.25
         },
         {
          "biases": 8.875,
          "count": 0,
          "weights": 1.25
         },
         {
          "biases": 9.625,
          "count": 7,
          "weights": 1.25
         },
         {
          "biases": -4.625,
          "count": 0,
          "weights": 1.75
         },
         {
          "biases": -3.875,
          "count": 0,
          "weights": 1.75
         },
         {
          "biases": -3.125,
          "count": 0,
          "weights": 1.75
         },
         {
          "biases": -2.375,
          "count": 0,
          "weights": 1.75
         },
         {
          "biases": -1.625,
          "count": 0,
          "weights": 1.75
         },
         {
          "biases": -0.875,
          "count": 0,
          "weights": 1.75
         },
         {
          "biases": -0.125,
          "count": 0,
          "weights": 1.75
         },
         {
          "biases": 0.625,
          "count": 0,
          "weights": 1.75
         },
         {
          "biases": 1.375,
          "count": 0,
          "weights": 1.75
         },
         {
          "biases": 2.125,
          "count": 0,
          "weights": 1.75
         },
         {
          "biases": 2.875,
          "count": 0,
          "weights": 1.75
         },
         {
          "biases": 3.625,
          "count": 0,
          "weights": 1.75
         },
         {
          "biases": 4.375,
          "count": 0,
          "weights": 1.75
         },
         {
          "biases": 5.125,
          "count": 0,
          "weights": 1.75
         },
         {
          "biases": 5.875,
          "count": 19,
          "weights": 1.75
         },
         {
          "biases": 6.625,
          "count": 412,
          "weights": 1.75
         },
         {
          "biases": 7.375,
          "count": 0,
          "weights": 1.75
         },
         {
          "biases": 8.125,
          "count": 0,
          "weights": 1.75
         },
         {
          "biases": 8.875,
          "count": 0,
          "weights": 1.75
         },
         {
          "biases": 9.625,
          "count": 0,
          "weights": 1.75
         },
         {
          "biases": -4.625,
          "count": 0,
          "weights": 2.25
         },
         {
          "biases": -3.875,
          "count": 0,
          "weights": 2.25
         },
         {
          "biases": -3.125,
          "count": 0,
          "weights": 2.25
         },
         {
          "biases": -2.375,
          "count": 0,
          "weights": 2.25
         },
         {
          "biases": -1.625,
          "count": 0,
          "weights": 2.25
         },
         {
          "biases": -0.875,
          "count": 0,
          "weights": 2.25
         },
         {
          "biases": -0.125,
          "count": 56799,
          "weights": 2.25
         },
         {
          "biases": 0.625,
          "count": 2667,
          "weights": 2.25
         },
         {
          "biases": 1.375,
          "count": 0,
          "weights": 2.25
         },
         {
          "biases": 2.125,
          "count": 0,
          "weights": 2.25
         },
         {
          "biases": 2.875,
          "count": 0,
          "weights": 2.25
         },
         {
          "biases": 3.625,
          "count": 0,
          "weights": 2.25
         },
         {
          "biases": 4.375,
          "count": 0,
          "weights": 2.25
         },
         {
          "biases": 5.125,
          "count": 0,
          "weights": 2.25
         },
         {
          "biases": 5.875,
          "count": 32078,
          "weights": 2.25
         },
         {
          "biases": 6.625,
          "count": 17071,
          "weights": 2.25
         },
         {
          "biases": 7.375,
          "count": 0,
          "weights": 2.25
         },
         {
          "biases": 8.125,
          "count": 0,
          "weights": 2.25
         },
         {
          "biases": 8.875,
          "count": 0,
          "weights": 2.25
         },
         {
          "biases": 9.625,
          "count": 47,
          "weights": 2.25
         },
         {
          "biases": -4.625,
          "count": 0,
          "weights": 2.75
         },
         {
          "biases": -3.875,
          "count": 0,
          "weights": 2.75
         },
         {
          "biases": -3.125,
          "count": 0,
          "weights": 2.75
         },
         {
          "biases": -2.375,
          "count": 0,
          "weights": 2.75
         },
         {
          "biases": -1.625,
          "count": 0,
          "weights": 2.75
         },
         {
          "biases": -0.875,
          "count": 0,
          "weights": 2.75
         },
         {
          "biases": -0.125,
          "count": 0,
          "weights": 2.75
         },
         {
          "biases": 0.625,
          "count": 0,
          "weights": 2.75
         },
         {
          "biases": 1.375,
          "count": 0,
          "weights": 2.75
         },
         {
          "biases": 2.125,
          "count": 0,
          "weights": 2.75
         },
         {
          "biases": 2.875,
          "count": 0,
          "weights": 2.75
         },
         {
          "biases": 3.625,
          "count": 0,
          "weights": 2.75
         },
         {
          "biases": 4.375,
          "count": 0,
          "weights": 2.75
         },
         {
          "biases": 5.125,
          "count": 15,
          "weights": 2.75
         },
         {
          "biases": 5.875,
          "count": 6033,
          "weights": 2.75
         },
         {
          "biases": 6.625,
          "count": 2492,
          "weights": 2.75
         },
         {
          "biases": 7.375,
          "count": 0,
          "weights": 2.75
         },
         {
          "biases": 8.125,
          "count": 0,
          "weights": 2.75
         },
         {
          "biases": 8.875,
          "count": 0,
          "weights": 2.75
         },
         {
          "biases": 9.625,
          "count": 77,
          "weights": 2.75
         },
         {
          "biases": -4.625,
          "count": 0,
          "weights": 3.25
         },
         {
          "biases": -3.875,
          "count": 0,
          "weights": 3.25
         },
         {
          "biases": -3.125,
          "count": 0,
          "weights": 3.25
         },
         {
          "biases": -2.375,
          "count": 0,
          "weights": 3.25
         },
         {
          "biases": -1.625,
          "count": 0,
          "weights": 3.25
         },
         {
          "biases": -0.875,
          "count": 0,
          "weights": 3.25
         },
         {
          "biases": -0.125,
          "count": 0,
          "weights": 3.25
         },
         {
          "biases": 0.625,
          "count": 0,
          "weights": 3.25
         },
         {
          "biases": 1.375,
          "count": 0,
          "weights": 3.25
         },
         {
          "biases": 2.125,
          "count": 0,
          "weights": 3.25
         },
         {
          "biases": 2.875,
          "count": 0,
          "weights": 3.25
         },
         {
          "biases": 3.625,
          "count": 0,
          "weights": 3.25
         },
         {
          "biases": 4.375,
          "count": 0,
          "weights": 3.25
         },
         {
          "biases": 5.125,
          "count": 0,
          "weights": 3.25
         },
         {
          "biases": 5.875,
          "count": 0,
          "weights": 3.25
         },
         {
          "biases": 6.625,
          "count": 0,
          "weights": 3.25
         },
         {
          "biases": 7.375,
          "count": 0,
          "weights": 3.25
         },
         {
          "biases": 8.125,
          "count": 0,
          "weights": 3.25
         },
         {
          "biases": 8.875,
          "count": 0,
          "weights": 3.25
         },
         {
          "biases": 9.625,
          "count": 4,
          "weights": 3.25
         },
         {
          "biases": -4.625,
          "count": 0,
          "weights": 3.75
         },
         {
          "biases": -3.875,
          "count": 0,
          "weights": 3.75
         },
         {
          "biases": -3.125,
          "count": 0,
          "weights": 3.75
         },
         {
          "biases": -2.375,
          "count": 0,
          "weights": 3.75
         },
         {
          "biases": -1.625,
          "count": 0,
          "weights": 3.75
         },
         {
          "biases": -0.875,
          "count": 0,
          "weights": 3.75
         },
         {
          "biases": -0.125,
          "count": 7,
          "weights": 3.75
         },
         {
          "biases": 0.625,
          "count": 0,
          "weights": 3.75
         },
         {
          "biases": 1.375,
          "count": 0,
          "weights": 3.75
         },
         {
          "biases": 2.125,
          "count": 0,
          "weights": 3.75
         },
         {
          "biases": 2.875,
          "count": 0,
          "weights": 3.75
         },
         {
          "biases": 3.625,
          "count": 0,
          "weights": 3.75
         },
         {
          "biases": 4.375,
          "count": 0,
          "weights": 3.75
         },
         {
          "biases": 5.125,
          "count": 13,
          "weights": 3.75
         },
         {
          "biases": 5.875,
          "count": 0,
          "weights": 3.75
         },
         {
          "biases": 6.625,
          "count": 0,
          "weights": 3.75
         },
         {
          "biases": 7.375,
          "count": 0,
          "weights": 3.75
         },
         {
          "biases": 8.125,
          "count": 0,
          "weights": 3.75
         },
         {
          "biases": 8.875,
          "count": 0,
          "weights": 3.75
         },
         {
          "biases": 9.625,
          "count": 110,
          "weights": 3.75
         },
         {
          "biases": -4.625,
          "count": 0,
          "weights": 4.25
         },
         {
          "biases": -3.875,
          "count": 0,
          "weights": 4.25
         },
         {
          "biases": -3.125,
          "count": 0,
          "weights": 4.25
         },
         {
          "biases": -2.375,
          "count": 0,
          "weights": 4.25
         },
         {
          "biases": -1.625,
          "count": 0,
          "weights": 4.25
         },
         {
          "biases": -0.875,
          "count": 0,
          "weights": 4.25
         },
         {
          "biases": -0.125,
          "count": 0,
          "weights": 4.25
         },
         {
          "biases": 0.625,
          "count": 0,
          "weights": 4.25
         },
         {
          "biases": 1.375,
          "count": 0,
          "weights": 4.25
         },
         {
          "biases": 2.125,
          "count": 0,
          "weights": 4.25
         },
         {
          "biases": 2.875,
          "count": 0,
          "weights": 4.25
         },
         {
          "biases": 3.625,
          "count": 0,
          "weights": 4.25
         },
         {
          "biases": 4.375,
          "count": 0,
          "weights": 4.25
         },
         {
          "biases": 5.125,
          "count": 0,
          "weights": 4.25
         },
         {
          "biases": 5.875,
          "count": 0,
          "weights": 4.25
         },
         {
          "biases": 6.625,
          "count": 0,
          "weights": 4.25
         },
         {
          "biases": 7.375,
          "count": 0,
          "weights": 4.25
         },
         {
          "biases": 8.125,
          "count": 0,
          "weights": 4.25
         },
         {
          "biases": 8.875,
          "count": 0,
          "weights": 4.25
         },
         {
          "biases": 9.625,
          "count": 19,
          "weights": 4.25
         },
         {
          "biases": -4.625,
          "count": 0,
          "weights": 4.75
         },
         {
          "biases": -3.875,
          "count": 0,
          "weights": 4.75
         },
         {
          "biases": -3.125,
          "count": 0,
          "weights": 4.75
         },
         {
          "biases": -2.375,
          "count": 0,
          "weights": 4.75
         },
         {
          "biases": -1.625,
          "count": 0,
          "weights": 4.75
         },
         {
          "biases": -0.875,
          "count": 0,
          "weights": 4.75
         },
         {
          "biases": -0.125,
          "count": 0,
          "weights": 4.75
         },
         {
          "biases": 0.625,
          "count": 0,
          "weights": 4.75
         },
         {
          "biases": 1.375,
          "count": 0,
          "weights": 4.75
         },
         {
          "biases": 2.125,
          "count": 0,
          "weights": 4.75
         },
         {
          "biases": 2.875,
          "count": 0,
          "weights": 4.75
         },
         {
          "biases": 3.625,
          "count": 0,
          "weights": 4.75
         },
         {
          "biases": 4.375,
          "count": 0,
          "weights": 4.75
         },
         {
          "biases": 5.125,
          "count": 0,
          "weights": 4.75
         },
         {
          "biases": 5.875,
          "count": 0,
          "weights": 4.75
         },
         {
          "biases": 6.625,
          "count": 0,
          "weights": 4.75
         },
         {
          "biases": 7.375,
          "count": 0,
          "weights": 4.75
         },
         {
          "biases": 8.125,
          "count": 0,
          "weights": 4.75
         },
         {
          "biases": 8.875,
          "count": 0,
          "weights": 4.75
         },
         {
          "biases": 9.625,
          "count": 51,
          "weights": 4.75
         }
        ]
       },
       "description": "Plot",
       "height": 300,
       "layer": [
        {
         "encoding": {
          "fill": {
           "field": "count",
           "scale": {
            "scheme": {
             "extent": [
              0,
              1
             ],
             "name": "blues"
            }
           },
           "type": "quantitative"
          },
          "stroke": {
           "field": "count",
           "legend": {
            "type": "gradient"
           },
           "scale": {
            "scheme": {
             "extent": [
              0,
              1
             ],
             "name": "blues"
            }
           },
           "type": "quantitative"
          },
          "x": {
           "axis": {
            "gridOpacity": 0.1
           },
           "field": "biases",
           "type": "nominal"
          },
          "y": {
           "axis": {
            "gridOpacity": 0.1
           },
           "field": "weights",
           "sort": "descending",
           "type": "nominal"
          }
         },
         "mark": "rect"
        }
       ],
       "width": 600
      },
      "image/png": "[encoded data removed]"
     },
     "metadata": {},
     "output_type": "display_data"
    }
   ],
   "source": [
    "ws = mconcat $ toList . weights . fst <$> predicted\n",
    "bs = mconcat $ toList . biass . fst <$> predicted\n",
    "\n",
    "hist = histo2D (-5, 20, 10) (-5, 20, 5) (zip bs ws)\n",
    "cents = Vec.toList $ DH.binsCenters $ DH.bins hist\n",
    "val = Vec.toList $ DH.histData hist\n",
    "\n",
    "vlShow $\n",
    "  plot\n",
    "    (600, 300)\n",
    "    (L [imagePlot \"biases\" \"weights\" \"count\"])\n",
    "    ( Cols\n",
    "        [ (\"biases\", VL.Numbers (fst <$> cents)),\n",
    "          (\"weights\", VL.Numbers (snd <$> cents)),\n",
    "          (\"count\", VL.Numbers val)]\n",
    "    )"
   ]
  },
  {
   "cell_type": "markdown",
   "metadata": {},
   "source": [
    "The x-axis shows the step positions (`biasVec`) and the y-axis shows the step amplitudes (`weightVec`).\n",
    "We have trained a three-node (_i.e._ three-step) neural network, so we see three modes in the histogram:\n",
    "around `(0, 2)`, around `(3, -3)` and around `(6, 2)`.\n",
    "Indeed, these are the steps that are fitting the sinus.\n",
    "These values are rather imprecise because we are trying to fit a sine wave with step functions.\n",
    "\n",
    "## Conclusion\n",
    "\n",
    "In a handful of lines of Haskell, we have trained a simple neural network.\n",
    "We could do this not because monad-bayes has some prior knowledge of neural networks, but because monad-bayes is completely agnostic on the types over which it can sample.\n",
    "\n",
    "We're not advertising, of course, using this method to train real-life neural network.\n",
    "It's pretty naive, but you will probably agree that it was very short, and hopefully illuminating.\n",
    "\n",
    "The `forwardNN`, and `errorModel` function play roles that are somewhat similar to the roles of the forward model and the loss function in more standard, optimization-based neural network training algorithms.\n",
    "\n",
    "Real-life neural networks have millions of parameters, and you will need to use more bespoke methods to use them for Bayesian inference.\n",
    "That being said, there are practical implementation based on Bayesian inference, such as [this tensorflow/edward example](http://edwardlib.org/tutorials/bayesian-neural-network).\n",
    "Such implementations use domain-specific sampling methods.\n",
    "\n",
    "Stay tuned for future blog posts, where we will further explore the expressiveness of monad-bayes."
   ]
  }
 ],
 "metadata": {
  "kernelspec": {
   "display_name": "Haskell - monad-bayes",
   "language": "haskell",
   "name": "ihaskell_monad-bayes"
  },
  "language_info": {
   "codemirror_mode": "Haskell",
   "file_extension": ".hs",
   "mimetype": "text/x-haskell",
   "name": "haskell",
   "pygments_lexer": "Haskell",
   "version": "8.6.5"
  }
 },
 "nbformat": 4,
 "nbformat_minor": 4
}
